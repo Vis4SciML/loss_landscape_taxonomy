{
 "cells": [
  {
   "cell_type": "code",
   "execution_count": 2,
   "metadata": {},
   "outputs": [],
   "source": [
    "import matplotlib.pyplot as plt\n",
    "import matplotlib as mpl\n",
    "import numpy as np\n",
    "import pickle\n",
    "import os\n",
    "from mpl_toolkits.axes_grid1 import make_axes_locatable\n",
    "from matplotlib.ticker import StrMethodFormatter"
   ]
  },
  {
   "cell_type": "code",
   "execution_count": 3,
   "metadata": {},
   "outputs": [],
   "source": [
    "def get_metric_file(ckpt_folder, metric):\n",
    "    if metric == 'test_acc':\n",
    "        file_name = os.path.join(ckpt_folder, 'metrics/', 'loss_acc_gaussian1.0_np.pkl')\n",
    "    elif metric == 'loss':\n",
    "        file_name = os.path.join(ckpt_folder, 'metrics/', 'loss_acc_gaussian1.0_np.pkl')\n",
    "    elif metric == 'CKA':\n",
    "        file_name = os.path.join(ckpt_folder, 'metrics/', 'CKA_mixup_alpha_16.pkl')\n",
    "    elif 'hessian' in metric:\n",
    "        file_name = os.path.join(ckpt_folder, 'metrics/', 'hessian.pkl')\n",
    "    elif metric == 'mode_connectivity':\n",
    "        file_name = os.path.join(ckpt_folder, 'metrics/', 'curve_test.npz')\n",
    "    elif metric == 'L2':\n",
    "        file_name = os.path.join(ckpt_folder, 'metrics/', 'model_dist.pkl')\n",
    "    elif metric == 'neural_eff':\n",
    "        file_name = os.path.join(ckpt_folder, 'metrics/', 'neural_eff.pkl')\n",
    "    elif metric == 'gradient':\n",
    "        file_name = os.path.join(ckpt_folder, 'metrics/', 'gradient.pkl')\n",
    "    elif metric == 'fisher':\n",
    "        file_name = os.path.join(ckpt_folder, 'metrics/', 'fisher.pkl')\n",
    "    # print(file_name)\n",
    "    assert os.path.exists(file_name), f'File {file_name} does not exist'\n",
    "    return file_name"
   ]
  },
  {
   "cell_type": "code",
   "execution_count": 16,
   "metadata": {},
   "outputs": [],
   "source": [
    "def get_metric_val(metric_file, metric):\n",
    "    \n",
    "    if metric == 'test_acc':\n",
    "        results = pickle.load(open(metric_file, 'rb'))\n",
    "        return np.mean([results[n]['accuracy'] for n in range(3)])\n",
    "    if metric == 'loss':\n",
    "        results = pickle.load(open(metric_file, 'rb'))\n",
    "        return np.mean([results[n]['loss'] for n in range(3)])\n",
    "    elif metric == 'neural_eff':\n",
    "        results = pickle.load(open(metric_file, 'rb'))\n",
    "        return np.mean(results)\n",
    "    elif metric == 'gradient':\n",
    "        results = pickle.load(open(metric_file, 'rb'))\n",
    "        return np.mean(results)\n",
    "    elif metric == 'fisher':\n",
    "        results = pickle.load(open(metric_file, 'rb'))\n",
    "        return np.mean(results)\n",
    "    elif metric == 'CKA':\n",
    "        results = pickle.load(open(metric_file, \"rb\"))\n",
    "        CKA_all = []\n",
    "        for exp_ind1 in range(3):\n",
    "            for exp_ind2 in range(3):\n",
    "                if exp_ind1 != exp_ind2:\n",
    "                    CKA_all.append(results['representation_similarity'][exp_ind1][exp_ind2][-1])\n",
    "        return np.mean(CKA_all)\n",
    "    elif 'hessian' in metric:\n",
    "        results = pickle.load(open(metric_file, \"rb\"))\n",
    "        if '_e' in metric:\n",
    "            return np.log(np.mean([results[n]['top_eigenvalue'][0] for n in range(3)]))\n",
    "        elif '_t' in metric:\n",
    "            # print(np.log(np.mean([results[n]['trace'] for n in range(3)])))\n",
    "            return np.mean([results[n]['trace'] for n in range(3)])\n",
    "            # return np.log(np.mean([results[n]['trace'] for n in range(3)]))\n",
    "    elif metric == 'mode_connectivity':\n",
    "        result = np.load(metric_file)['tr_err']\n",
    "        u = np.argmax(np.abs(result - (result[0] + result[4])/2))\n",
    "        return (result[0] + result[4])/2 - result[u]\n",
    "    elif metric == 'L2':\n",
    "        results = pickle.load(open(metric_file, \"rb\"))\n",
    "        dist_all = []\n",
    "        for exp_ind1 in range(3):\n",
    "            for exp_ind2 in range(3):\n",
    "                if exp_ind1 != exp_ind2:\n",
    "                    dist_all.append(results['model_distance'][exp_ind1][exp_ind2]['dist'])\n",
    "        return np.mean(dist_all)"
   ]
  },
  {
   "cell_type": "code",
   "execution_count": 24,
   "metadata": {},
   "outputs": [],
   "source": [
    "def vminmax(metric):\n",
    "    if metric == 'test_acc':\n",
    "        vmin, vmax = 0.32, .38\n",
    "        # vmin, vmax = 0.14, .25\n",
    "    elif metric == 'loss':\n",
    "        vmin, vmax = 37, 41\n",
    "    elif metric == 'CKA':\n",
    "        vmin, vmax = 0.85, .98\n",
    "    elif metric == 'mode_connectivity':\n",
    "        vmin, vmax = -30, 30\n",
    "    elif metric == 'L2':\n",
    "        vmin, vmax = 15, 23\n",
    "    elif metric == 'hessian_e':\n",
    "        vmin, vmax = 0, -4.5\n",
    "    elif metric == 'hessian_t':\n",
    "        vmin, vmax = 0, 12\n",
    "    elif metric == 'neural_eff':\n",
    "        vmin, vmax = 0, 1\n",
    "    elif metric == 'gradient':\n",
    "        vmin, vmax = -.6, .6\n",
    "    elif metric == 'fisher':\n",
    "        vmin, vmax = 0.2, 0.6\n",
    "        \n",
    "    return vmin, vmax"
   ]
  },
  {
   "cell_type": "code",
   "execution_count": 25,
   "metadata": {},
   "outputs": [],
   "source": [
    "def plot_2Dphase(phase2D, x_label_list, y_label_list, metric, metric_title):\n",
    "    \n",
    "    fig, ax = plt.subplots(1,1, figsize = (5,4))\n",
    "    \n",
    "    X,Y = np.meshgrid(x_label_list, y_label_list)\n",
    "    vmin, vmax = vminmax(metric)\n",
    "    \n",
    "    if metric == 'mode_connectivity':\n",
    "        pos = ax.pcolormesh(X,Y,phase2D, vmin=vmin, vmax=vmax, cmap=\"seismic\")\n",
    "    elif metric in ['L2', 'loss', 'hessian_e', 'hessian_t', 'neural_eff']:\n",
    "        pos = ax.pcolormesh(X,Y,phase2D , vmin=vmin, vmax=vmax, cmap=\"viridis\")\n",
    "    else:\n",
    "        pos = ax.pcolormesh(X,Y,phase2D, vmin=vmin, vmax=vmax, cmap=\"viridis\",edgecolors='k')\n",
    "    \n",
    "    ax.set_xscale(\"linear\")\n",
    "                \n",
    "    ax.set_yticks(y_label_list)\n",
    "    ax.set_yscale(\"log\")\n",
    "    ax.invert_yaxis()\n",
    "    \n",
    "    ax.set_xlabel('Bit Width', fontsize=20)\n",
    "    ax.set_ylabel(f'T (Batch Size)', fontsize=20)\n",
    "    ax.set_title(metric_title, fontsize=20)\n",
    "\n",
    "    divider = make_axes_locatable(ax)\n",
    "    cax = divider.append_axes(\"right\", size=\"5%\", pad=0.15)\n",
    "    cbar = plt.colorbar(pos, cax=cax)\n",
    "    cbar.ax.tick_params(labelsize=18)\n",
    "    plt.savefig(f'{metric}.png')"
   ]
  },
  {
   "cell_type": "code",
   "execution_count": 26,
   "metadata": {},
   "outputs": [
    {
     "name": "stdout",
     "output_type": "stream",
     "text": [
      "[6, 7, 8, 9, 10, 11]\n",
      "[16, 32, 64, 128, 256, 512, 1024]\n",
      "Metric : hessian_t - max/min : 12.024023181766658/0.0011720038097604694\n"
     ]
    },
    {
     "data": {
      "image/png": "[encoded data removed]",
      "text/plain": [
       "<Figure size 500x400 with 2 Axes>"
      ]
     },
     "metadata": {},
     "output_type": "display_data"
    }
   ],
   "source": [
    "width_list = [6, 7, 8, 9, 10,11]# [6,7, #[2, 3, 4, 6, 8, 11, 16, 23, 32, 45, 64, 91, 128]\n",
    "bs_list = [16, 32, 64, 128, 256, 512, 1024]\n",
    "lr_list = [0.1, 0.05, 0.025, 0.0125, 0.00625, 0.003125, 0.0015625]\n",
    "metric_list = ['hessian_t']\n",
    "# metric_list = ['fisher']#, 'loss']#, 'CKA', 'hessian_e', 'hessian_t', 'mode_connectivity', 'L2']\n",
    "# metric_list = ['test_acc', 'loss']#, 'CKA', 'hessian_e', 'hessian_t', 'mode_connectivity', 'L2']\n",
    "# metric_list = ['test_acc', 'loss', 'hessian_t', 'hessian_e', 'CKA', 'neural_eff']#, 'CKA', 'hessian_e', 'hessian_t', 'mode_connectivity', 'L2']\n",
    "# metric_list = ['test_acc', 'loss', 'hessian_t', 'hessian_e', 'CKA', 'neural_eff', 'gradient']#, 'CKA', 'hessian_e', 'hessian_t', 'mode_connectivity', 'L2']\n",
    "# metric_list = ['test_acc', 'loss', 'hessian_t']#, 'CKA', 'hessian_e', 'hessian_t', 'mode_connectivity', 'L2']\n",
    "# metric_list = ['test_acc', 'loss', 'hessian_t', 'CKA',]# 'hessian_e', 'hessian_t', 'mode_connectivity', 'L2']\n",
    "metric_title_list = ['Fisher', 'Test loss', 'Hessian trace', 'CKA', 'Model distance (L2)', 'Neural Efficiency', 'Gradient Traces', 'Model distance (L2)']\n",
    "metric_title_list = ['Hessian trace']\n",
    "\n",
    "# bs_list = lr_list\n",
    "\n",
    "for metric, metric_title in zip(metric_list, metric_title_list):\n",
    "\n",
    "    lenx = len(width_list)\n",
    "    leny = len(bs_list)\n",
    "    phase2D = np.zeros((leny, lenx))\n",
    "\n",
    "    for j,width in enumerate(width_list):\n",
    "        for i,lr in enumerate(bs_list):\n",
    "            # ckpt_folder = f'../../checkpoint/different_knobs_subset_10/lr_{lr}/lr_decay/JT_{width}b/'\n",
    "            ckpt_folder = f'../checkpoint/different_knobs_subset_10/bs_{lr}/normal/JT_{width}b/'\n",
    "            metric_file = get_metric_file(ckpt_folder, metric)\n",
    "            phase2D[i][j] = get_metric_val(metric_file, metric)\n",
    "    print(width_list)\n",
    "    print(bs_list)\n",
    "    print(f'Metric : {metric} - max/min : {phase2D.max()}/{phase2D.min()}')\n",
    "    plot_2Dphase(phase2D, width_list, bs_list, metric, metric_title)\n"
   ]
  },
  {
   "cell_type": "code",
   "execution_count": 27,
   "metadata": {},
   "outputs": [
    {
     "name": "stdout",
     "output_type": "stream",
     "text": [
      "0.0011720038097604694\n",
      "12.024023181766658\n"
     ]
    }
   ],
   "source": [
    "print(phase2D.min())\n",
    "print(phase2D.max())"
   ]
  },
  {
   "cell_type": "code",
   "execution_count": 28,
   "metadata": {},
   "outputs": [
    {
     "data": {
      "text/plain": [
       "array([[9.22397664e+00, 1.18715168e+01, 1.18445221e+01, 1.16986912e+01,\n",
       "        1.16253555e+01, 1.20240232e+01],\n",
       "       [4.35310424e-01, 8.90731441e-01, 1.30497555e-01, 8.06219264e-02,\n",
       "        3.14709554e-02, 1.17200381e-03],\n",
       "       [7.60651708e-01, 3.60340091e-01, 2.82861428e-01, 7.66216926e-02,\n",
       "        8.28352170e-02, 3.47751521e-02],\n",
       "       [7.10510304e-01, 3.38124111e-01, 2.25022592e-01, 1.44836560e-01,\n",
       "        4.19899968e-02, 2.48088943e-02],\n",
       "       [7.77697255e-01, 4.64310676e-01, 2.82417036e-01, 1.43169913e-01,\n",
       "        7.67852293e-02, 3.64772594e-02],\n",
       "       [1.00587361e+00, 8.04680015e-01, 3.59827690e-01, 1.43829264e-01,\n",
       "        9.20806225e-02, 5.36943359e-02],\n",
       "       [9.56549632e-01, 6.74035507e-01, 4.17192030e-01, 1.90832298e-01,\n",
       "        8.91530494e-02, 5.08718313e-02]])"
      ]
     },
     "execution_count": 28,
     "metadata": {},
     "output_type": "execute_result"
    }
   ],
   "source": [
    "phase2D"
   ]
  },
  {
   "cell_type": "code",
   "execution_count": 10,
   "metadata": {},
   "outputs": [],
   "source": [
    "from sklearn.preprocessing import normalize\n"
   ]
  },
  {
   "cell_type": "code",
   "execution_count": 184,
   "metadata": {},
   "outputs": [],
   "source": [
    "# phase2D[0] = np.array([4682.82568359, 4404.46289062, 5138.51220703, 4710.23242188, 5554.37548828, 5293.68017578])\n",
    "\n",
    "for idx in range(len(phase2D)):\n",
    "    phase2D[idx] = phase2D[idx] / np.linalg.norm(phase2D[idx])"
   ]
  },
  {
   "cell_type": "code",
   "execution_count": 185,
   "metadata": {},
   "outputs": [
    {
     "data": {
      "image/png": "[encoded data removed]",
      "text/plain": [
       "<Figure size 500x400 with 2 Axes>"
      ]
     },
     "metadata": {},
     "output_type": "display_data"
    }
   ],
   "source": [
    "\n",
    "\n",
    "plot_2Dphase(phase2D, width_list, bs_list, metric, metric_title)\n"
   ]
  },
  {
   "cell_type": "code",
   "execution_count": 186,
   "metadata": {},
   "outputs": [
    {
     "name": "stdout",
     "output_type": "stream",
     "text": [
      "0.2632078651587254\n",
      "0.5066821292471014\n"
     ]
    }
   ],
   "source": [
    "print(phase2D.min())\n",
    "print(phase2D.max())"
   ]
  },
  {
   "cell_type": "code",
   "execution_count": null,
   "metadata": {},
   "outputs": [],
   "source": []
  }
 ],
 "metadata": {
  "kernelspec": {
   "display_name": "Python 3 (ipykernel)",
   "language": "python",
   "name": "python3"
  },
  "language_info": {
   "codemirror_mode": {
    "name": "ipython",
    "version": 3
   },
   "file_extension": ".py",
   "mimetype": "text/x-python",
   "name": "python",
   "nbconvert_exporter": "python",
   "pygments_lexer": "ipython3",
   "version": "3.8.15"
  }
 },
 "nbformat": 4,
 "nbformat_minor": 4
}
