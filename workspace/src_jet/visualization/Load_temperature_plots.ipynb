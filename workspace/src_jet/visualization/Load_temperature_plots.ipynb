{
 "cells": [
  {
   "cell_type": "code",
   "execution_count": 1,
   "metadata": {},
   "outputs": [],
   "source": [
    "import matplotlib.pyplot as plt\n",
    "import matplotlib as mpl\n",
    "import numpy as np\n",
    "import pickle\n",
    "import os\n",
    "from mpl_toolkits.axes_grid1 import make_axes_locatable\n",
    "from matplotlib.ticker import StrMethodFormatter"
   ]
  },
  {
   "cell_type": "code",
   "execution_count": 7,
   "metadata": {},
   "outputs": [],
   "source": [
    "def get_metric_file(ckpt_folder, metric):\n",
    "    \n",
    "    if metric == 'test_acc':\n",
    "        file_name = os.path.join(ckpt_folder, 'metrics/', 'loss_acc_test.pkl')\n",
    "    elif metric == 'loss':\n",
    "        file_name = os.path.join(ckpt_folder, 'metrics/', 'loss_acc.pkl')\n",
    "    elif metric == 'CKA':\n",
    "        file_name = os.path.join(ckpt_folder, 'metrics/', 'CKA_mixup_alpha_16.0.pkl')\n",
    "    elif 'hessian' in metric:\n",
    "        file_name = os.path.join(ckpt_folder, 'metrics/', 'hessian.pkl')\n",
    "    elif metric == 'mode_connectivity':\n",
    "        file_name = os.path.join(ckpt_folder, 'metrics/', 'curve_test.npz')\n",
    "    elif metric == 'L2':\n",
    "        file_name = os.path.join(ckpt_folder, 'metrics/', 'model_dist.pkl')\n",
    "    print(file_name)\n",
    "    assert os.path.exists(file_name)\n",
    "    return file_name"
   ]
  },
  {
   "cell_type": "code",
   "execution_count": 3,
   "metadata": {},
   "outputs": [],
   "source": [
    "def get_metric_val(metric_file, metric):\n",
    "    \n",
    "    if metric == 'test_acc':\n",
    "        results = pickle.load(open(metric_file, 'rb'))\n",
    "        return np.mean([results[n]['accuracy'] for n in range(5)])\n",
    "    if metric == 'loss':\n",
    "        results = pickle.load(open(metric_file, 'rb'))\n",
    "        return np.mean([results[n]['loss'] for n in range(5)])\n",
    "    elif metric == 'CKA':\n",
    "        results = pickle.load(open(metric_file, \"rb\"))\n",
    "        CKA_all = []\n",
    "        for exp_ind1 in range(5):\n",
    "            for exp_ind2 in range(5):\n",
    "                if exp_ind1 != exp_ind2:\n",
    "                    CKA_all.append(results['representation_similarity'][exp_ind1][exp_ind2][-1])\n",
    "        return np.mean(CKA_all)\n",
    "    elif 'hessian' in metric:\n",
    "        results = pickle.load(open(metric_file, \"rb\"))\n",
    "        if '_e' in metric:\n",
    "            return np.log(np.mean([results[n]['top_eigenvalue'][0] for n in range(5)]))\n",
    "        elif '_t' in metric:\n",
    "            return np.log(np.mean([results[n]['trace'] for n in range(5)]))\n",
    "    elif metric == 'mode_connectivity':\n",
    "        result = np.load(metric_file)['tr_err']\n",
    "        u = np.argmax(np.abs(result - (result[0] + result[4])/2))\n",
    "        return (result[0] + result[4])/2 - result[u]\n",
    "    elif metric == 'L2':\n",
    "        results = pickle.load(open(metric_file, \"rb\"))\n",
    "        dist_all = []\n",
    "        for exp_ind1 in range(5):\n",
    "            for exp_ind2 in range(5):\n",
    "                if exp_ind1 != exp_ind2:\n",
    "                    dist_all.append(results['model_distance'][exp_ind1][exp_ind2]['dist'])\n",
    "        return np.mean(dist_all)"
   ]
  },
  {
   "cell_type": "code",
   "execution_count": 16,
   "metadata": {},
   "outputs": [],
   "source": [
    "def vminmax(metric):\n",
    "    if metric == 'test_acc':\n",
    "        vmin, vmax = 0, 80\n",
    "    elif metric == 'loss':\n",
    "        vmin, vmax = 0, 3\n",
    "    elif metric == 'CKA':\n",
    "        vmin, vmax = 0.3, 0.8\n",
    "    elif metric == 'mode_connectivity':\n",
    "        vmin, vmax = -30, 30\n",
    "    elif metric == 'L2':\n",
    "        vmin, vmax = 0, 100\n",
    "    elif metric == 'hessian_e':\n",
    "        vmin, vmax = 0, 6\n",
    "    elif metric == 'hessian_t':\n",
    "        vmin, vmax = 3, 8\n",
    "        \n",
    "    return vmin, vmax"
   ]
  },
  {
   "cell_type": "code",
   "execution_count": 17,
   "metadata": {},
   "outputs": [],
   "source": [
    "def plot_2Dphase(phase2D, x_label_list, y_label_list, metric, metric_title):\n",
    "    \n",
    "    fig, ax = plt.subplots(1,1, figsize = (5,4))\n",
    "    \n",
    "    X,Y = np.meshgrid(x_label_list, y_label_list)\n",
    "    vmin, vmax = vminmax(metric)\n",
    "    \n",
    "    if metric == 'mode_connectivity':\n",
    "        pos = ax.pcolormesh(X,Y,phase2D, vmin=vmin, vmax=vmax, cmap=\"seismic\")\n",
    "    elif metric in ['L2', 'loss', 'hessian_e', 'hessian_t']:\n",
    "        pos = ax.pcolormesh(X,Y,phase2D, vmin=vmin, vmax=vmax, cmap=\"viridis_r\")\n",
    "    else:\n",
    "        pos = ax.pcolormesh(X,Y,phase2D, vmin=vmin, vmax=vmax, cmap=\"viridis\",edgecolors='k')\n",
    "    \n",
    "    ax.set_xscale(\"log\")\n",
    "                \n",
    "    ax.set_yticks(y_label_list)\n",
    "    ax.set_yscale(\"log\")\n",
    "    ax.invert_yaxis()\n",
    "    \n",
    "    ax.set_xlabel('Width of model', fontsize=20)\n",
    "    ax.set_ylabel(f'T (Learning Rate)', fontsize=20)\n",
    "    ax.set_title(metric_title, fontsize=20)\n",
    "\n",
    "    divider = make_axes_locatable(ax)\n",
    "    cax = divider.append_axes(\"right\", size=\"5%\", pad=0.15)\n",
    "    cbar = plt.colorbar(pos, cax=cax)\n",
    "    cbar.ax.tick_params(labelsize=18)\n",
    "    plt.savefig(f'{metric}.png')"
   ]
  },
  {
   "cell_type": "code",
   "execution_count": 18,
   "metadata": {},
   "outputs": [
    {
     "name": "stdout",
     "output_type": "stream",
     "text": [
      "../../checkpoint/different_knobs_subset_10/lr_0.1/lr_decay/JT_10b/metrics/loss_acc_test.pkl\n",
      "../../checkpoint/different_knobs_subset_10/lr_0.05/lr_decay/JT_10b/metrics/loss_acc_test.pkl\n",
      "../../checkpoint/different_knobs_subset_10/lr_0.025/lr_decay/JT_10b/metrics/loss_acc_test.pkl\n",
      "../../checkpoint/different_knobs_subset_10/lr_0.0125/lr_decay/JT_10b/metrics/loss_acc_test.pkl\n",
      "../../checkpoint/different_knobs_subset_10/lr_0.00625/lr_decay/JT_10b/metrics/loss_acc_test.pkl\n",
      "../../checkpoint/different_knobs_subset_10/lr_0.003125/lr_decay/JT_10b/metrics/loss_acc_test.pkl\n",
      "../../checkpoint/different_knobs_subset_10/lr_0.0015625/lr_decay/JT_10b/metrics/loss_acc_test.pkl\n",
      "../../checkpoint/different_knobs_subset_10/lr_0.1/lr_decay/JT_11b/metrics/loss_acc_test.pkl\n",
      "../../checkpoint/different_knobs_subset_10/lr_0.05/lr_decay/JT_11b/metrics/loss_acc_test.pkl\n",
      "../../checkpoint/different_knobs_subset_10/lr_0.025/lr_decay/JT_11b/metrics/loss_acc_test.pkl\n",
      "../../checkpoint/different_knobs_subset_10/lr_0.0125/lr_decay/JT_11b/metrics/loss_acc_test.pkl\n",
      "../../checkpoint/different_knobs_subset_10/lr_0.00625/lr_decay/JT_11b/metrics/loss_acc_test.pkl\n",
      "../../checkpoint/different_knobs_subset_10/lr_0.003125/lr_decay/JT_11b/metrics/loss_acc_test.pkl\n",
      "../../checkpoint/different_knobs_subset_10/lr_0.0015625/lr_decay/JT_11b/metrics/loss_acc_test.pkl\n",
      "[10, 11]\n",
      "[0.1, 0.05, 0.025, 0.0125, 0.00625, 0.003125, 0.0015625]\n",
      "../../checkpoint/different_knobs_subset_10/lr_0.1/lr_decay/JT_10b/metrics/loss_acc.pkl\n"
     ]
    },
    {
     "ename": "AssertionError",
     "evalue": "",
     "output_type": "error",
     "traceback": [
      "\u001b[0;31m---------------------------------------------------------------------------\u001b[0m",
      "\u001b[0;31mAssertionError\u001b[0m                            Traceback (most recent call last)",
      "Input \u001b[0;32mIn [18]\u001b[0m, in \u001b[0;36m<module>\u001b[0;34m\u001b[0m\n\u001b[1;32m     14\u001b[0m     \u001b[38;5;28;01mfor\u001b[39;00m i,lr \u001b[38;5;129;01min\u001b[39;00m \u001b[38;5;28menumerate\u001b[39m(lr_list):\n\u001b[1;32m     15\u001b[0m         ckpt_folder \u001b[38;5;241m=\u001b[39m \u001b[38;5;124mf\u001b[39m\u001b[38;5;124m'\u001b[39m\u001b[38;5;124m../../checkpoint/different_knobs_subset_10/lr_\u001b[39m\u001b[38;5;132;01m{\u001b[39;00mlr\u001b[38;5;132;01m}\u001b[39;00m\u001b[38;5;124m/lr_decay/JT_\u001b[39m\u001b[38;5;132;01m{\u001b[39;00mwidth\u001b[38;5;132;01m}\u001b[39;00m\u001b[38;5;124mb/\u001b[39m\u001b[38;5;124m'\u001b[39m\n\u001b[0;32m---> 16\u001b[0m         metric_file \u001b[38;5;241m=\u001b[39m \u001b[43mget_metric_file\u001b[49m\u001b[43m(\u001b[49m\u001b[43mckpt_folder\u001b[49m\u001b[43m,\u001b[49m\u001b[43m \u001b[49m\u001b[43mmetric\u001b[49m\u001b[43m)\u001b[49m\n\u001b[1;32m     17\u001b[0m         phase2D[i][j] \u001b[38;5;241m=\u001b[39m get_metric_val(metric_file, metric)\n\u001b[1;32m     18\u001b[0m \u001b[38;5;28mprint\u001b[39m(width_list)\n",
      "Input \u001b[0;32mIn [7]\u001b[0m, in \u001b[0;36mget_metric_file\u001b[0;34m(ckpt_folder, metric)\u001b[0m\n\u001b[1;32m     14\u001b[0m     file_name \u001b[38;5;241m=\u001b[39m os\u001b[38;5;241m.\u001b[39mpath\u001b[38;5;241m.\u001b[39mjoin(ckpt_folder, \u001b[38;5;124m'\u001b[39m\u001b[38;5;124mmetrics/\u001b[39m\u001b[38;5;124m'\u001b[39m, \u001b[38;5;124m'\u001b[39m\u001b[38;5;124mmodel_dist.pkl\u001b[39m\u001b[38;5;124m'\u001b[39m)\n\u001b[1;32m     15\u001b[0m \u001b[38;5;28mprint\u001b[39m(file_name)\n\u001b[0;32m---> 16\u001b[0m \u001b[38;5;28;01massert\u001b[39;00m os\u001b[38;5;241m.\u001b[39mpath\u001b[38;5;241m.\u001b[39mexists(file_name)\n\u001b[1;32m     17\u001b[0m \u001b[38;5;28;01mreturn\u001b[39;00m file_name\n",
      "\u001b[0;31mAssertionError\u001b[0m: "
     ]
    },
    {
     "data": {
      "image/png": "[encoded data removed]",
      "text/plain": [
       "<Figure size 360x288 with 2 Axes>"
      ]
     },
     "metadata": {
      "needs_background": "light"
     },
     "output_type": "display_data"
    }
   ],
   "source": [
    "width_list = [10,11]# [6,7, #[2, 3, 4, 6, 8, 11, 16, 23, 32, 45, 64, 91, 128]\n",
    "bs_list = [16, 24, 32, 44, 64, 92, 128, 180, 256, 364, 512, 724, 1024]\n",
    "lr_list = [0.1, 0.05, 0.025, 0.0125, 0.00625, 0.003125, 0.0015625]\n",
    "metric_list = ['test_acc', 'loss']#, 'CKA', 'hessian_e', 'hessian_t', 'mode_connectivity', 'L2']\n",
    "metric_title_list = ['Test accuracy', 'Training loss', 'CKA similarity', 'Log Hessian eigenvalue', 'Hessian trace', 'Mode connectivity', 'Model distance (L2)']\n",
    "\n",
    "for metric, metric_title in zip(metric_list, metric_title_list):\n",
    "\n",
    "    lenx = len(width_list)\n",
    "    leny = len(bs_list)\n",
    "    phase2D = np.zeros((leny, lenx))\n",
    "\n",
    "    for j,width in enumerate(width_list):\n",
    "        for i,lr in enumerate(lr_list):\n",
    "            ckpt_folder = f'../../checkpoint/different_knobs_subset_10/lr_{lr}/lr_decay/JT_{width}b/'\n",
    "            metric_file = get_metric_file(ckpt_folder, metric)\n",
    "            phase2D[i][j] = get_metric_val(metric_file, metric)\n",
    "    print(width_list)\n",
    "    print(lr_list)\n",
    "    plot_2Dphase(phase2D, width_list, bs_list, metric, metric_title)\n",
    "    "
   ]
  },
  {
   "cell_type": "code",
   "execution_count": null,
   "metadata": {},
   "outputs": [],
   "source": []
  }
 ],
 "metadata": {
  "kernelspec": {
   "display_name": "Python 3 (ipykernel)",
   "language": "python",
   "name": "python3"
  },
  "language_info": {
   "codemirror_mode": {
    "name": "ipython",
    "version": 3
   },
   "file_extension": ".py",
   "mimetype": "text/x-python",
   "name": "python",
   "nbconvert_exporter": "python",
   "pygments_lexer": "ipython3",
   "version": "3.9.15"
  }
 },
 "nbformat": 4,
 "nbformat_minor": 4
}
