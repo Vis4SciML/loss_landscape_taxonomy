{
 "cells": [
  {
   "cell_type": "markdown",
   "metadata": {},
   "source": [
    "# Loss Landscape\n",
    "In this notebook we plot the loss landscape of the models to see how it is efffected by the quantization."
   ]
  },
  {
   "cell_type": "code",
   "execution_count": 1,
   "metadata": {},
   "outputs": [
    {
     "name": "stderr",
     "output_type": "stream",
     "text": [
      "/opt/conda/envs/loss_landscape/lib/python3.8/site-packages/torchvision/io/image.py:11: UserWarning: Failed to load image Python extension: libtorch_cuda_cu.so: cannot open shared object file: No such file or directory\n",
      "  warn(f\"Failed to load image Python extension: {e}\")\n"
     ]
    }
   ],
   "source": [
    "%reload_ext autoreload\n",
    "%autoreload 2\n",
    "\n",
    "import torch\n",
    "import numpy as np\n",
    "import pandas as pd\n",
    "import matplotlib.pyplot as plt\n",
    "import seaborn as sns\n",
    "from pylab import *\n",
    "import ast\n",
    "import os\n",
    "import sys\n",
    "from statistics import mean\n",
    "import warnings\n",
    "import pygwalker as pyg\n",
    "\n",
    "\n",
    "# import modules from JTAG model\n",
    "module_path = os.path.abspath(os.path.join('../../workspace/models/jets/code/')) # or the path to your source code\n",
    "sys.path.insert(0, module_path)\n",
    "import model as jet_tagger\n",
    "import jet_datamodule\n",
    "\n",
    "# import modules from ECON model\n",
    "module_path = os.path.abspath(os.path.join('../../workspace/models/econ/code/')) # or the path to your source code\n",
    "sys.path.insert(0, module_path)\n",
    "import q_autoencoder as econ\n",
    "import autoencoder_datamodule"
   ]
  },
  {
   "cell_type": "code",
   "execution_count": 2,
   "metadata": {},
   "outputs": [],
   "source": [
    "DATA_PATH = '/home/jovyan/checkpoint/'\n",
    "DATASET_DIR = '../../data/ECON/Elegun'\n",
    "DATASET_FILE = 'nELinks5.npy'\n",
    "\n",
    "size = 'baseline'"
   ]
  },
  {
   "cell_type": "code",
   "execution_count": 3,
   "metadata": {},
   "outputs": [
    {
     "data": {
      "text/plain": [
       "(AutoEncoder(\n",
       "   (encoder): QuantizedEncoder(\n",
       "     (quant_input): QuantAct(activation_bit=11, full_precision_flag=False, quant_mode=symmetric, Act_min: 0.00, Act_max: 1.68)\n",
       "     (quant_relu): QuantAct(activation_bit=11, full_precision_flag=False, quant_mode=symmetric, Act_min: 0.00, Act_max: 1.17)\n",
       "     (relu1): ReLU()\n",
       "     (relu2): ReLU()\n",
       "     (flatten): Flatten(start_dim=1, end_dim=-1)\n",
       "     (conv): (QuantConv2d(\n",
       "       (conv): Conv2d(1, 8, kernel_size=(3, 3), stride=(2, 2), padding=(1, 1))\n",
       "     ) weight_bit=8, full_precision_flag=False, quant_mode=symmetric)\n",
       "     (enc_dense): (QuantLinear() weight_bit=8, full_precision_flag=False, quantize_fn=symmetric)\n",
       "   )\n",
       "   (decoder): Sequential(\n",
       "     (dec_dense): Linear(in_features=16, out_features=128, bias=True)\n",
       "     (relu1): ReLU()\n",
       "     (unflatten): Unflatten(dim=1, unflattened_size=(8, 4, 4))\n",
       "     (convtrans2d1): ConvTranspose2d(8, 8, kernel_size=(3, 3), stride=(2, 2), padding=(1, 1), output_padding=(1, 1))\n",
       "     (relu2): ReLU()\n",
       "     (convtrans2d2): ConvTranspose2d(8, 1, kernel_size=(3, 3), stride=(1, 1), padding=(1, 1))\n",
       "     (sigmoid): Sigmoid()\n",
       "   )\n",
       " ),\n",
       " 13.407410303751627)"
      ]
     },
     "execution_count": 3,
     "metadata": {},
     "output_type": "execute_result"
    }
   ],
   "source": [
    "econ.load_model(DATA_PATH, 128, 0.05, 8, 'baseline')"
   ]
  }
 ],
 "metadata": {
  "kernelspec": {
   "display_name": "loss_landscape",
   "language": "python",
   "name": "python3"
  },
  "language_info": {
   "codemirror_mode": {
    "name": "ipython",
    "version": 3
   },
   "file_extension": ".py",
   "mimetype": "text/x-python",
   "name": "python",
   "nbconvert_exporter": "python",
   "pygments_lexer": "ipython3",
   "version": "3.8.12"
  }
 },
 "nbformat": 4,
 "nbformat_minor": 2
}
