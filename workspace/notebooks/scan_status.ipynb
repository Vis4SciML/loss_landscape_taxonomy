{
 "cells": [
  {
   "cell_type": "markdown",
   "metadata": {},
   "source": [
    "# Models Training Status"
   ]
  },
  {
   "cell_type": "markdown",
   "metadata": {},
   "source": [
    "In this notebook there are scripts to check which models are there and which are missing."
   ]
  },
  {
   "cell_type": "code",
   "execution_count": 1,
   "metadata": {},
   "outputs": [],
   "source": [
    "base_path = \"/data/tbaldi/checkpoint/\"\n",
    "sizes = ['small', 'baseline', 'large']\n",
    "batch_sizes = [16, 32, 64, 128, 256, 512, 1024]\n",
    "learning_rates = [0.1, 0.05, 0.025, 0.0125, 0.00625, 0.003125, 0.0015625]\n",
    "precisions = [2, 3, 4, 5, 6, 7, 8, 9, 10, 11]"
   ]
  },
  {
   "cell_type": "code",
   "execution_count": 2,
   "metadata": {},
   "outputs": [],
   "source": [
    "missing = []\n",
    "def get_missing_econ(bs, lr, precision):\n",
    "    missing = []\n",
    "    for size in sizes:\n",
    "        # print(f'BATCH SIZE: {bs} - LEARNING RATE {lr} - SIZE {size} - PRECISION {precision}')\n",
    "        for exp in range(1, 4):\n",
    "            file_path = base_path + f'bs{bs}_lr{lr}/ECON_{precision}b/{size}/{size}_emd_{exp}.txt'\n",
    "            try:\n",
    "                with open(file_path, 'r') as file:\n",
    "                    content = file.read()\n",
    "\n",
    "            except Exception as e:\n",
    "                if size == 'large':\n",
    "                    missing.append((bs, lr, precision))\n",
    "                    continue\n",
    "    return set(missing)\n"
   ]
  },
  {
   "cell_type": "code",
   "execution_count": 3,
   "metadata": {},
   "outputs": [
    {
     "name": "stdout",
     "output_type": "stream",
     "text": [
      "=========== 16 ==========\n",
      "---------- 0.1 ---------\n",
      "---------- 0.05 ---------\n",
      "---------- 0.025 ---------\n",
      "---------- 0.0125 ---------\n",
      "---------- 0.00625 ---------\n",
      "---------- 0.003125 ---------\n",
      "16 - 0.003125 - 2\n",
      "---------- 0.0015625 ---------\n",
      "=========== 32 ==========\n",
      "---------- 0.1 ---------\n",
      "---------- 0.05 ---------\n",
      "---------- 0.025 ---------\n",
      "---------- 0.0125 ---------\n",
      "---------- 0.00625 ---------\n",
      "---------- 0.003125 ---------\n",
      "---------- 0.0015625 ---------\n",
      "=========== 64 ==========\n",
      "---------- 0.1 ---------\n",
      "---------- 0.05 ---------\n",
      "---------- 0.025 ---------\n",
      "---------- 0.0125 ---------\n",
      "---------- 0.00625 ---------\n",
      "---------- 0.003125 ---------\n",
      "---------- 0.0015625 ---------\n",
      "64 - 0.0015625 - 8\n",
      "=========== 128 ==========\n",
      "---------- 0.1 ---------\n",
      "---------- 0.05 ---------\n",
      "---------- 0.025 ---------\n",
      "---------- 0.0125 ---------\n",
      "---------- 0.00625 ---------\n",
      "---------- 0.003125 ---------\n",
      "---------- 0.0015625 ---------\n",
      "=========== 256 ==========\n",
      "---------- 0.1 ---------\n",
      "---------- 0.05 ---------\n",
      "---------- 0.025 ---------\n",
      "256 - 0.025 - 5\n",
      "---------- 0.0125 ---------\n",
      "---------- 0.00625 ---------\n",
      "---------- 0.003125 ---------\n",
      "---------- 0.0015625 ---------\n",
      "=========== 512 ==========\n",
      "---------- 0.1 ---------\n",
      "---------- 0.05 ---------\n",
      "---------- 0.025 ---------\n",
      "---------- 0.0125 ---------\n",
      "---------- 0.00625 ---------\n",
      "---------- 0.003125 ---------\n",
      "---------- 0.0015625 ---------\n",
      "=========== 1024 ==========\n",
      "---------- 0.1 ---------\n",
      "---------- 0.05 ---------\n",
      "---------- 0.025 ---------\n",
      "---------- 0.0125 ---------\n",
      "---------- 0.00625 ---------\n",
      "---------- 0.003125 ---------\n",
      "---------- 0.0015625 ---------\n"
     ]
    }
   ],
   "source": [
    "missing = {}\n",
    "for bs in batch_sizes:\n",
    "    \n",
    "    print(f'=========== {bs} ==========')\n",
    "    for lr in learning_rates:\n",
    "        print(f'---------- {lr} ---------')\n",
    "        for precision in precisions:\n",
    "            mis = get_missing_econ(bs, lr, precision)\n",
    "            if mis:\n",
    "                print(f'{bs} - {lr} - {precision}')\n",
    "            "
   ]
  }
 ],
 "metadata": {
  "kernelspec": {
   "display_name": "loss_landscape",
   "language": "python",
   "name": "python3"
  },
  "language_info": {
   "codemirror_mode": {
    "name": "ipython",
    "version": 3
   },
   "file_extension": ".py",
   "mimetype": "text/x-python",
   "name": "python",
   "nbconvert_exporter": "python",
   "pygments_lexer": "ipython3",
   "version": "3.8.12"
  }
 },
 "nbformat": 4,
 "nbformat_minor": 2
}
