{
 "cells": [
  {
   "cell_type": "markdown",
   "metadata": {},
   "source": [
    "# Models Training Status"
   ]
  },
  {
   "cell_type": "markdown",
   "metadata": {},
   "source": [
    "In this notebook there are scripts to check which models are there and which are missing."
   ]
  },
  {
   "cell_type": "code",
   "execution_count": 1,
   "metadata": {},
   "outputs": [],
   "source": [
    "base_path = \"/home/tbaldi/checkpoint/\"\n",
    "sizes = ['small', 'baseline', 'large']\n",
    "batch_sizes = [16, 32, 64, 128, 256, 512, 1024]\n",
    "learning_rates = [0.1, 0.05, 0.025, 0.0125, 0.00625, 0.003125, 0.0015625]\n",
    "precisions = [2, 3, 4, 5, 6, 7, 8, 9, 10, 11]"
   ]
  },
  {
   "cell_type": "code",
   "execution_count": 2,
   "metadata": {},
   "outputs": [],
   "source": [
    "missing = []\n",
    "def get_missing_econ(bs, lr, precision):\n",
    "    missing = []\n",
    "    for size in sizes:\n",
    "        print(f'BATCH SIZE: {bs} - LEARNING RATE {lr} - SIZE {size} - PRECISION {precision}')\n",
    "        for exp in range(1, 4):\n",
    "            file_path = base_path + f'bs{bs}_lr{lr}/ECON_{precision}b/{size}/{size}_emd_{exp}.txt'\n",
    "            try:\n",
    "                with open(file_path, 'r') as file:\n",
    "                    content = file.read()\n",
    "\n",
    "            except Exception as e:\n",
    "                if size == 'small':\n",
    "                    print(file_path)\n",
    "                    missing.append((bs, lr, size))\n",
    "                    continue\n",
    "    # missing = sorted(missing, key=lambda x: x[2])\n",
    "    return missing\n"
   ]
  },
  {
   "cell_type": "code",
   "execution_count": 3,
   "metadata": {},
   "outputs": [
    {
     "name": "stdout",
     "output_type": "stream",
     "text": [
      "BATCH SIZE: 1024 - LEARNING RATE 0.1 - SIZE small - PRECISION 2\n",
      "/home/tbaldi/checkpoint/bs1024_lr0.1/ECON_2b/small/small_emd_1.txt\n",
      "/home/tbaldi/checkpoint/bs1024_lr0.1/ECON_2b/small/small_emd_2.txt\n",
      "/home/tbaldi/checkpoint/bs1024_lr0.1/ECON_2b/small/small_emd_3.txt\n",
      "BATCH SIZE: 1024 - LEARNING RATE 0.1 - SIZE baseline - PRECISION 2\n",
      "BATCH SIZE: 1024 - LEARNING RATE 0.1 - SIZE large - PRECISION 2\n",
      "small [(1024, 0.1, 'small'), (1024, 0.1, 'small'), (1024, 0.1, 'small')]\n",
      "BATCH SIZE: 1024 - LEARNING RATE 0.1 - SIZE small - PRECISION 2\n",
      "/home/tbaldi/checkpoint/bs1024_lr0.1/ECON_2b/small/small_emd_1.txt\n",
      "/home/tbaldi/checkpoint/bs1024_lr0.1/ECON_2b/small/small_emd_2.txt\n",
      "/home/tbaldi/checkpoint/bs1024_lr0.1/ECON_2b/small/small_emd_3.txt\n",
      "BATCH SIZE: 1024 - LEARNING RATE 0.1 - SIZE baseline - PRECISION 2\n",
      "BATCH SIZE: 1024 - LEARNING RATE 0.1 - SIZE large - PRECISION 2\n",
      "baseline [(1024, 0.1, 'small'), (1024, 0.1, 'small'), (1024, 0.1, 'small')]\n",
      "BATCH SIZE: 1024 - LEARNING RATE 0.1 - SIZE small - PRECISION 2\n",
      "/home/tbaldi/checkpoint/bs1024_lr0.1/ECON_2b/small/small_emd_1.txt\n",
      "/home/tbaldi/checkpoint/bs1024_lr0.1/ECON_2b/small/small_emd_2.txt\n",
      "/home/tbaldi/checkpoint/bs1024_lr0.1/ECON_2b/small/small_emd_3.txt\n",
      "BATCH SIZE: 1024 - LEARNING RATE 0.1 - SIZE baseline - PRECISION 2\n",
      "BATCH SIZE: 1024 - LEARNING RATE 0.1 - SIZE large - PRECISION 2\n",
      "large [(1024, 0.1, 'small'), (1024, 0.1, 'small'), (1024, 0.1, 'small')]\n"
     ]
    }
   ],
   "source": [
    "for size in sizes:\n",
    "    print(size, get_missing_econ(1024, 0.1, 2))"
   ]
  },
  {
   "cell_type": "code",
   "execution_count": 4,
   "metadata": {},
   "outputs": [
    {
     "ename": "NameError",
     "evalue": "name 'sorted_missing' is not defined",
     "output_type": "error",
     "traceback": [
      "\u001b[0;31m---------------------------------------------------------------------------\u001b[0m",
      "\u001b[0;31mNameError\u001b[0m                                 Traceback (most recent call last)",
      "\u001b[1;32m/home/tbaldi/loss_landscape_taxonomy/workspace/notebooks/scan_status.ipynb Cell 6\u001b[0m line \u001b[0;36m1\n\u001b[0;32m----> <a href='vscode-notebook-cell://ssh-remote%2Bcorrelator4/home/tbaldi/loss_landscape_taxonomy/workspace/notebooks/scan_status.ipynb#W5sdnNjb2RlLXJlbW90ZQ%3D%3D?line=0'>1</a>\u001b[0m \u001b[39mfor\u001b[39;00m tmp \u001b[39min\u001b[39;00m \u001b[39mset\u001b[39m(sorted_missing):\n\u001b[1;32m      <a href='vscode-notebook-cell://ssh-remote%2Bcorrelator4/home/tbaldi/loss_landscape_taxonomy/workspace/notebooks/scan_status.ipynb#W5sdnNjb2RlLXJlbW90ZQ%3D%3D?line=1'>2</a>\u001b[0m     \u001b[39mif\u001b[39;00m tmp[\u001b[39m0\u001b[39m] \u001b[39m==\u001b[39m \u001b[39m512\u001b[39m:\n\u001b[1;32m      <a href='vscode-notebook-cell://ssh-remote%2Bcorrelator4/home/tbaldi/loss_landscape_taxonomy/workspace/notebooks/scan_status.ipynb#W5sdnNjb2RlLXJlbW90ZQ%3D%3D?line=2'>3</a>\u001b[0m         \u001b[39mprint\u001b[39m(\u001b[39mf\u001b[39m\u001b[39m'\u001b[39m\u001b[39m{\u001b[39;00mtmp[\u001b[39m0\u001b[39m]\u001b[39m}\u001b[39;00m\u001b[39m\\t\u001b[39;00m\u001b[39m\\t\u001b[39;00m\u001b[39m{\u001b[39;00mtmp[\u001b[39m1\u001b[39m]\u001b[39m}\u001b[39;00m\u001b[39m\\t\u001b[39;00m\u001b[39m\\t\u001b[39;00m\u001b[39m{\u001b[39;00mtmp[\u001b[39m2\u001b[39m]\u001b[39m}\u001b[39;00m\u001b[39m'\u001b[39m)\n",
      "\u001b[0;31mNameError\u001b[0m: name 'sorted_missing' is not defined"
     ]
    }
   ],
   "source": [
    "for tmp in set(sorted_missing):\n",
    "    if tmp[0] == 512:\n",
    "        print(f'{tmp[0]}\\t\\t{tmp[1]}\\t\\t{tmp[2]}')"
   ]
  },
  {
   "cell_type": "code",
   "execution_count": null,
   "metadata": {},
   "outputs": [
    {
     "name": "stdout",
     "output_type": "stream",
     "text": [
      "256 0.05 small\n",
      "256 0.1 small\n",
      "256 0.0015625 small\n",
      "256 0.025 small\n",
      "256 0.0125 small\n",
      "256 0.00625 small\n",
      "256 0.003125 small\n"
     ]
    }
   ],
   "source": [
    "\n",
    "for tmp in set(sorted_missing):\n",
    "    if tmp[0] == 256:\n",
    "        print(tmp[0], tmp[1], tmp[2])"
   ]
  },
  {
   "cell_type": "code",
   "execution_count": null,
   "metadata": {},
   "outputs": [
    {
     "name": "stdout",
     "output_type": "stream",
     "text": [
      "128 0.0125 small\n",
      "128 0.00625 small\n",
      "128 0.003125 small\n",
      "128 0.05 small\n",
      "128 0.1 small\n",
      "128 0.025 small\n",
      "128 0.0015625 small\n"
     ]
    }
   ],
   "source": [
    "for tmp in set(sorted_missing):\n",
    "    if tmp[0] == 128:\n",
    "        print(tmp[0], tmp[1], tmp[2])"
   ]
  },
  {
   "cell_type": "code",
   "execution_count": null,
   "metadata": {},
   "outputs": [
    {
     "name": "stdout",
     "output_type": "stream",
     "text": [
      "64 0.0015625 small\n",
      "64 0.025 small\n",
      "64 0.0125 small\n",
      "64 0.00625 small\n",
      "64 0.003125 small\n",
      "64 0.05 small\n",
      "64 0.1 small\n"
     ]
    }
   ],
   "source": [
    "for tmp in set(sorted_missing):\n",
    "    if tmp[0] == 64:\n",
    "        print(tmp[0], tmp[1], tmp[2])"
   ]
  },
  {
   "cell_type": "code",
   "execution_count": null,
   "metadata": {},
   "outputs": [
    {
     "name": "stdout",
     "output_type": "stream",
     "text": [
      "32 0.05 small\n",
      "32 0.1 small\n",
      "32 0.025 small\n",
      "32 0.0015625 small\n",
      "32 0.0125 small\n",
      "32 0.00625 small\n",
      "32 0.003125 small\n"
     ]
    }
   ],
   "source": [
    "for tmp in set(sorted_missing):\n",
    "    if tmp[0] == 32:\n",
    "        print(tmp[0], tmp[1], tmp[2])"
   ]
  },
  {
   "cell_type": "code",
   "execution_count": null,
   "metadata": {},
   "outputs": [
    {
     "name": "stdout",
     "output_type": "stream",
     "text": [
      "16 0.0125 small\n",
      "16 0.00625 small\n",
      "16 0.003125 small\n",
      "16 0.05 small\n",
      "16 0.1 small\n",
      "16 0.0015625 small\n",
      "16 0.025 small\n"
     ]
    }
   ],
   "source": [
    "for tmp in set(sorted_missing):\n",
    "    if tmp[0] == 16:\n",
    "        print(tmp[0], tmp[1], tmp[2])"
   ]
  }
 ],
 "metadata": {
  "kernelspec": {
   "display_name": "loss_landscape",
   "language": "python",
   "name": "python3"
  },
  "language_info": {
   "codemirror_mode": {
    "name": "ipython",
    "version": 3
   },
   "file_extension": ".py",
   "mimetype": "text/x-python",
   "name": "python",
   "nbconvert_exporter": "python",
   "pygments_lexer": "ipython3",
   "version": "3.8.12"
  }
 },
 "nbformat": 4,
 "nbformat_minor": 2
}
