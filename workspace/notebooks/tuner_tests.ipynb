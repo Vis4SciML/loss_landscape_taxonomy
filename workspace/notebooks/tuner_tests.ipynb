{
 "cells": [
  {
   "cell_type": "markdown",
   "metadata": {},
   "source": [
    "# Experiment with the tuner"
   ]
  },
  {
   "cell_type": "code",
   "execution_count": 5,
   "metadata": {},
   "outputs": [],
   "source": [
    "%reload_ext autoreload\n",
    "%autoreload 2\n",
    "\n",
    "# from common.metrics.gradient import Gradient\n",
    "import torch\n",
    "from torch.utils.data import DataLoader\n",
    "import torchinfo\n",
    "import numpy as np\n",
    "import pandas as pd\n",
    "import pytorch_lightning as pl \n",
    "import matplotlib.pyplot as plt\n",
    "from sklearn.decomposition import PCA\n",
    "from sklearn.manifold import TSNE\n",
    "import seaborn as sns\n",
    "from pylab import *\n",
    "import ast\n",
    "import os\n",
    "import sys\n",
    "from statistics import mean\n",
    "import warnings\n",
    "\n",
    "# import modules from ECON model\n",
    "module_path = os.path.abspath(os.path.join('../tuner/')) # or the path to your source code\n",
    "sys.path.insert(0, module_path)\n",
    "from jet_tuner import JetTagger\n",
    "\n",
    "module_path = os.path.abspath(os.path.join('../../workspace/models/jets/code/')) # or the path to your source code\n",
    "sys.path.insert(0, module_path)\n",
    "from jet_datamodule import JetDataModule\n",
    "\n",
    "# import modules from common metrics\n",
    "module_path = os.path.abspath(os.path.join('../../workspace/common/metrics/')) # or the path to your source code\n",
    "sys.path.insert(0, module_path)\n",
    "from CKA import CKA\n",
    "from neural_efficiency import NeuralEfficiency\n",
    "\n",
    "\n",
    "# import modules from common benchmarks\n",
    "module_path = os.path.abspath(os.path.join('../../workspace/common/benchmarks/')) # or the path to your source code\n",
    "sys.path.insert(0, module_path)\n",
    "from noisy_dataset import NoisyDataset\n",
    "\n",
    "\n",
    "DATA_PATH=\"/home/jovyan/checkpoint/\"    \n",
    "DATASET_DIR=\"../../data/JTAG\"\n",
    "DATASET_FILE=DATASET_DIR + \"/processed_dataset.h5\""
   ]
  },
  {
   "cell_type": "code",
   "execution_count": 7,
   "metadata": {},
   "outputs": [
    {
     "ename": "TypeError",
     "evalue": "must be real number, not NoneType",
     "output_type": "error",
     "traceback": [
      "\u001b[0;31m---------------------------------------------------------------------------\u001b[0m",
      "\u001b[0;31mTypeError\u001b[0m                                 Traceback (most recent call last)",
      "Cell \u001b[0;32mIn[7], line 2\u001b[0m\n\u001b[1;32m      1\u001b[0m model_path \u001b[38;5;241m=\u001b[39m \u001b[38;5;124m'\u001b[39m\u001b[38;5;124m../tuner/experiment_models/net_best.pkl\u001b[39m\u001b[38;5;124m'\u001b[39m\n\u001b[0;32m----> 2\u001b[0m ne_dataloader \u001b[38;5;241m=\u001b[39m \u001b[43mJetDataModule\u001b[49m\u001b[43m(\u001b[49m\u001b[43mDATASET_FILE\u001b[49m\u001b[43m,\u001b[49m\u001b[43m \u001b[49m\n\u001b[1;32m      3\u001b[0m \u001b[43m                              \u001b[49m\u001b[43mdata_dir\u001b[49m\u001b[38;5;241;43m=\u001b[39;49m\u001b[43mDATASET_DIR\u001b[49m\u001b[43m,\u001b[49m\n\u001b[1;32m      4\u001b[0m \u001b[43m                              \u001b[49m\u001b[43mbatch_size\u001b[49m\u001b[38;5;241;43m=\u001b[39;49m\u001b[38;5;241;43m1\u001b[39;49m\u001b[43m,\u001b[49m\u001b[43m \u001b[49m\n\u001b[1;32m      5\u001b[0m \u001b[43m                              \u001b[49m\u001b[43mnum_workers\u001b[49m\u001b[38;5;241;43m=\u001b[39;49m\u001b[38;5;241;43m8\u001b[39;49m\u001b[43m)\u001b[49m\u001b[38;5;241;43m.\u001b[39;49m\u001b[43mtest_dataloader\u001b[49m\u001b[43m(\u001b[49m\u001b[43m)\u001b[49m\n\u001b[1;32m      7\u001b[0m \u001b[38;5;66;03m# load the model\u001b[39;00m\n\u001b[1;32m      8\u001b[0m model \u001b[38;5;241m=\u001b[39m JetTagger(\n\u001b[1;32m      9\u001b[0m     quantize\u001b[38;5;241m=\u001b[39m(\u001b[38;5;241m4\u001b[39m \u001b[38;5;241m<\u001b[39m \u001b[38;5;241m32\u001b[39m),\n\u001b[1;32m     10\u001b[0m     precision\u001b[38;5;241m=\u001b[39m[\n\u001b[0;32m   (...)\u001b[0m\n\u001b[1;32m     15\u001b[0m     learning_rate\u001b[38;5;241m=\u001b[39m\u001b[38;5;241m0.0125\u001b[39m,\n\u001b[1;32m     16\u001b[0m )\n",
      "File \u001b[0;32m~/loss_landscape_taxonomy/workspace/models/jets/code/jet_datamodule.py:186\u001b[0m, in \u001b[0;36mJetDataModule.test_dataloader\u001b[0;34m(self)\u001b[0m\n\u001b[1;32m    182\u001b[0m \u001b[38;5;28;01mdef\u001b[39;00m \u001b[38;5;21mtest_dataloader\u001b[39m(\u001b[38;5;28mself\u001b[39m):\n\u001b[1;32m    183\u001b[0m \u001b[38;5;250m    \u001b[39m\u001b[38;5;124;03m\"\"\"\u001b[39;00m\n\u001b[1;32m    184\u001b[0m \u001b[38;5;124;03m    Return the test dataloader\u001b[39;00m\n\u001b[1;32m    185\u001b[0m \u001b[38;5;124;03m    \"\"\"\u001b[39;00m\n\u001b[0;32m--> 186\u001b[0m     \u001b[38;5;28;01mreturn\u001b[39;00m \u001b[38;5;28;43mself\u001b[39;49m\u001b[38;5;241;43m.\u001b[39;49m\u001b[43mval_dataloader\u001b[49m\u001b[43m(\u001b[49m\u001b[43m)\u001b[49m\n",
      "File \u001b[0;32m~/loss_landscape_taxonomy/workspace/models/jets/code/jet_datamodule.py:172\u001b[0m, in \u001b[0;36mJetDataModule.val_dataloader\u001b[0;34m(self)\u001b[0m\n\u001b[1;32m    168\u001b[0m \u001b[38;5;28;01mdef\u001b[39;00m \u001b[38;5;21mval_dataloader\u001b[39m(\u001b[38;5;28mself\u001b[39m):\n\u001b[1;32m    169\u001b[0m \u001b[38;5;250m    \u001b[39m\u001b[38;5;124;03m\"\"\"\u001b[39;00m\n\u001b[1;32m    170\u001b[0m \u001b[38;5;124;03m    Return the validation dataloader\u001b[39;00m\n\u001b[1;32m    171\u001b[0m \u001b[38;5;124;03m    \"\"\"\u001b[39;00m\n\u001b[0;32m--> 172\u001b[0m     data_tensor \u001b[38;5;241m=\u001b[39m \u001b[43mtorch\u001b[49m\u001b[38;5;241;43m.\u001b[39;49m\u001b[43mtensor\u001b[49m\u001b[43m(\u001b[49m\u001b[38;5;28;43mself\u001b[39;49m\u001b[38;5;241;43m.\u001b[39;49m\u001b[43mval_data\u001b[49m\u001b[43m,\u001b[49m\u001b[43m \u001b[49m\u001b[43mdtype\u001b[49m\u001b[38;5;241;43m=\u001b[39;49m\u001b[43mtorch\u001b[49m\u001b[38;5;241;43m.\u001b[39;49m\u001b[43mfloat32\u001b[49m\u001b[43m)\u001b[49m\n\u001b[1;32m    173\u001b[0m     labels_tensor \u001b[38;5;241m=\u001b[39m torch\u001b[38;5;241m.\u001b[39mtensor(\u001b[38;5;28mself\u001b[39m\u001b[38;5;241m.\u001b[39mval_labels, dtype\u001b[38;5;241m=\u001b[39mtorch\u001b[38;5;241m.\u001b[39mfloat32) \n\u001b[1;32m    174\u001b[0m     dataset \u001b[38;5;241m=\u001b[39m TensorDataset(data_tensor, labels_tensor)\n",
      "\u001b[0;31mTypeError\u001b[0m: must be real number, not NoneType"
     ]
    }
   ],
   "source": [
    "model_path = '../tuner/experiment_models/net_best.pkl'\n",
    "ne_dataloader = JetDataModule(DATASET_FILE, \n",
    "                              data_dir=DATASET_DIR,\n",
    "                              batch_size=1, \n",
    "                              num_workers=8).test_dataloader()\n",
    "\n",
    "# load the model\n",
    "model = JetTagger(\n",
    "    quantize=(4 < 32),\n",
    "    precision=[\n",
    "        4,\n",
    "        4,\n",
    "        4+3\n",
    "    ],\n",
    "    learning_rate=0.0125,\n",
    ")\n",
    "    \n",
    "# to set the map location\n",
    "device = torch.device('cuda' if torch.cuda.is_available() else 'cpu')\n",
    "\n",
    "model(torch.randn((16, 16)))  # Update tensor shapes \n",
    "model_param = torch.load(model_path, map_location=device)\n",
    "model.load_state_dict(model_param['state_dict'])\n",
    "\n",
    "metric = NeuralEfficiency(model, \n",
    "                          ne_dataloader, \n",
    "                          performance=0.732, \n",
    "                          max_batches=10000)\n",
    "\n",
    "# store the result on file\n",
    "if not os.path.exists(NE_DATA_DIR):\n",
    "    os.mkdir(NE_DATA_DIR)\n",
    "\n",
    "result = metric.compute(beta=beta)\n",
    "metric.save_on_file(path=NE_DATA_DIR)\n",
    "    \n",
    "plot_neural_efficiency_per_layer(result['layers_efficiency'], \n",
    "                                 'Jet Tagger neural efficiency\\n' \\\n",
    "                                f'{ranking_robust[best_index]}')"
   ]
  }
 ],
 "metadata": {
  "kernelspec": {
   "display_name": "loss_landscape",
   "language": "python",
   "name": "python3"
  },
  "language_info": {
   "codemirror_mode": {
    "name": "ipython",
    "version": 3
   },
   "file_extension": ".py",
   "mimetype": "text/x-python",
   "name": "python",
   "nbconvert_exporter": "python",
   "pygments_lexer": "ipython3",
   "version": "3.8.12"
  }
 },
 "nbformat": 4,
 "nbformat_minor": 2
}
