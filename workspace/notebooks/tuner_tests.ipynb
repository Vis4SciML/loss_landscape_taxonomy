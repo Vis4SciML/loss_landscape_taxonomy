{
 "cells": [
  {
   "cell_type": "markdown",
   "metadata": {},
   "source": [
    "# Experiment with the tuner"
   ]
  },
  {
   "cell_type": "code",
   "execution_count": 1,
   "metadata": {},
   "outputs": [
    {
     "name": "stderr",
     "output_type": "stream",
     "text": [
      "/opt/conda/envs/loss_landscape/lib/python3.8/site-packages/torchvision/io/image.py:11: UserWarning: Failed to load image Python extension: libtorch_cuda_cu.so: cannot open shared object file: No such file or directory\n",
      "  warn(f\"Failed to load image Python extension: {e}\")\n",
      "<frozen importlib._bootstrap>:219: RuntimeWarning: scipy._lib.messagestream.MessageStream size changed, may indicate binary incompatibility. Expected 56 from C header, got 64 from PyObject\n"
     ]
    }
   ],
   "source": [
    "%reload_ext autoreload\n",
    "%autoreload 2\n",
    "\n",
    "# from common.metrics.gradient import Gradient\n",
    "import torch\n",
    "from torch.utils.data import DataLoader\n",
    "import torchinfo\n",
    "import numpy as np\n",
    "import pandas as pd\n",
    "import pytorch_lightning as pl \n",
    "import matplotlib.pyplot as plt\n",
    "from sklearn.decomposition import PCA\n",
    "from sklearn.manifold import TSNE\n",
    "import seaborn as sns\n",
    "from pylab import *\n",
    "import ast\n",
    "import os\n",
    "import sys\n",
    "from statistics import mean\n",
    "import warnings\n",
    "\n",
    "# import modules from ECON model\n",
    "module_path = os.path.abspath(os.path.join('../tuner/')) # or the path to your source code\n",
    "sys.path.insert(0, module_path)\n",
    "from jet_tuner import JetTagger\n",
    "\n",
    "module_path = os.path.abspath(os.path.join('../../workspace/models/jets/code/')) # or the path to your source code\n",
    "sys.path.insert(0, module_path)\n",
    "from jet_datamodule import JetDataModule\n",
    "\n",
    "# import modules from common metrics\n",
    "module_path = os.path.abspath(os.path.join('../../workspace/common/metrics/')) # or the path to your source code\n",
    "sys.path.insert(0, module_path)\n",
    "from CKA import CKA\n",
    "from neural_efficiency import NeuralEfficiency\n",
    "\n",
    "\n",
    "# import modules from common benchmarks\n",
    "module_path = os.path.abspath(os.path.join('../../workspace/common/benchmarks/')) # or the path to your source code\n",
    "sys.path.insert(0, module_path)\n",
    "from noisy_dataset import NoisyDataset\n",
    "\n",
    "\n",
    "DATA_PATH=\"/home/jovyan/checkpoint/\"    \n",
    "DATASET_DIR=\"../../data/JTAG\"\n",
    "DATASET_FILE=DATASET_DIR + \"/processed_dataset.h5\""
   ]
  },
  {
   "cell_type": "code",
   "execution_count": 2,
   "metadata": {},
   "outputs": [],
   "source": [
    "def get_data_module(batch_size, num_workers=12):\n",
    "    '''\n",
    "    Method used to get the data modules used during the tests\n",
    "    '''\n",
    "    data_module = JetDataModule(\n",
    "        data_dir=DATASET_DIR,\n",
    "        data_file=os.path.join(DATASET_DIR, DATASET_FILE),\n",
    "        batch_size=batch_size,\n",
    "        num_workers=num_workers)\n",
    "    \n",
    "    # checek if we have processed the data\n",
    "    if not os.path.exists(os.path.join(DATASET_DIR, DATASET_FILE)):\n",
    "        print('Processing the data...')\n",
    "        data_module.process_data(save=True)\n",
    "\n",
    "    data_module.setup(0)\n",
    "    return data_module"
   ]
  },
  {
   "cell_type": "code",
   "execution_count": 3,
   "metadata": {},
   "outputs": [
    {
     "name": "stdout",
     "output_type": "stream",
     "text": [
      "Loaded shaped data shape (train): (630000, 16)\n",
      "Loaded shaped data datatype (train): float32\n",
      "Loaded shaped data shape (val): (240000, 16)\n",
      "Loaded shaped data datatype (val): float32\n",
      "Loading quantized model with bitwidth 4\n",
      "Computing the Neural efficiency...\n",
      "5\n",
      "{'layers_efficiency': {'model.dense_1': 0.7533666774358656}, 'network_efficiency': 0.7533666774358656, 'aIQ': 0.7390540302107835}\n"
     ]
    }
   ],
   "source": [
    "model_path = '../tuner/experiment_models/net_best.pkl'\n",
    "ne_dataloader = get_data_module(1).test_dataloader()\n",
    "\n",
    "# load the model\n",
    "model = JetTagger(\n",
    "    quantize=(4 < 32),\n",
    "    precision=[\n",
    "        4,\n",
    "        4,\n",
    "        4+3\n",
    "    ],\n",
    "    learning_rate=0.0125,\n",
    ")\n",
    "    \n",
    "# to set the map location\n",
    "device = torch.device('cuda' if torch.cuda.is_available() else 'cpu')\n",
    "\n",
    "model(torch.randn((16, 16)))  # Update tensor shapes \n",
    "model_param = torch.load(model_path, map_location=device)\n",
    "model.load_state_dict(model_param['state_dict'])\n",
    "\n",
    "metric = NeuralEfficiency(model, \n",
    "                          ne_dataloader, \n",
    "                          performance=0.732,\n",
    "                          target_layers=['model.dense_1'],\n",
    "                          max_batches=1000)\n",
    "\n",
    "result = metric.compute(beta=2)\n",
    "    \n",
    "print(result)"
   ]
  },
  {
   "cell_type": "code",
   "execution_count": null,
   "metadata": {},
   "outputs": [],
   "source": []
  }
 ],
 "metadata": {
  "kernelspec": {
   "display_name": "loss_landscape",
   "language": "python",
   "name": "python3"
  },
  "language_info": {
   "codemirror_mode": {
    "name": "ipython",
    "version": 3
   },
   "file_extension": ".py",
   "mimetype": "text/x-python",
   "name": "python",
   "nbconvert_exporter": "python",
   "pygments_lexer": "ipython3",
   "version": "3.8.12"
  }
 },
 "nbformat": 4,
 "nbformat_minor": 2
}
