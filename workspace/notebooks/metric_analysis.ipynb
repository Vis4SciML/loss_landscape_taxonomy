{
 "cells": [
  {
   "cell_type": "markdown",
   "metadata": {},
   "source": [
    "# Metric Analysis for ECON model"
   ]
  },
  {
   "cell_type": "code",
   "execution_count": 1,
   "metadata": {},
   "outputs": [
    {
     "name": "stderr",
     "output_type": "stream",
     "text": [
      "/opt/conda/envs/loss_landscape/lib/python3.8/site-packages/scipy/__init__.py:146: UserWarning: A NumPy version >=1.16.5 and <1.23.0 is required for this version of SciPy (detected version 1.24.3\n",
      "  warnings.warn(f\"A NumPy version >={np_minversion} and <{np_maxversion}\"\n",
      "2023-11-20 21:48:15.975474: I tensorflow/core/platform/cpu_feature_guard.cc:182] This TensorFlow binary is optimized to use available CPU instructions in performance-critical operations.\n",
      "To enable the following instructions: AVX2 FMA, in other operations, rebuild TensorFlow with the appropriate compiler flags.\n",
      "2023-11-20 21:48:16.694693: W tensorflow/compiler/tf2tensorrt/utils/py_utils.cc:38] TF-TRT Warning: Could not find TensorRT\n",
      "/opt/conda/envs/loss_landscape/lib/python3.8/site-packages/torchvision/io/image.py:11: UserWarning: Failed to load image Python extension: libtorch_cuda_cu.so: cannot open shared object file: No such file or directory\n",
      "  warn(f\"Failed to load image Python extension: {e}\")\n"
     ]
    }
   ],
   "source": [
    "%reload_ext autoreload\n",
    "%autoreload 2\n",
    "\n",
    "# from common.metrics.gradient import Gradient\n",
    "import torch\n",
    "import torchinfo\n",
    "import os\n",
    "import sys\n",
    "\n",
    "# import modules from ECON model\n",
    "module_path = os.path.abspath(os.path.join('../../workspace/models/econ/code/')) # or the path to your source code\n",
    "sys.path.insert(0, module_path)\n",
    "from q_autoencoder import AutoEncoder\n",
    "from autoencoder_datamodule import AutoEncoderDataModule\n",
    "\n",
    "# import modules from common metrics\n",
    "module_path = os.path.abspath(os.path.join('../../workspace/common/metrics/')) # or the path to your source code\n",
    "sys.path.insert(0, module_path)\n",
    "from gradient import Gradient\n",
    "\n"
   ]
  },
  {
   "cell_type": "markdown",
   "metadata": {},
   "source": [
    "Select the desired ECON model:"
   ]
  },
  {
   "cell_type": "code",
   "execution_count": 2,
   "metadata": {},
   "outputs": [],
   "source": [
    "base_path = \"/loss_landscape/checkpoint/different_knobs_subset_10/\"\n",
    "batch_size = 1024\n",
    "learning_rate = 0.1\n",
    "precision = 8\n",
    "size = 'small'"
   ]
  },
  {
   "cell_type": "code",
   "execution_count": 3,
   "metadata": {},
   "outputs": [
    {
     "name": "stdout",
     "output_type": "stream",
     "text": [
      "/loss_landscape/checkpoint/different_knobs_subset_10/bs1024_lr0.1/ECON_8b/small/net_1_best.pkl\n"
     ]
    },
    {
     "data": {
      "text/plain": [
       "==========================================================================================\n",
       "Layer (type:depth-idx)                   Output Shape              Param #\n",
       "==========================================================================================\n",
       "AutoEncoder                              [1, 1, 8, 8]              --\n",
       "├─QuantizedEncoder: 1-1                  [1, 16]                   --\n",
       "│    └─QuantAct: 2-1                     [1, 1, 8, 8]              --\n",
       "│    └─QuantConv2d: 2-2                  [1, 1, 4, 4]              20\n",
       "│    └─ReLU: 2-3                         [1, 1, 4, 4]              --\n",
       "│    └─QuantAct: 2-4                     [1, 1, 4, 4]              --\n",
       "│    └─Flatten: 2-5                      [1, 16]                   --\n",
       "│    └─QuantLinear: 2-6                  [1, 16]                   272\n",
       "│    └─ReLU: 2-7                         [1, 16]                   --\n",
       "├─Sequential: 1-2                        [1, 1, 8, 8]              --\n",
       "│    └─Linear: 2-8                       [1, 128]                  2,176\n",
       "│    └─ReLU: 2-9                         [1, 128]                  --\n",
       "│    └─Unflatten: 2-10                   [1, 8, 4, 4]              --\n",
       "│    └─ConvTranspose2d: 2-11             [1, 8, 8, 8]              584\n",
       "│    └─ReLU: 2-12                        [1, 8, 8, 8]              --\n",
       "│    └─ConvTranspose2d: 2-13             [1, 1, 8, 8]              73\n",
       "│    └─Sigmoid: 2-14                     [1, 1, 8, 8]              --\n",
       "==========================================================================================\n",
       "Total params: 3,125\n",
       "Trainable params: 3,125\n",
       "Non-trainable params: 0\n",
       "Total mult-adds (M): 0.04\n",
       "==========================================================================================\n",
       "Input size (MB): 0.00\n",
       "Forward/backward pass size (MB): 0.01\n",
       "Params size (MB): 0.01\n",
       "Estimated Total Size (MB): 0.02\n",
       "=========================================================================================="
      ]
     },
     "execution_count": 3,
     "metadata": {},
     "output_type": "execute_result"
    }
   ],
   "source": [
    "def load_model(path, batch_size, learning_rate, precision, size):\n",
    "    model_path = path + f'bs{batch_size}_lr{learning_rate}/ECON_{precision}b/{size}/net_1_best.pkl'\n",
    "    model = AutoEncoder(\n",
    "        quantize=(precision < 32),\n",
    "        precision=[\n",
    "            precision,\n",
    "            precision,\n",
    "            precision+3\n",
    "        ],\n",
    "        learning_rate=learning_rate,\n",
    "        econ_type=size\n",
    "    )\n",
    "    model(torch.randn((1, 1, 8, 8)))  # Update tensor shapes \n",
    "    print(model_path)\n",
    "    model_param = torch.load(model_path)\n",
    "    model.load_state_dict(model_param['state_dict'])\n",
    "    return model\n",
    "\n",
    "\n",
    "model = load_model(base_path, batch_size, learning_rate, precision, size)\n",
    "torchinfo.summary(model, input_size=(1, 1, 8, 8))  # (B, C, H, W)            "
   ]
  },
  {
   "cell_type": "markdown",
   "metadata": {},
   "source": [
    "Setup the data loader:"
   ]
  },
  {
   "cell_type": "code",
   "execution_count": 4,
   "metadata": {},
   "outputs": [
    {
     "name": "stdout",
     "output_type": "stream",
     "text": [
      "Loaded shaped data shape: (1740950, 1, 8, 8)\n",
      "Loaded shaped data datatype: float32\n"
     ]
    }
   ],
   "source": [
    "data_path = '../../data/ECON/Elegun'\n",
    "processed_file = 'nELinks5.npy'\n",
    "\n",
    "data_module = AutoEncoderDataModule(\n",
    "    data_dir=data_path,\n",
    "    data_file=os.path.join(data_path, processed_file),\n",
    "    batch_size=batch_size,\n",
    "    num_workers=4\n",
    ")\n",
    "# checek if we have processed the data\n",
    "if not os.path.exists(os.path.join(data_path, processed_file)):\n",
    "    print('Processing the data...')\n",
    "    data_module.process_data(save=True)\n",
    "\n",
    "data_module.setup(0)\n",
    "\n",
    "data_loader = data_module.val_dataloader()"
   ]
  },
  {
   "cell_type": "code",
   "execution_count": 8,
   "metadata": {},
   "outputs": [
    {
     "name": "stderr",
     "output_type": "stream",
     "text": [
      "GPU available: True (cuda), used: True\n",
      "TPU available: False, using: 0 TPU cores\n",
      "IPU available: False, using: 0 IPUs\n",
      "HPU available: False, using: 0 HPUs\n"
     ]
    },
    {
     "name": "stdout",
     "output_type": "stream",
     "text": [
      "Reading files ['5Elinks_data.csv', 'nELinks5.npy']\n",
      "Input data shape: (1740950, 48)\n"
     ]
    },
    {
     "name": "stderr",
     "output_type": "stream",
     "text": [
      "You are using a CUDA device ('NVIDIA A100-SXM4-80GB') that has Tensor Cores. To properly utilize them, you should set `torch.set_float32_matmul_precision('medium' | 'high')` which will trade-off precision for performance. For more details, read https://pytorch.org/docs/stable/generated/torch.set_float32_matmul_precision.html#torch.set_float32_matmul_precision\n",
      "LOCAL_RANK: 0 - CUDA_VISIBLE_DEVICES: [0]\n"
     ]
    },
    {
     "name": "stdout",
     "output_type": "stream",
     "text": [
      "Prepped shaped data shape: (1740950, 1, 8, 8)\n",
      "Loaded shaped data shape: (1740950, 1, 8, 8)\n",
      "Loaded shaped data datatype: float32\n",
      "Testing DataLoader 0: 100%|██████████| 341/341 [00:32<00:00, 10.46it/s]"
     ]
    },
    {
     "ename": "AssertionError",
     "evalue": "\nArrays are not almost equal to 7 decimals\na and b vector must have the same sum\nMismatched elements: 1 / 1 (100%)\nMax absolute difference: 1.\nMax relative difference: inf\n x: array(1.)\n y: array([0.])",
     "output_type": "error",
     "traceback": [
      "\u001b[0;31m---------------------------------------------------------------------------\u001b[0m",
      "\u001b[0;31mAssertionError\u001b[0m                            Traceback (most recent call last)",
      "\u001b[1;32m/home/jovyan/loss_landscape_taxonomy/workspace/notebooks/metric_analysis.ipynb Cell 8\u001b[0m line \u001b[0;36m5\n\u001b[1;32m     <a href='vscode-notebook-cell://k8s-container%2Bcontext%3Dnautilus%2Bpodname%3Ddev-ll-pod%2Bnamespace%3Dnrp-u55c%2Bname%3Dgpu-container%2Bimage%3Djupyter%252fscipy-notebook/home/jovyan/loss_landscape_taxonomy/workspace/notebooks/metric_analysis.ipynb#X10sdnNjb2RlLXJlbW90ZQ%3D%3D?line=48'>49</a>\u001b[0m model\u001b[39m.\u001b[39mset_val_sum(val_sum)\n\u001b[1;32m     <a href='vscode-notebook-cell://k8s-container%2Bcontext%3Dnautilus%2Bpodname%3Ddev-ll-pod%2Bnamespace%3Dnrp-u55c%2Bname%3Dgpu-container%2Bimage%3Djupyter%252fscipy-notebook/home/jovyan/loss_landscape_taxonomy/workspace/notebooks/metric_analysis.ipynb#X10sdnNjb2RlLXJlbW90ZQ%3D%3D?line=49'>50</a>\u001b[0m data_module\u001b[39m.\u001b[39msetup(\u001b[39m\"\u001b[39m\u001b[39mtest\u001b[39m\u001b[39m\"\u001b[39m)\n\u001b[0;32m---> <a href='vscode-notebook-cell://k8s-container%2Bcontext%3Dnautilus%2Bpodname%3Ddev-ll-pod%2Bnamespace%3Dnrp-u55c%2Bname%3Dgpu-container%2Bimage%3Djupyter%252fscipy-notebook/home/jovyan/loss_landscape_taxonomy/workspace/notebooks/metric_analysis.ipynb#X10sdnNjb2RlLXJlbW90ZQ%3D%3D?line=51'>52</a>\u001b[0m test_results_new \u001b[39m=\u001b[39m trainer\u001b[39m.\u001b[39;49mtest(model, dataloaders\u001b[39m=\u001b[39;49mdata_module\u001b[39m.\u001b[39;49mtest_dataloader())\n\u001b[1;32m     <a href='vscode-notebook-cell://k8s-container%2Bcontext%3Dnautilus%2Bpodname%3Ddev-ll-pod%2Bnamespace%3Dnrp-u55c%2Bname%3Dgpu-container%2Bimage%3Djupyter%252fscipy-notebook/home/jovyan/loss_landscape_taxonomy/workspace/notebooks/metric_analysis.ipynb#X10sdnNjb2RlLXJlbW90ZQ%3D%3D?line=53'>54</a>\u001b[0m \u001b[39m# test_results_old = test_model(model, data_module.test_dataloader())\u001b[39;00m\n\u001b[1;32m     <a href='vscode-notebook-cell://k8s-container%2Bcontext%3Dnautilus%2Bpodname%3Ddev-ll-pod%2Bnamespace%3Dnrp-u55c%2Bname%3Dgpu-container%2Bimage%3Djupyter%252fscipy-notebook/home/jovyan/loss_landscape_taxonomy/workspace/notebooks/metric_analysis.ipynb#X10sdnNjb2RlLXJlbW90ZQ%3D%3D?line=55'>56</a>\u001b[0m test_results_new\n",
      "File \u001b[0;32m/opt/conda/envs/loss_landscape/lib/python3.8/site-packages/pytorch_lightning/trainer/trainer.py:785\u001b[0m, in \u001b[0;36mTrainer.test\u001b[0;34m(self, model, dataloaders, ckpt_path, verbose, datamodule)\u001b[0m\n\u001b[1;32m    783\u001b[0m     \u001b[39mraise\u001b[39;00m \u001b[39mTypeError\u001b[39;00m(\u001b[39mf\u001b[39m\u001b[39m\"\u001b[39m\u001b[39m`Trainer.test()` requires a `LightningModule`, got: \u001b[39m\u001b[39m{\u001b[39;00mmodel\u001b[39m.\u001b[39m\u001b[39m__class__\u001b[39m\u001b[39m.\u001b[39m\u001b[39m__qualname__\u001b[39m\u001b[39m}\u001b[39;00m\u001b[39m\"\u001b[39m)\n\u001b[1;32m    784\u001b[0m \u001b[39mself\u001b[39m\u001b[39m.\u001b[39mstrategy\u001b[39m.\u001b[39m_lightning_module \u001b[39m=\u001b[39m model \u001b[39mor\u001b[39;00m \u001b[39mself\u001b[39m\u001b[39m.\u001b[39mlightning_module\n\u001b[0;32m--> 785\u001b[0m \u001b[39mreturn\u001b[39;00m call\u001b[39m.\u001b[39;49m_call_and_handle_interrupt(\n\u001b[1;32m    786\u001b[0m     \u001b[39mself\u001b[39;49m, \u001b[39mself\u001b[39;49m\u001b[39m.\u001b[39;49m_test_impl, model, dataloaders, ckpt_path, verbose, datamodule\n\u001b[1;32m    787\u001b[0m )\n",
      "File \u001b[0;32m/opt/conda/envs/loss_landscape/lib/python3.8/site-packages/pytorch_lightning/trainer/call.py:38\u001b[0m, in \u001b[0;36m_call_and_handle_interrupt\u001b[0;34m(trainer, trainer_fn, *args, **kwargs)\u001b[0m\n\u001b[1;32m     36\u001b[0m         \u001b[39mreturn\u001b[39;00m trainer\u001b[39m.\u001b[39mstrategy\u001b[39m.\u001b[39mlauncher\u001b[39m.\u001b[39mlaunch(trainer_fn, \u001b[39m*\u001b[39margs, trainer\u001b[39m=\u001b[39mtrainer, \u001b[39m*\u001b[39m\u001b[39m*\u001b[39mkwargs)\n\u001b[1;32m     37\u001b[0m     \u001b[39melse\u001b[39;00m:\n\u001b[0;32m---> 38\u001b[0m         \u001b[39mreturn\u001b[39;00m trainer_fn(\u001b[39m*\u001b[39;49margs, \u001b[39m*\u001b[39;49m\u001b[39m*\u001b[39;49mkwargs)\n\u001b[1;32m     40\u001b[0m \u001b[39mexcept\u001b[39;00m _TunerExitException:\n\u001b[1;32m     41\u001b[0m     trainer\u001b[39m.\u001b[39m_call_teardown_hook()\n",
      "File \u001b[0;32m/opt/conda/envs/loss_landscape/lib/python3.8/site-packages/pytorch_lightning/trainer/trainer.py:834\u001b[0m, in \u001b[0;36mTrainer._test_impl\u001b[0;34m(self, model, dataloaders, ckpt_path, verbose, datamodule)\u001b[0m\n\u001b[1;32m    831\u001b[0m \u001b[39mself\u001b[39m\u001b[39m.\u001b[39m_tested_ckpt_path \u001b[39m=\u001b[39m \u001b[39mself\u001b[39m\u001b[39m.\u001b[39mckpt_path  \u001b[39m# TODO: remove in v1.8\u001b[39;00m\n\u001b[1;32m    833\u001b[0m \u001b[39m# run test\u001b[39;00m\n\u001b[0;32m--> 834\u001b[0m results \u001b[39m=\u001b[39m \u001b[39mself\u001b[39;49m\u001b[39m.\u001b[39;49m_run(model, ckpt_path\u001b[39m=\u001b[39;49m\u001b[39mself\u001b[39;49m\u001b[39m.\u001b[39;49mckpt_path)\n\u001b[1;32m    836\u001b[0m \u001b[39massert\u001b[39;00m \u001b[39mself\u001b[39m\u001b[39m.\u001b[39mstate\u001b[39m.\u001b[39mstopped\n\u001b[1;32m    837\u001b[0m \u001b[39mself\u001b[39m\u001b[39m.\u001b[39mtesting \u001b[39m=\u001b[39m \u001b[39mFalse\u001b[39;00m\n",
      "File \u001b[0;32m/opt/conda/envs/loss_landscape/lib/python3.8/site-packages/pytorch_lightning/trainer/trainer.py:1103\u001b[0m, in \u001b[0;36mTrainer._run\u001b[0;34m(self, model, ckpt_path)\u001b[0m\n\u001b[1;32m   1099\u001b[0m \u001b[39mself\u001b[39m\u001b[39m.\u001b[39m_checkpoint_connector\u001b[39m.\u001b[39mrestore_training_state()\n\u001b[1;32m   1101\u001b[0m \u001b[39mself\u001b[39m\u001b[39m.\u001b[39m_checkpoint_connector\u001b[39m.\u001b[39mresume_end()\n\u001b[0;32m-> 1103\u001b[0m results \u001b[39m=\u001b[39m \u001b[39mself\u001b[39;49m\u001b[39m.\u001b[39;49m_run_stage()\n\u001b[1;32m   1105\u001b[0m log\u001b[39m.\u001b[39mdetail(\u001b[39mf\u001b[39m\u001b[39m\"\u001b[39m\u001b[39m{\u001b[39;00m\u001b[39mself\u001b[39m\u001b[39m.\u001b[39m\u001b[39m__class__\u001b[39m\u001b[39m.\u001b[39m\u001b[39m__name__\u001b[39m\u001b[39m}\u001b[39;00m\u001b[39m: trainer tearing down\u001b[39m\u001b[39m\"\u001b[39m)\n\u001b[1;32m   1106\u001b[0m \u001b[39mself\u001b[39m\u001b[39m.\u001b[39m_teardown()\n",
      "File \u001b[0;32m/opt/conda/envs/loss_landscape/lib/python3.8/site-packages/pytorch_lightning/trainer/trainer.py:1179\u001b[0m, in \u001b[0;36mTrainer._run_stage\u001b[0;34m(self)\u001b[0m\n\u001b[1;32m   1176\u001b[0m \u001b[39mself\u001b[39m\u001b[39m.\u001b[39mstrategy\u001b[39m.\u001b[39mdispatch(\u001b[39mself\u001b[39m)\n\u001b[1;32m   1178\u001b[0m \u001b[39mif\u001b[39;00m \u001b[39mself\u001b[39m\u001b[39m.\u001b[39mevaluating:\n\u001b[0;32m-> 1179\u001b[0m     \u001b[39mreturn\u001b[39;00m \u001b[39mself\u001b[39;49m\u001b[39m.\u001b[39;49m_run_evaluate()\n\u001b[1;32m   1180\u001b[0m \u001b[39mif\u001b[39;00m \u001b[39mself\u001b[39m\u001b[39m.\u001b[39mpredicting:\n\u001b[1;32m   1181\u001b[0m     \u001b[39mreturn\u001b[39;00m \u001b[39mself\u001b[39m\u001b[39m.\u001b[39m_run_predict()\n",
      "File \u001b[0;32m/opt/conda/envs/loss_landscape/lib/python3.8/site-packages/pytorch_lightning/trainer/trainer.py:1219\u001b[0m, in \u001b[0;36mTrainer._run_evaluate\u001b[0;34m(self)\u001b[0m\n\u001b[1;32m   1214\u001b[0m \u001b[39mself\u001b[39m\u001b[39m.\u001b[39m_evaluation_loop\u001b[39m.\u001b[39mtrainer \u001b[39m=\u001b[39m \u001b[39mself\u001b[39m\n\u001b[1;32m   1216\u001b[0m \u001b[39mwith\u001b[39;00m \u001b[39mself\u001b[39m\u001b[39m.\u001b[39mprofiler\u001b[39m.\u001b[39mprofile(\u001b[39mf\u001b[39m\u001b[39m\"\u001b[39m\u001b[39mrun_\u001b[39m\u001b[39m{\u001b[39;00m\u001b[39mself\u001b[39m\u001b[39m.\u001b[39mstate\u001b[39m.\u001b[39mstage\u001b[39m}\u001b[39;00m\u001b[39m_evaluation\u001b[39m\u001b[39m\"\u001b[39m), _evaluation_context(\n\u001b[1;32m   1217\u001b[0m     \u001b[39mself\u001b[39m\u001b[39m.\u001b[39maccelerator, \u001b[39mself\u001b[39m\u001b[39m.\u001b[39m_inference_mode\n\u001b[1;32m   1218\u001b[0m ):\n\u001b[0;32m-> 1219\u001b[0m     eval_loop_results \u001b[39m=\u001b[39m \u001b[39mself\u001b[39;49m\u001b[39m.\u001b[39;49m_evaluation_loop\u001b[39m.\u001b[39;49mrun()\n\u001b[1;32m   1221\u001b[0m \u001b[39m# remove the tensors from the eval results\u001b[39;00m\n\u001b[1;32m   1222\u001b[0m \u001b[39mfor\u001b[39;00m result \u001b[39min\u001b[39;00m eval_loop_results:\n",
      "File \u001b[0;32m/opt/conda/envs/loss_landscape/lib/python3.8/site-packages/pytorch_lightning/loops/loop.py:206\u001b[0m, in \u001b[0;36mLoop.run\u001b[0;34m(self, *args, **kwargs)\u001b[0m\n\u001b[1;32m    203\u001b[0m         \u001b[39mbreak\u001b[39;00m\n\u001b[1;32m    204\u001b[0m \u001b[39mself\u001b[39m\u001b[39m.\u001b[39m_restarting \u001b[39m=\u001b[39m \u001b[39mFalse\u001b[39;00m\n\u001b[0;32m--> 206\u001b[0m output \u001b[39m=\u001b[39m \u001b[39mself\u001b[39;49m\u001b[39m.\u001b[39;49mon_run_end()\n\u001b[1;32m    207\u001b[0m \u001b[39mreturn\u001b[39;00m output\n",
      "File \u001b[0;32m/opt/conda/envs/loss_landscape/lib/python3.8/site-packages/pytorch_lightning/loops/dataloader/evaluation_loop.py:180\u001b[0m, in \u001b[0;36mEvaluationLoop.on_run_end\u001b[0;34m(self)\u001b[0m\n\u001b[1;32m    177\u001b[0m \u001b[39mself\u001b[39m\u001b[39m.\u001b[39mtrainer\u001b[39m.\u001b[39m_logger_connector\u001b[39m.\u001b[39mepoch_end_reached()\n\u001b[1;32m    179\u001b[0m \u001b[39m# hook\u001b[39;00m\n\u001b[0;32m--> 180\u001b[0m \u001b[39mself\u001b[39;49m\u001b[39m.\u001b[39;49m_evaluation_epoch_end(\u001b[39mself\u001b[39;49m\u001b[39m.\u001b[39;49m_outputs)\n\u001b[1;32m    181\u001b[0m \u001b[39mself\u001b[39m\u001b[39m.\u001b[39m_outputs \u001b[39m=\u001b[39m []  \u001b[39m# free memory\u001b[39;00m\n\u001b[1;32m    183\u001b[0m \u001b[39m# hook\u001b[39;00m\n",
      "File \u001b[0;32m/opt/conda/envs/loss_landscape/lib/python3.8/site-packages/pytorch_lightning/loops/dataloader/evaluation_loop.py:288\u001b[0m, in \u001b[0;36mEvaluationLoop._evaluation_epoch_end\u001b[0;34m(self, outputs)\u001b[0m\n\u001b[1;32m    286\u001b[0m \u001b[39m# call the model epoch end\u001b[39;00m\n\u001b[1;32m    287\u001b[0m hook_name \u001b[39m=\u001b[39m \u001b[39m\"\u001b[39m\u001b[39mtest_epoch_end\u001b[39m\u001b[39m\"\u001b[39m \u001b[39mif\u001b[39;00m \u001b[39mself\u001b[39m\u001b[39m.\u001b[39mtrainer\u001b[39m.\u001b[39mtesting \u001b[39melse\u001b[39;00m \u001b[39m\"\u001b[39m\u001b[39mvalidation_epoch_end\u001b[39m\u001b[39m\"\u001b[39m\n\u001b[0;32m--> 288\u001b[0m \u001b[39mself\u001b[39;49m\u001b[39m.\u001b[39;49mtrainer\u001b[39m.\u001b[39;49m_call_lightning_module_hook(hook_name, output_or_outputs)\n",
      "File \u001b[0;32m/opt/conda/envs/loss_landscape/lib/python3.8/site-packages/pytorch_lightning/trainer/trainer.py:1347\u001b[0m, in \u001b[0;36mTrainer._call_lightning_module_hook\u001b[0;34m(self, hook_name, pl_module, *args, **kwargs)\u001b[0m\n\u001b[1;32m   1344\u001b[0m pl_module\u001b[39m.\u001b[39m_current_fx_name \u001b[39m=\u001b[39m hook_name\n\u001b[1;32m   1346\u001b[0m \u001b[39mwith\u001b[39;00m \u001b[39mself\u001b[39m\u001b[39m.\u001b[39mprofiler\u001b[39m.\u001b[39mprofile(\u001b[39mf\u001b[39m\u001b[39m\"\u001b[39m\u001b[39m[LightningModule]\u001b[39m\u001b[39m{\u001b[39;00mpl_module\u001b[39m.\u001b[39m\u001b[39m__class__\u001b[39m\u001b[39m.\u001b[39m\u001b[39m__name__\u001b[39m\u001b[39m}\u001b[39;00m\u001b[39m.\u001b[39m\u001b[39m{\u001b[39;00mhook_name\u001b[39m}\u001b[39;00m\u001b[39m\"\u001b[39m):\n\u001b[0;32m-> 1347\u001b[0m     output \u001b[39m=\u001b[39m fn(\u001b[39m*\u001b[39;49margs, \u001b[39m*\u001b[39;49m\u001b[39m*\u001b[39;49mkwargs)\n\u001b[1;32m   1349\u001b[0m \u001b[39m# restore current_fx when nested context\u001b[39;00m\n\u001b[1;32m   1350\u001b[0m pl_module\u001b[39m.\u001b[39m_current_fx_name \u001b[39m=\u001b[39m prev_fx_name\n",
      "File \u001b[0;32m~/loss_landscape_taxonomy/workspace/models/econ/code/q_autoencoder.py:322\u001b[0m, in \u001b[0;36mAutoEncoder.test_epoch_end\u001b[0;34m(self, outputs)\u001b[0m\n\u001b[1;32m    317\u001b[0m output_calQ \u001b[39m=\u001b[39m torch\u001b[39m.\u001b[39mcat(\n\u001b[1;32m    318\u001b[0m     ([i_cal[\u001b[39m'\u001b[39m\u001b[39moutput_calQ\u001b[39m\u001b[39m'\u001b[39m] \u001b[39mfor\u001b[39;00m i_cal \u001b[39min\u001b[39;00m outputs]),\n\u001b[1;32m    319\u001b[0m     dim\u001b[39m=\u001b[39m\u001b[39m0\u001b[39m\n\u001b[1;32m    320\u001b[0m )\n\u001b[1;32m    321\u001b[0m \u001b[39m# compute the average EMD\u001b[39;00m\n\u001b[0;32m--> 322\u001b[0m emd_list \u001b[39m=\u001b[39m [emd(x, y) \u001b[39mfor\u001b[39;00m x, y \u001b[39min\u001b[39;00m \u001b[39mzip\u001b[39m(input_calQ\u001b[39m.\u001b[39mtolist(), output_calQ\u001b[39m.\u001b[39mtolist())]\n\u001b[1;32m    323\u001b[0m average_emd \u001b[39m=\u001b[39m np\u001b[39m.\u001b[39mmean(np\u001b[39m.\u001b[39marray(emd_list))\n\u001b[1;32m    324\u001b[0m result \u001b[39m=\u001b[39m {\u001b[39m'\u001b[39m\u001b[39mAVG_EMD\u001b[39m\u001b[39m'\u001b[39m: average_emd}\n",
      "File \u001b[0;32m~/loss_landscape_taxonomy/workspace/models/econ/code/q_autoencoder.py:322\u001b[0m, in \u001b[0;36m<listcomp>\u001b[0;34m(.0)\u001b[0m\n\u001b[1;32m    317\u001b[0m output_calQ \u001b[39m=\u001b[39m torch\u001b[39m.\u001b[39mcat(\n\u001b[1;32m    318\u001b[0m     ([i_cal[\u001b[39m'\u001b[39m\u001b[39moutput_calQ\u001b[39m\u001b[39m'\u001b[39m] \u001b[39mfor\u001b[39;00m i_cal \u001b[39min\u001b[39;00m outputs]),\n\u001b[1;32m    319\u001b[0m     dim\u001b[39m=\u001b[39m\u001b[39m0\u001b[39m\n\u001b[1;32m    320\u001b[0m )\n\u001b[1;32m    321\u001b[0m \u001b[39m# compute the average EMD\u001b[39;00m\n\u001b[0;32m--> 322\u001b[0m emd_list \u001b[39m=\u001b[39m [emd(x, y) \u001b[39mfor\u001b[39;00m x, y \u001b[39min\u001b[39;00m \u001b[39mzip\u001b[39m(input_calQ\u001b[39m.\u001b[39mtolist(), output_calQ\u001b[39m.\u001b[39mtolist())]\n\u001b[1;32m    323\u001b[0m average_emd \u001b[39m=\u001b[39m np\u001b[39m.\u001b[39mmean(np\u001b[39m.\u001b[39marray(emd_list))\n\u001b[1;32m    324\u001b[0m result \u001b[39m=\u001b[39m {\u001b[39m'\u001b[39m\u001b[39mAVG_EMD\u001b[39m\u001b[39m'\u001b[39m: average_emd}\n",
      "File \u001b[0;32m~/loss_landscape_taxonomy/workspace/models/econ/code/utils_pt.py:119\u001b[0m, in \u001b[0;36memd\u001b[0;34m(_x, _y, threshold)\u001b[0m\n\u001b[1;32m    116\u001b[0m     x \u001b[39m=\u001b[39m \u001b[39m1.0\u001b[39m \u001b[39m*\u001b[39m x \u001b[39m/\u001b[39m x\u001b[39m.\u001b[39msum()\n\u001b[1;32m    117\u001b[0m     y \u001b[39m=\u001b[39m \u001b[39m1.0\u001b[39m \u001b[39m*\u001b[39m y \u001b[39m/\u001b[39m y\u001b[39m.\u001b[39msum()\n\u001b[0;32m--> 119\u001b[0m result \u001b[39m=\u001b[39m ot\u001b[39m.\u001b[39;49memd2(x, y, hex_metric)\n\u001b[1;32m    120\u001b[0m \u001b[39mreturn\u001b[39;00m result\n",
      "File \u001b[0;32m/opt/conda/envs/loss_landscape/lib/python3.8/site-packages/ot/lp/__init__.py:492\u001b[0m, in \u001b[0;36memd2\u001b[0;34m(a, b, M, processes, numItermax, log, return_matrix, center_dual, numThreads)\u001b[0m\n\u001b[1;32m    488\u001b[0m \u001b[39massert\u001b[39;00m (a\u001b[39m.\u001b[39mshape[\u001b[39m0\u001b[39m] \u001b[39m==\u001b[39m M\u001b[39m.\u001b[39mshape[\u001b[39m0\u001b[39m] \u001b[39mand\u001b[39;00m b\u001b[39m.\u001b[39mshape[\u001b[39m0\u001b[39m] \u001b[39m==\u001b[39m M\u001b[39m.\u001b[39mshape[\u001b[39m1\u001b[39m]), \\\n\u001b[1;32m    489\u001b[0m     \u001b[39m\"\u001b[39m\u001b[39mDimension mismatch, check dimensions of M with a and b\u001b[39m\u001b[39m\"\u001b[39m\n\u001b[1;32m    491\u001b[0m \u001b[39m# ensure that same mass\u001b[39;00m\n\u001b[0;32m--> 492\u001b[0m np\u001b[39m.\u001b[39;49mtesting\u001b[39m.\u001b[39;49massert_almost_equal(a\u001b[39m.\u001b[39;49msum(\u001b[39m0\u001b[39;49m),\n\u001b[1;32m    493\u001b[0m                                b\u001b[39m.\u001b[39;49msum(\u001b[39m0\u001b[39;49m,keepdims\u001b[39m=\u001b[39;49m\u001b[39mTrue\u001b[39;49;00m), err_msg\u001b[39m=\u001b[39;49m\u001b[39m'\u001b[39;49m\u001b[39ma and b vector must have the same sum\u001b[39;49m\u001b[39m'\u001b[39;49m)\n\u001b[1;32m    494\u001b[0m b \u001b[39m=\u001b[39m b \u001b[39m*\u001b[39m a\u001b[39m.\u001b[39msum(\u001b[39m0\u001b[39m) \u001b[39m/\u001b[39m b\u001b[39m.\u001b[39msum(\u001b[39m0\u001b[39m,keepdims\u001b[39m=\u001b[39m\u001b[39mTrue\u001b[39;00m)\n\u001b[1;32m    496\u001b[0m asel \u001b[39m=\u001b[39m a \u001b[39m!=\u001b[39m \u001b[39m0\u001b[39m\n",
      "File \u001b[0;32m/opt/conda/envs/loss_landscape/lib/python3.8/contextlib.py:75\u001b[0m, in \u001b[0;36mContextDecorator.__call__.<locals>.inner\u001b[0;34m(*args, **kwds)\u001b[0m\n\u001b[1;32m     72\u001b[0m \u001b[39m@wraps\u001b[39m(func)\n\u001b[1;32m     73\u001b[0m \u001b[39mdef\u001b[39;00m \u001b[39minner\u001b[39m(\u001b[39m*\u001b[39margs, \u001b[39m*\u001b[39m\u001b[39m*\u001b[39mkwds):\n\u001b[1;32m     74\u001b[0m     \u001b[39mwith\u001b[39;00m \u001b[39mself\u001b[39m\u001b[39m.\u001b[39m_recreate_cm():\n\u001b[0;32m---> 75\u001b[0m         \u001b[39mreturn\u001b[39;00m func(\u001b[39m*\u001b[39;49margs, \u001b[39m*\u001b[39;49m\u001b[39m*\u001b[39;49mkwds)\n",
      "    \u001b[0;31m[... skipping hidden 1 frame]\u001b[0m\n",
      "File \u001b[0;32m/opt/conda/envs/loss_landscape/lib/python3.8/contextlib.py:75\u001b[0m, in \u001b[0;36mContextDecorator.__call__.<locals>.inner\u001b[0;34m(*args, **kwds)\u001b[0m\n\u001b[1;32m     72\u001b[0m \u001b[39m@wraps\u001b[39m(func)\n\u001b[1;32m     73\u001b[0m \u001b[39mdef\u001b[39;00m \u001b[39minner\u001b[39m(\u001b[39m*\u001b[39margs, \u001b[39m*\u001b[39m\u001b[39m*\u001b[39mkwds):\n\u001b[1;32m     74\u001b[0m     \u001b[39mwith\u001b[39;00m \u001b[39mself\u001b[39m\u001b[39m.\u001b[39m_recreate_cm():\n\u001b[0;32m---> 75\u001b[0m         \u001b[39mreturn\u001b[39;00m func(\u001b[39m*\u001b[39;49margs, \u001b[39m*\u001b[39;49m\u001b[39m*\u001b[39;49mkwds)\n",
      "    \u001b[0;31m[... skipping hidden 1 frame]\u001b[0m\n",
      "File \u001b[0;32m/opt/conda/envs/loss_landscape/lib/python3.8/contextlib.py:75\u001b[0m, in \u001b[0;36mContextDecorator.__call__.<locals>.inner\u001b[0;34m(*args, **kwds)\u001b[0m\n\u001b[1;32m     72\u001b[0m \u001b[39m@wraps\u001b[39m(func)\n\u001b[1;32m     73\u001b[0m \u001b[39mdef\u001b[39;00m \u001b[39minner\u001b[39m(\u001b[39m*\u001b[39margs, \u001b[39m*\u001b[39m\u001b[39m*\u001b[39mkwds):\n\u001b[1;32m     74\u001b[0m     \u001b[39mwith\u001b[39;00m \u001b[39mself\u001b[39m\u001b[39m.\u001b[39m_recreate_cm():\n\u001b[0;32m---> 75\u001b[0m         \u001b[39mreturn\u001b[39;00m func(\u001b[39m*\u001b[39;49margs, \u001b[39m*\u001b[39;49m\u001b[39m*\u001b[39;49mkwds)\n",
      "File \u001b[0;32m/opt/conda/envs/loss_landscape/lib/python3.8/site-packages/numpy/testing/_private/utils.py:862\u001b[0m, in \u001b[0;36massert_array_compare\u001b[0;34m(comparison, x, y, err_msg, verbose, header, precision, equal_nan, equal_inf, strict)\u001b[0m\n\u001b[1;32m    858\u001b[0m         err_msg \u001b[39m+\u001b[39m\u001b[39m=\u001b[39m \u001b[39m'\u001b[39m\u001b[39m\\n\u001b[39;00m\u001b[39m'\u001b[39m \u001b[39m+\u001b[39m \u001b[39m'\u001b[39m\u001b[39m\\n\u001b[39;00m\u001b[39m'\u001b[39m\u001b[39m.\u001b[39mjoin(remarks)\n\u001b[1;32m    859\u001b[0m         msg \u001b[39m=\u001b[39m build_err_msg([ox, oy], err_msg,\n\u001b[1;32m    860\u001b[0m                             verbose\u001b[39m=\u001b[39mverbose, header\u001b[39m=\u001b[39mheader,\n\u001b[1;32m    861\u001b[0m                             names\u001b[39m=\u001b[39m(\u001b[39m'\u001b[39m\u001b[39mx\u001b[39m\u001b[39m'\u001b[39m, \u001b[39m'\u001b[39m\u001b[39my\u001b[39m\u001b[39m'\u001b[39m), precision\u001b[39m=\u001b[39mprecision)\n\u001b[0;32m--> 862\u001b[0m         \u001b[39mraise\u001b[39;00m \u001b[39mAssertionError\u001b[39;00m(msg)\n\u001b[1;32m    863\u001b[0m \u001b[39mexcept\u001b[39;00m \u001b[39mValueError\u001b[39;00m:\n\u001b[1;32m    864\u001b[0m     \u001b[39mimport\u001b[39;00m \u001b[39mtraceback\u001b[39;00m\n",
      "\u001b[0;31mAssertionError\u001b[0m: \nArrays are not almost equal to 7 decimals\na and b vector must have the same sum\nMismatched elements: 1 / 1 (100%)\nMax absolute difference: 1.\nMax relative difference: inf\n x: array(1.)\n y: array([0.])"
     ]
    }
   ],
   "source": [
    "import pytorch_lightning as pl \n",
    "import tqdm\n",
    "import numpy as np\n",
    "import multiprocessing\n",
    "import time\n",
    "module_path = os.path.abspath(os.path.join('../../workspace/models/econ/code/')) # or the path to your source code\n",
    "sys.path.insert(0, module_path)\n",
    "from utils_pt import *\n",
    "\n",
    "\n",
    "\n",
    "trainer = pl.Trainer(\n",
    "        max_epochs=5,\n",
    "        accelerator=\"auto\",\n",
    "        devices=1\n",
    "    )\n",
    "\n",
    "_, val_sum = data_module.get_val_max_and_sum()\n",
    "model.set_val_sum(val_sum)\n",
    "data_module.setup(\"test\")\n",
    "\n",
    "test_results_new = trainer.test(model, dataloaders=data_module.test_dataloader())\n",
    "\n",
    "# test_results_old = test_model(model, data_module.test_dataloader())\n",
    "\n",
    "test_results_new\n"
   ]
  },
  {
   "cell_type": "markdown",
   "metadata": {},
   "source": [
    "Model performances:"
   ]
  },
  {
   "cell_type": "code",
   "execution_count": null,
   "metadata": {},
   "outputs": [
    {
     "data": {
      "text/plain": [
       "Launching TensorBoard..."
      ]
     },
     "metadata": {},
     "output_type": "display_data"
    }
   ],
   "source": [
    "%load_ext tensorboard\n",
    "%tensorboard --logdir base_path + f'bs{batch_size}_lr{learning_rate}/ECON_{precision}b/{size}/'"
   ]
  },
  {
   "cell_type": "markdown",
   "metadata": {},
   "source": [
    "## Gradient computation"
   ]
  },
  {
   "cell_type": "code",
   "execution_count": null,
   "metadata": {},
   "outputs": [
    {
     "name": "stdout",
     "output_type": "stream",
     "text": [
      "Computing the gradients...\n"
     ]
    },
    {
     "ename": "ValueError",
     "evalue": "too many values to unpack (expected 2)",
     "output_type": "error",
     "traceback": [
      "\u001b[0;31m---------------------------------------------------------------------------\u001b[0m",
      "\u001b[0;31mValueError\u001b[0m                                Traceback (most recent call last)",
      "\u001b[1;32m/home/jovyan/loss_landscape_taxonomy/workspace/notebooks/metric_analysis.ipynb Cell 12\u001b[0m line \u001b[0;36m7\n\u001b[1;32m      <a href='vscode-notebook-cell://k8s-container%2Bcontext%3Dnautilus%2Bpodname%3Ddev-ll-pod%2Bnamespace%3Dnrp-u55c%2Bname%3Dgpu-container%2Bimage%3Djupyter%252fscipy-notebook/home/jovyan/loss_landscape_taxonomy/workspace/notebooks/metric_analysis.ipynb#X14sdnNjb2RlLXJlbW90ZQ%3D%3D?line=0'>1</a>\u001b[0m metric \u001b[39m=\u001b[39m Gradient(\n\u001b[1;32m      <a href='vscode-notebook-cell://k8s-container%2Bcontext%3Dnautilus%2Bpodname%3Ddev-ll-pod%2Bnamespace%3Dnrp-u55c%2Bname%3Dgpu-container%2Bimage%3Djupyter%252fscipy-notebook/home/jovyan/loss_landscape_taxonomy/workspace/notebooks/metric_analysis.ipynb#X14sdnNjb2RlLXJlbW90ZQ%3D%3D?line=1'>2</a>\u001b[0m     model\u001b[39m=\u001b[39mmodel,\n\u001b[1;32m      <a href='vscode-notebook-cell://k8s-container%2Bcontext%3Dnautilus%2Bpodname%3Ddev-ll-pod%2Bnamespace%3Dnrp-u55c%2Bname%3Dgpu-container%2Bimage%3Djupyter%252fscipy-notebook/home/jovyan/loss_landscape_taxonomy/workspace/notebooks/metric_analysis.ipynb#X14sdnNjb2RlLXJlbW90ZQ%3D%3D?line=2'>3</a>\u001b[0m     data_loader\u001b[39m=\u001b[39mdata_loader,\n\u001b[1;32m      <a href='vscode-notebook-cell://k8s-container%2Bcontext%3Dnautilus%2Bpodname%3Ddev-ll-pod%2Bnamespace%3Dnrp-u55c%2Bname%3Dgpu-container%2Bimage%3Djupyter%252fscipy-notebook/home/jovyan/loss_landscape_taxonomy/workspace/notebooks/metric_analysis.ipynb#X14sdnNjb2RlLXJlbW90ZQ%3D%3D?line=3'>4</a>\u001b[0m     loss\u001b[39m=\u001b[39mmodel\u001b[39m.\u001b[39mloss\n\u001b[1;32m      <a href='vscode-notebook-cell://k8s-container%2Bcontext%3Dnautilus%2Bpodname%3Ddev-ll-pod%2Bnamespace%3Dnrp-u55c%2Bname%3Dgpu-container%2Bimage%3Djupyter%252fscipy-notebook/home/jovyan/loss_landscape_taxonomy/workspace/notebooks/metric_analysis.ipynb#X14sdnNjb2RlLXJlbW90ZQ%3D%3D?line=4'>5</a>\u001b[0m )\n\u001b[0;32m----> <a href='vscode-notebook-cell://k8s-container%2Bcontext%3Dnautilus%2Bpodname%3Ddev-ll-pod%2Bnamespace%3Dnrp-u55c%2Bname%3Dgpu-container%2Bimage%3Djupyter%252fscipy-notebook/home/jovyan/loss_landscape_taxonomy/workspace/notebooks/metric_analysis.ipynb#X14sdnNjb2RlLXJlbW90ZQ%3D%3D?line=6'>7</a>\u001b[0m metric\u001b[39m.\u001b[39;49mcompute()\n",
      "File \u001b[0;32m~/loss_landscape_taxonomy/workspace/common/metrics/gradient.py:27\u001b[0m, in \u001b[0;36mGradient.compute\u001b[0;34m(self)\u001b[0m\n\u001b[1;32m     25\u001b[0m \u001b[39mprint\u001b[39m(\u001b[39m\"\u001b[39m\u001b[39mComputing the gradients...\u001b[39m\u001b[39m\"\u001b[39m)\n\u001b[1;32m     26\u001b[0m gradient_traces \u001b[39m=\u001b[39m []\n\u001b[0;32m---> 27\u001b[0m \u001b[39mfor\u001b[39;00m batch, target \u001b[39min\u001b[39;00m \u001b[39mself\u001b[39m\u001b[39m.\u001b[39mdata_loader:\n\u001b[1;32m     28\u001b[0m     outputs \u001b[39m=\u001b[39m \u001b[39mself\u001b[39m\u001b[39m.\u001b[39mmodel(batch)\n\u001b[1;32m     29\u001b[0m     loss \u001b[39m=\u001b[39m \u001b[39mself\u001b[39m\u001b[39m.\u001b[39mloss(outputs, target\u001b[39m.\u001b[39mfloat()) \n",
      "\u001b[0;31mValueError\u001b[0m: too many values to unpack (expected 2)"
     ]
    }
   ],
   "source": [
    "metric = Gradient(\n",
    "    model=model,\n",
    "    data_loader=data_loader,\n",
    "    loss=model.loss\n",
    ")\n",
    "\n",
    "metric.compute()"
   ]
  }
 ],
 "metadata": {
  "kernelspec": {
   "display_name": "loss_landscape",
   "language": "python",
   "name": "python3"
  },
  "language_info": {
   "codemirror_mode": {
    "name": "ipython",
    "version": 3
   },
   "file_extension": ".py",
   "mimetype": "text/x-python",
   "name": "python",
   "nbconvert_exporter": "python",
   "pygments_lexer": "ipython3",
   "version": "3.8.12"
  }
 },
 "nbformat": 4,
 "nbformat_minor": 2
}
