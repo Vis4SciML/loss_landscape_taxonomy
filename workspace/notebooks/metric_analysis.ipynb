{
 "cells": [
  {
   "cell_type": "markdown",
   "metadata": {},
   "source": [
    "# Metric Analysis for ECON model"
   ]
  },
  {
   "cell_type": "code",
   "execution_count": 1,
   "metadata": {},
   "outputs": [
    {
     "name": "stderr",
     "output_type": "stream",
     "text": [
      "/opt/conda/envs/loss_landscape/lib/python3.8/site-packages/torchvision/io/image.py:11: UserWarning: Failed to load image Python extension: libtorch_cuda_cu.so: cannot open shared object file: No such file or directory\n",
      "  warn(f\"Failed to load image Python extension: {e}\")\n",
      "/opt/conda/envs/loss_landscape/lib/python3.8/site-packages/scipy/__init__.py:146: UserWarning: A NumPy version >=1.16.5 and <1.23.0 is required for this version of SciPy (detected version 1.24.3\n",
      "  warnings.warn(f\"A NumPy version >={np_minversion} and <{np_maxversion}\"\n",
      "2023-11-21 17:52:19.256904: I tensorflow/core/platform/cpu_feature_guard.cc:182] This TensorFlow binary is optimized to use available CPU instructions in performance-critical operations.\n",
      "To enable the following instructions: AVX2 FMA, in other operations, rebuild TensorFlow with the appropriate compiler flags.\n",
      "2023-11-21 17:52:20.025311: W tensorflow/compiler/tf2tensorrt/utils/py_utils.cc:38] TF-TRT Warning: Could not find TensorRT\n"
     ]
    }
   ],
   "source": [
    "%reload_ext autoreload\n",
    "%autoreload 2\n",
    "\n",
    "# from common.metrics.gradient import Gradient\n",
    "import torch\n",
    "import torchinfo\n",
    "import pytorch_lightning as pl \n",
    "import os\n",
    "import sys\n",
    "\n",
    "# import modules from ECON model\n",
    "module_path = os.path.abspath(os.path.join('../../workspace/models/econ/code/')) # or the path to your source code\n",
    "sys.path.insert(0, module_path)\n",
    "from q_autoencoder import AutoEncoder\n",
    "from autoencoder_datamodule import AutoEncoderDataModule\n",
    "\n",
    "# import modules from common metrics\n",
    "module_path = os.path.abspath(os.path.join('../../workspace/common/metrics/')) # or the path to your source code\n",
    "sys.path.insert(0, module_path)\n",
    "from gradient import Gradient\n",
    "\n"
   ]
  },
  {
   "cell_type": "markdown",
   "metadata": {},
   "source": [
    "Select the desired ECON model:"
   ]
  },
  {
   "cell_type": "code",
   "execution_count": 2,
   "metadata": {},
   "outputs": [],
   "source": [
    "base_path = \"/loss_landscape/checkpoint/different_knobs_subset_10/\"\n",
    "batch_size = 1024\n",
    "learning_rate = 0.1\n",
    "precision = 8\n",
    "size = 'small'"
   ]
  },
  {
   "cell_type": "code",
   "execution_count": 3,
   "metadata": {},
   "outputs": [
    {
     "name": "stdout",
     "output_type": "stream",
     "text": [
      "quant_act_int cpu\n",
      "correct_output_scale cpu\n",
      "quant_act_int cpu\n",
      "correct_output_scale cpu\n",
      "/loss_landscape/checkpoint/different_knobs_subset_10/bs1024_lr0.1/ECON_8b/small/net_1_best.pkl\n",
      "quant_act_int cuda:0\n",
      "correct_output_scale cuda:0\n",
      "quant_act_int cuda:0\n",
      "correct_output_scale cuda:0\n"
     ]
    },
    {
     "data": {
      "text/plain": [
       "==========================================================================================\n",
       "Layer (type:depth-idx)                   Output Shape              Param #\n",
       "==========================================================================================\n",
       "AutoEncoder                              [1, 1, 8, 8]              --\n",
       "├─QuantizedEncoder: 1-1                  [1, 16]                   --\n",
       "│    └─QuantAct: 2-1                     [1, 1, 8, 8]              --\n",
       "│    └─QuantConv2d: 2-2                  [1, 1, 4, 4]              20\n",
       "│    └─ReLU: 2-3                         [1, 1, 4, 4]              --\n",
       "│    └─QuantAct: 2-4                     [1, 1, 4, 4]              --\n",
       "│    └─Flatten: 2-5                      [1, 16]                   --\n",
       "│    └─QuantLinear: 2-6                  [1, 16]                   272\n",
       "│    └─ReLU: 2-7                         [1, 16]                   --\n",
       "├─Sequential: 1-2                        [1, 1, 8, 8]              --\n",
       "│    └─Linear: 2-8                       [1, 128]                  2,176\n",
       "│    └─ReLU: 2-9                         [1, 128]                  --\n",
       "│    └─Unflatten: 2-10                   [1, 8, 4, 4]              --\n",
       "│    └─ConvTranspose2d: 2-11             [1, 8, 8, 8]              584\n",
       "│    └─ReLU: 2-12                        [1, 8, 8, 8]              --\n",
       "│    └─ConvTranspose2d: 2-13             [1, 1, 8, 8]              73\n",
       "│    └─Sigmoid: 2-14                     [1, 1, 8, 8]              --\n",
       "==========================================================================================\n",
       "Total params: 3,125\n",
       "Trainable params: 3,125\n",
       "Non-trainable params: 0\n",
       "Total mult-adds (M): 0.04\n",
       "==========================================================================================\n",
       "Input size (MB): 0.00\n",
       "Forward/backward pass size (MB): 0.01\n",
       "Params size (MB): 0.01\n",
       "Estimated Total Size (MB): 0.02\n",
       "=========================================================================================="
      ]
     },
     "execution_count": 3,
     "metadata": {},
     "output_type": "execute_result"
    }
   ],
   "source": [
    "def load_model(path, batch_size, learning_rate, precision, size):\n",
    "    model_path = path + f'bs{batch_size}_lr{learning_rate}/ECON_{precision}b/{size}/net_1_best.pkl'\n",
    "    model = AutoEncoder(\n",
    "        quantize=(precision < 32),\n",
    "        precision=[\n",
    "            precision,\n",
    "            precision,\n",
    "            precision+3\n",
    "        ],\n",
    "        learning_rate=learning_rate,\n",
    "        econ_type=size\n",
    "    )\n",
    "    model(torch.randn((1, 1, 8, 8)))  # Update tensor shapes \n",
    "    print(model_path)\n",
    "    model_param = torch.load(model_path)\n",
    "    model.load_state_dict(model_param['state_dict'])\n",
    "    return model\n",
    "\n",
    "\n",
    "model = load_model(base_path, batch_size, learning_rate, precision, size)\n",
    "torchinfo.summary(model, input_size=(1, 1, 8, 8))  # (B, C, H, W)            "
   ]
  },
  {
   "cell_type": "markdown",
   "metadata": {},
   "source": [
    "Setup the data loader:"
   ]
  },
  {
   "cell_type": "code",
   "execution_count": 4,
   "metadata": {},
   "outputs": [
    {
     "name": "stdout",
     "output_type": "stream",
     "text": [
      "Loaded shaped data shape: (1740950, 1, 8, 8)\n",
      "Loaded shaped data datatype: float32\n"
     ]
    }
   ],
   "source": [
    "data_path = '../../data/ECON/Elegun'\n",
    "processed_file = 'nELinks5.npy'\n",
    "\n",
    "def get_data_module(batch_size):\n",
    "    data_module = AutoEncoderDataModule(\n",
    "        data_dir=data_path,\n",
    "        data_file=os.path.join(data_path, processed_file),\n",
    "        batch_size=batch_size,\n",
    "        num_workers=4\n",
    "        )\n",
    "    # checek if we have processed the data\n",
    "    if not os.path.exists(os.path.join(data_path, processed_file)):\n",
    "        print('Processing the data...')\n",
    "        data_module.process_data(save=True)\n",
    "\n",
    "    data_module.setup(0)\n",
    "    return data_module\n",
    "\n",
    "data_module = get_data_module(batch_size)"
   ]
  },
  {
   "cell_type": "markdown",
   "metadata": {},
   "source": [
    "Model performances:"
   ]
  },
  {
   "cell_type": "code",
   "execution_count": 5,
   "metadata": {},
   "outputs": [
    {
     "name": "stderr",
     "output_type": "stream",
     "text": [
      "GPU available: True (cuda), used: False\n",
      "TPU available: False, using: 0 TPU cores\n",
      "IPU available: False, using: 0 IPUs\n",
      "HPU available: False, using: 0 HPUs\n",
      "/opt/conda/envs/loss_landscape/lib/python3.8/site-packages/pytorch_lightning/trainer/setup.py:175: PossibleUserWarning: GPU available but not used. Set `accelerator` and `devices` using `Trainer(accelerator='gpu', devices=1)`.\n",
      "  rank_zero_warn(\n"
     ]
    }
   ],
   "source": [
    "trainer = pl.Trainer(\n",
    "        max_epochs=5,\n",
    "        accelerator=\"cpu\",\n",
    "        devices=1\n",
    "    )\n",
    "\n",
    "def compute_EMD(size, precision, bs, lr):\n",
    "    # load the model \n",
    "    model = load_model(base_path, bs, lr, precision, size)\n",
    "    # get the data loader\n",
    "    data_module = get_data_module(bs)\n",
    "    _, val_sum = data_module.get_val_max_and_sum()\n",
    "    model.set_val_sum(val_sum)\n",
    "    data_module.setup(\"test\")\n",
    "    avg_emd = trainer.test(model, dataloaders=data_module.test_dataloader(), verbose=False)\n",
    "    print(f'BATCH SIZE: {bs} - LEARNING RATE {lr} - SIZE {size} - PRECISION {precision}')\n",
    "    print(\"AVG EMD: \", avg_emd)\n",
    "    \n",
    "\n",
    "# compute_EMD('small', 8, batch_size, learning_rate)"
   ]
  },
  {
   "cell_type": "markdown",
   "metadata": {},
   "source": [
    "## Gradient computation"
   ]
  },
  {
   "cell_type": "code",
   "execution_count": 19,
   "metadata": {},
   "outputs": [
    {
     "name": "stdout",
     "output_type": "stream",
     "text": [
      "Computing the gradients...\n"
     ]
    },
    {
     "ename": "AttributeError",
     "evalue": "'list' object has no attribute 'cpu'",
     "output_type": "error",
     "traceback": [
      "\u001b[0;31m---------------------------------------------------------------------------\u001b[0m",
      "\u001b[0;31mAttributeError\u001b[0m                            Traceback (most recent call last)",
      "\u001b[1;32m/home/jovyan/loss_landscape_taxonomy/workspace/notebooks/metric_analysis.ipynb Cell 11\u001b[0m line \u001b[0;36m9\n\u001b[1;32m      <a href='vscode-notebook-cell://k8s-container%2Bcontext%3Dnautilus%2Bpodname%3Ddev-ll-pod%2Bnamespace%3Dnrp-u55c%2Bname%3Dgpu-container%2Bimage%3Djupyter%252fscipy-notebook/home/jovyan/loss_landscape_taxonomy/workspace/notebooks/metric_analysis.ipynb#X13sdnNjb2RlLXJlbW90ZQ%3D%3D?line=0'>1</a>\u001b[0m _, val_loader \u001b[39m=\u001b[39m data_module\u001b[39m.\u001b[39mdataloaders()\n\u001b[1;32m      <a href='vscode-notebook-cell://k8s-container%2Bcontext%3Dnautilus%2Bpodname%3Ddev-ll-pod%2Bnamespace%3Dnrp-u55c%2Bname%3Dgpu-container%2Bimage%3Djupyter%252fscipy-notebook/home/jovyan/loss_landscape_taxonomy/workspace/notebooks/metric_analysis.ipynb#X13sdnNjb2RlLXJlbW90ZQ%3D%3D?line=2'>3</a>\u001b[0m metric \u001b[39m=\u001b[39m Gradient(\n\u001b[1;32m      <a href='vscode-notebook-cell://k8s-container%2Bcontext%3Dnautilus%2Bpodname%3Ddev-ll-pod%2Bnamespace%3Dnrp-u55c%2Bname%3Dgpu-container%2Bimage%3Djupyter%252fscipy-notebook/home/jovyan/loss_landscape_taxonomy/workspace/notebooks/metric_analysis.ipynb#X13sdnNjb2RlLXJlbW90ZQ%3D%3D?line=3'>4</a>\u001b[0m     model\u001b[39m=\u001b[39mmodel,\n\u001b[1;32m      <a href='vscode-notebook-cell://k8s-container%2Bcontext%3Dnautilus%2Bpodname%3Ddev-ll-pod%2Bnamespace%3Dnrp-u55c%2Bname%3Dgpu-container%2Bimage%3Djupyter%252fscipy-notebook/home/jovyan/loss_landscape_taxonomy/workspace/notebooks/metric_analysis.ipynb#X13sdnNjb2RlLXJlbW90ZQ%3D%3D?line=4'>5</a>\u001b[0m     data_loader\u001b[39m=\u001b[39mval_loader,\n\u001b[1;32m      <a href='vscode-notebook-cell://k8s-container%2Bcontext%3Dnautilus%2Bpodname%3Ddev-ll-pod%2Bnamespace%3Dnrp-u55c%2Bname%3Dgpu-container%2Bimage%3Djupyter%252fscipy-notebook/home/jovyan/loss_landscape_taxonomy/workspace/notebooks/metric_analysis.ipynb#X13sdnNjb2RlLXJlbW90ZQ%3D%3D?line=5'>6</a>\u001b[0m     loss\u001b[39m=\u001b[39mmodel\u001b[39m.\u001b[39mloss\n\u001b[1;32m      <a href='vscode-notebook-cell://k8s-container%2Bcontext%3Dnautilus%2Bpodname%3Ddev-ll-pod%2Bnamespace%3Dnrp-u55c%2Bname%3Dgpu-container%2Bimage%3Djupyter%252fscipy-notebook/home/jovyan/loss_landscape_taxonomy/workspace/notebooks/metric_analysis.ipynb#X13sdnNjb2RlLXJlbW90ZQ%3D%3D?line=6'>7</a>\u001b[0m )\n\u001b[0;32m----> <a href='vscode-notebook-cell://k8s-container%2Bcontext%3Dnautilus%2Bpodname%3Ddev-ll-pod%2Bnamespace%3Dnrp-u55c%2Bname%3Dgpu-container%2Bimage%3Djupyter%252fscipy-notebook/home/jovyan/loss_landscape_taxonomy/workspace/notebooks/metric_analysis.ipynb#X13sdnNjb2RlLXJlbW90ZQ%3D%3D?line=8'>9</a>\u001b[0m results \u001b[39m=\u001b[39m metric\u001b[39m.\u001b[39;49mcompute()\n\u001b[1;32m     <a href='vscode-notebook-cell://k8s-container%2Bcontext%3Dnautilus%2Bpodname%3Ddev-ll-pod%2Bnamespace%3Dnrp-u55c%2Bname%3Dgpu-container%2Bimage%3Djupyter%252fscipy-notebook/home/jovyan/loss_landscape_taxonomy/workspace/notebooks/metric_analysis.ipynb#X13sdnNjb2RlLXJlbW90ZQ%3D%3D?line=9'>10</a>\u001b[0m results\n",
      "File \u001b[0;32m~/loss_landscape_taxonomy/workspace/common/metrics/gradient.py:33\u001b[0m, in \u001b[0;36mGradient.compute\u001b[0;34m(self)\u001b[0m\n\u001b[1;32m     31\u001b[0m     loss\u001b[39m.\u001b[39mbackward()\n\u001b[1;32m     32\u001b[0m     gradient_traces\u001b[39m.\u001b[39mappend(\u001b[39mself\u001b[39m\u001b[39m.\u001b[39m_get_batch_gradients())\n\u001b[0;32m---> 33\u001b[0m \u001b[39mself\u001b[39m\u001b[39m.\u001b[39mresults\u001b[39m.\u001b[39mappend(gradient_traces)\n\u001b[1;32m     35\u001b[0m \u001b[39mreturn\u001b[39;00m \u001b[39mself\u001b[39m\u001b[39m.\u001b[39mresults\n",
      "\u001b[0;31mAttributeError\u001b[0m: 'list' object has no attribute 'cpu'"
     ]
    }
   ],
   "source": [
    "_, val_loader = data_module.dataloaders()\n",
    "\n",
    "metric = Gradient(\n",
    "    model=model,\n",
    "    data_loader=val_loader,\n",
    "    loss=model.loss\n",
    ")\n",
    "\n",
    "results = metric.compute()\n",
    "results"
   ]
  }
 ],
 "metadata": {
  "kernelspec": {
   "display_name": "loss_landscape",
   "language": "python",
   "name": "python3"
  },
  "language_info": {
   "codemirror_mode": {
    "name": "ipython",
    "version": 3
   },
   "file_extension": ".py",
   "mimetype": "text/x-python",
   "name": "python",
   "nbconvert_exporter": "python",
   "pygments_lexer": "ipython3",
   "version": "3.8.12"
  }
 },
 "nbformat": 4,
 "nbformat_minor": 2
}
