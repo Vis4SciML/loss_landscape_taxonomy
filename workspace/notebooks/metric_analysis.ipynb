{
 "cells": [
  {
   "cell_type": "markdown",
   "metadata": {},
   "source": [
    "# Metric Analysis for ECON model"
   ]
  },
  {
   "cell_type": "code",
   "execution_count": 27,
   "metadata": {},
   "outputs": [],
   "source": [
    "%reload_ext autoreload\n",
    "%autoreload 2\n",
    "\n",
    "# from common.metrics.gradient import Gradient\n",
    "import torch\n",
    "import torchinfo\n",
    "import numpy as np\n",
    "import pytorch_lightning as pl \n",
    "import matplotlib.pyplot as plt\n",
    "import ast\n",
    "import os\n",
    "import sys\n",
    "\n",
    "# import modules from ECON model\n",
    "module_path = os.path.abspath(os.path.join('../../workspace/models/econ/code/')) # or the path to your source code\n",
    "sys.path.insert(0, module_path)\n",
    "from q_autoencoder import AutoEncoder\n",
    "from autoencoder_datamodule import AutoEncoderDataModule\n",
    "\n",
    "# import modules from common metrics\n",
    "module_path = os.path.abspath(os.path.join('../../workspace/common/metrics/')) # or the path to your source code\n",
    "sys.path.insert(0, module_path)\n",
    "from gradient import Gradient\n",
    "from hessian import Hessian\n",
    "from CKA import CKA\n",
    "from neural_efficiency import NeuralEfficiency\n",
    "from fisher import Fisher\n",
    "\n",
    "\n"
   ]
  },
  {
   "cell_type": "markdown",
   "metadata": {},
   "source": [
    "Select the desired ECON model:"
   ]
  },
  {
   "cell_type": "code",
   "execution_count": 28,
   "metadata": {},
   "outputs": [],
   "source": [
    "base_path = \"/data/tbaldi/checkpoint/\"\n",
    "batch_size = 1024\n",
    "learning_rate = 0.0015625\n",
    "precision = 8\n",
    "size = 'small'"
   ]
  },
  {
   "cell_type": "code",
   "execution_count": 29,
   "metadata": {},
   "outputs": [
    {
     "data": {
      "text/plain": [
       "==========================================================================================\n",
       "Layer (type:depth-idx)                   Output Shape              Param #\n",
       "==========================================================================================\n",
       "AutoEncoder                              [1, 1, 8, 8]              --\n",
       "├─QuantizedEncoder: 1-1                  [1, 16]                   --\n",
       "│    └─QuantAct: 2-1                     [1, 1, 8, 8]              --\n",
       "│    └─QuantConv2d: 2-2                  [1, 1, 4, 4]              20\n",
       "│    └─ReLU: 2-3                         [1, 1, 4, 4]              --\n",
       "│    └─QuantAct: 2-4                     [1, 1, 4, 4]              --\n",
       "│    └─Flatten: 2-5                      [1, 16]                   --\n",
       "│    └─QuantLinear: 2-6                  [1, 16]                   272\n",
       "│    └─ReLU: 2-7                         [1, 16]                   --\n",
       "├─Sequential: 1-2                        [1, 1, 8, 8]              --\n",
       "│    └─Linear: 2-8                       [1, 128]                  2,176\n",
       "│    └─ReLU: 2-9                         [1, 128]                  --\n",
       "│    └─Unflatten: 2-10                   [1, 8, 4, 4]              --\n",
       "│    └─ConvTranspose2d: 2-11             [1, 8, 8, 8]              584\n",
       "│    └─ReLU: 2-12                        [1, 8, 8, 8]              --\n",
       "│    └─ConvTranspose2d: 2-13             [1, 1, 8, 8]              73\n",
       "│    └─Sigmoid: 2-14                     [1, 1, 8, 8]              --\n",
       "==========================================================================================\n",
       "Total params: 3,125\n",
       "Trainable params: 3,125\n",
       "Non-trainable params: 0\n",
       "Total mult-adds (M): 0.04\n",
       "==========================================================================================\n",
       "Input size (MB): 0.00\n",
       "Forward/backward pass size (MB): 0.01\n",
       "Params size (MB): 0.01\n",
       "Estimated Total Size (MB): 0.02\n",
       "=========================================================================================="
      ]
     },
     "execution_count": 29,
     "metadata": {},
     "output_type": "execute_result"
    }
   ],
   "source": [
    "def load_model(path, batch_size, learning_rate, precision, size):\n",
    "    model_path = path + f'bs{batch_size}_lr{learning_rate}/ECON_{precision}b/{size}/net_1_best.pkl'\n",
    "    \n",
    "    # load the model\n",
    "    model = AutoEncoder(\n",
    "        quantize=(precision < 32),\n",
    "        precision=[\n",
    "            precision,\n",
    "            precision,\n",
    "            precision+3\n",
    "        ],\n",
    "        learning_rate=learning_rate,\n",
    "        econ_type=size\n",
    "    )\n",
    "    \n",
    "    # to set the map location\n",
    "    device = torch.device('cuda' if torch.cuda.is_available() else 'cpu')\n",
    "    \n",
    "    model(torch.randn((1, 1, 8, 8)))  # Update tensor shapes \n",
    "    model_param = torch.load(model_path, map_location=device)\n",
    "    model.load_state_dict(model_param['state_dict'])\n",
    "    \n",
    "    return model\n",
    "\n",
    "\n",
    "model = load_model(base_path, batch_size, learning_rate, precision, size)\n",
    "torchinfo.summary(model, input_size=(1, 1, 8, 8))  # (B, C, H, W)     "
   ]
  },
  {
   "cell_type": "markdown",
   "metadata": {},
   "source": [
    "Setup the data loader:"
   ]
  },
  {
   "cell_type": "code",
   "execution_count": 30,
   "metadata": {},
   "outputs": [
    {
     "name": "stdout",
     "output_type": "stream",
     "text": [
      "Loaded shaped data shape: (1740950, 1, 8, 8)\n",
      "Loaded shaped data datatype: float32\n"
     ]
    }
   ],
   "source": [
    "data_path = '../../data/ECON/Elegun'\n",
    "processed_file = 'nELinks5.npy'\n",
    "\n",
    "def get_data_module(batch_size):\n",
    "    data_module = AutoEncoderDataModule(\n",
    "        data_dir=data_path,\n",
    "        data_file=os.path.join(data_path, processed_file),\n",
    "        batch_size=batch_size,\n",
    "        num_workers=4\n",
    "        )\n",
    "    # checek if we have processed the data\n",
    "    if not os.path.exists(os.path.join(data_path, processed_file)):\n",
    "        print('Processing the data...')\n",
    "        data_module.process_data(save=True)\n",
    "\n",
    "    data_module.setup(0)\n",
    "    return data_module\n",
    "\n",
    "data_module = get_data_module(batch_size)"
   ]
  },
  {
   "cell_type": "markdown",
   "metadata": {},
   "source": [
    "Model performances:"
   ]
  },
  {
   "cell_type": "code",
   "execution_count": 31,
   "metadata": {},
   "outputs": [
    {
     "name": "stderr",
     "output_type": "stream",
     "text": [
      "GPU available: False, used: False\n",
      "TPU available: False, using: 0 TPU cores\n",
      "IPU available: False, using: 0 IPUs\n",
      "HPU available: False, using: 0 HPUs\n"
     ]
    }
   ],
   "source": [
    "trainer = pl.Trainer(\n",
    "        max_epochs=5,\n",
    "        accelerator=\"auto\",\n",
    "        devices=1\n",
    "    )\n",
    "\n",
    "def compute_EMD(bs, lr, size, precision, load=True):\n",
    "    if load:\n",
    "        print(\"Loading the EMD...\")\n",
    "        emd_path = base_path + f'bs{bs}_lr{lr}/ECON_{precision}b/{size}/{size}_emd_1.txt'\n",
    "        # load the achieved EMD of the model\n",
    "        emd = None\n",
    "        try:\n",
    "            emd_file = open(emd_path)\n",
    "            emd_text = emd_file.read()\n",
    "            emd = ast.literal_eval(emd_text)\n",
    "            emd = emd[0]['AVG_EMD']\n",
    "            emd_file.close()\n",
    "            return emd\n",
    "        except Exception as e:\n",
    "            print(\"ATTENTION: not able to open the file with the EMD content!\")\n",
    "        \n",
    "    print(\"Computing the EMD...\")\n",
    "    # load the model \n",
    "    model = load_model(base_path, bs, lr, precision, size)\n",
    "    # get the data loader\n",
    "    data_module = get_data_module(bs)\n",
    "    _, val_sum = data_module.get_val_max_and_sum()\n",
    "    model.set_val_sum(val_sum)\n",
    "    data_module.setup(\"test\")\n",
    "    avg_emd = trainer.test(model, dataloaders=data_module.test_dataloader(), verbose=False)\n",
    "    return avg_emd\n",
    "    \n",
    "\n"
   ]
  },
  {
   "cell_type": "markdown",
   "metadata": {},
   "source": [
    "## (Estimated) Fisher trace"
   ]
  },
  {
   "cell_type": "code",
   "execution_count": 32,
   "metadata": {},
   "outputs": [
    {
     "name": "stdout",
     "output_type": "stream",
     "text": [
      "Computing the Fisher estimated trace...\n",
      "{'encoder.conv': 0.00026107699640335577, 'encoder.enc_dense': 0.00019609193997648805}\n"
     ]
    }
   ],
   "source": [
    "_, val_loader = data_module.dataloaders()\n",
    "\n",
    "metric = Fisher(\n",
    "    model=model,\n",
    "    data_loader=val_loader,\n",
    "    optimizer=model.configure_optimizers(),\n",
    "    target_layers=['encoder.conv', 'encoder.enc_dense']\n",
    ")\n",
    "\n",
    "metric.compute()"
   ]
  },
  {
   "cell_type": "markdown",
   "metadata": {},
   "source": [
    "## Hessian "
   ]
  },
  {
   "cell_type": "code",
   "execution_count": 33,
   "metadata": {},
   "outputs": [],
   "source": [
    "\n",
    "# _, val_loader = data_module.dataloaders()\n",
    "\n",
    "# metric = Hessian(\n",
    "#     model=model,\n",
    "#     data_loader=val_loader,\n",
    "#     loss=model.loss\n",
    "# )\n",
    "\n",
    "# results = metric.compute()\n",
    "# results"
   ]
  },
  {
   "cell_type": "markdown",
   "metadata": {},
   "source": [
    "## CKA similarity"
   ]
  },
  {
   "cell_type": "markdown",
   "metadata": {},
   "source": [
    "Extract the features from each layer of the model:"
   ]
  },
  {
   "cell_type": "code",
   "execution_count": 34,
   "metadata": {},
   "outputs": [
    {
     "name": "stdout",
     "output_type": "stream",
     "text": [
      "Loaded shaped data shape: (1740950, 1, 8, 8)\n",
      "Loaded shaped data datatype: float32\n"
     ]
    }
   ],
   "source": [
    "model = load_model(base_path, 512, 0.05, 9, 'small')\n",
    "data_module = get_data_module(batch_size)"
   ]
  },
  {
   "cell_type": "code",
   "execution_count": 35,
   "metadata": {},
   "outputs": [
    {
     "name": "stdout",
     "output_type": "stream",
     "text": [
      "Computing the CKA similarity...\n",
      "CKA matrix:                encoder.relu1  encoder.relu2\n",
      "encoder.relu1       0.000000       0.254787\n",
      "encoder.relu2       0.254787       0.000000\n",
      "average CKA: 0.2547873550906932\n"
     ]
    }
   ],
   "source": [
    "metric = CKA(model, \n",
    "             data_module.test_dataloader(),\n",
    "             activation_layers=['encoder.relu1', 'encoder.relu2'])\n",
    "\n",
    "result = metric.compute()\n"
   ]
  },
  {
   "cell_type": "code",
   "execution_count": 36,
   "metadata": {},
   "outputs": [
    {
     "data": {
      "image/png": "[encoded data removed]",
      "text/plain": [
       "<Figure size 640x480 with 2 Axes>"
      ]
     },
     "metadata": {},
     "output_type": "display_data"
    }
   ],
   "source": [
    "def plot_cka_heatmap(cka_values, title, x_label='Layers', y_label='Layers'):\n",
    "    # Create a heatmap\n",
    "    ax = plt.imshow(cka_values.values, \n",
    "            cmap='Reds', \n",
    "            interpolation='nearest',\n",
    "            vmin=0,\n",
    "            vmax=1)\n",
    "\n",
    "    # Customize the plot\n",
    "    plt.colorbar(label='CKA distance')\n",
    "    plt.title(title)\n",
    "    plt.xlabel(x_label)\n",
    "    plt.ylabel(y_label)\n",
    "\n",
    "    # Set axis ticks based on the dimensions\n",
    "    plt.xticks(np.arange(len(cka_values.columns)), cka_values.columns, rotation='horizontal')\n",
    "    plt.yticks(np.arange(len(cka_values.index)), cka_values.index, rotation='vertical', va='center')\n",
    "    \n",
    "    \n",
    "    plt.tick_params(top=True, labeltop=True, bottom=False, labelbottom=False)\n",
    "\n",
    "    # Display the plot\n",
    "    plt.show()\n",
    "    \n",
    "plot_cka_heatmap(result['cka_dist'], \n",
    "                 f\"ECON BS: {batch_size} LR: {learning_rate} Size: {size} bitwidt: {precision}\")"
   ]
  },
  {
   "cell_type": "code",
   "execution_count": 37,
   "metadata": {},
   "outputs": [
    {
     "name": "stdout",
     "output_type": "stream",
     "text": [
      "Loaded shaped data shape: (1740950, 1, 8, 8)\n",
      "Loaded shaped data datatype: float32\n",
      "Loaded shaped data shape: (1740950, 1, 8, 8)\n",
      "Loaded shaped data datatype: float32\n",
      "CKA matrix:                    [2] encoder.relu1  [2] encoder.relu2\n",
      "[1] encoder.relu1           0.004023           0.062896\n",
      "[1] encoder.relu2           0.040965           0.085191\n",
      "average CKA: 0.04460696266101118\n"
     ]
    },
    {
     "data": {
      "image/png": "[encoded data removed]",
      "text/plain": [
       "<Figure size 640x480 with 2 Axes>"
      ]
     },
     "metadata": {},
     "output_type": "display_data"
    }
   ],
   "source": [
    "model_small = load_model(base_path, 1024, learning_rate, 8, 'small')\n",
    "data_module_small = get_data_module(1024)\n",
    "\n",
    "model_baseline = load_model(base_path, 1024, learning_rate, 2, 'small')\n",
    "data_module_baseline = get_data_module(1024)\n",
    "\n",
    "activation_layers=['encoder.relu1', 'encoder.relu2']\n",
    "\n",
    "metric = CKA(model_small, \n",
    "             data_module_small.test_dataloader(),\n",
    "             activation_layers=activation_layers)\n",
    "\n",
    "result = metric.compare(model_baseline, \n",
    "                        data_module_baseline.test_dataloader(), \n",
    "                        activation_layers)\n",
    "\n",
    "\n",
    "plot_cka_heatmap(result['cka_dist'], \n",
    "                 f\"ECON BS: {batch_size} LR: {learning_rate} size: {size}\\n 8 bit VS 2 bit\",\n",
    "                 x_label='model 2',\n",
    "                 y_label='model 1')"
   ]
  },
  {
   "cell_type": "markdown",
   "metadata": {},
   "source": [
    "## Neural Efficiency"
   ]
  },
  {
   "cell_type": "code",
   "execution_count": 38,
   "metadata": {},
   "outputs": [
    {
     "name": "stdout",
     "output_type": "stream",
     "text": [
      "Loaded shaped data shape: (1740950, 1, 8, 8)\n",
      "Loaded shaped data datatype: float32\n",
      "Loading the EMD...\n"
     ]
    }
   ],
   "source": [
    "model = load_model(base_path, 512, 0.0125, 8, 'small')\n",
    "data_module = get_data_module(1)\n",
    "emd = compute_EMD(512, 0.0125, 'small', 8)"
   ]
  },
  {
   "cell_type": "code",
   "execution_count": 39,
   "metadata": {},
   "outputs": [
    {
     "name": "stdout",
     "output_type": "stream",
     "text": [
      "Computing the Neural efficiency...\n"
     ]
    },
    {
     "name": "stderr",
     "output_type": "stream",
     "text": [
      "/home/tbaldi/loss_landscape_taxonomy/workspace/common/metrics/neural_efficiency.py:97: UserWarning: Attention: the layer conv has tuple as features!\n",
      "  warnings.warn(f\"Attention: the layer \" + name + \" has tuple as features!\")\n",
      "/home/tbaldi/loss_landscape_taxonomy/workspace/common/metrics/neural_efficiency.py:93: UserWarning: Attention: the layer conv.conv has None features!\n",
      "  warnings.warn(f\"Attention: the layer \" + name + \" has None features!\")\n"
     ]
    },
    {
     "name": "stdout",
     "output_type": "stream",
     "text": [
      "layers neural efficiency:\n",
      " {'conv': 0.24863508207115453, 'enc_dense': 0.03499136621287039}\n",
      "network neural efficiency:\n",
      " 0.09327422586180414\n",
      "aIQ\n",
      " 0.221903945204418\n"
     ]
    },
    {
     "data": {
      "text/plain": [
       "{'layers_efficiency': {'conv': 0.24863508207115453,\n",
       "  'enc_dense': 0.03499136621287039},\n",
       " 'network_efficiency': 0.09327422586180414,\n",
       " 'aIQ': 0.221903945204418}"
      ]
     },
     "execution_count": 39,
     "metadata": {},
     "output_type": "execute_result"
    }
   ],
   "source": [
    "metric = NeuralEfficiency(model.encoder, data_module.test_dataloader(), performance=emd)\n",
    "result = metric.compute(beta=0.5)\n",
    "\n",
    "result"
   ]
  },
  {
   "cell_type": "code",
   "execution_count": 40,
   "metadata": {},
   "outputs": [
    {
     "data": {
      "image/png": "[encoded data removed]",
      "text/plain": [
       "<Figure size 640x480 with 1 Axes>"
      ]
     },
     "metadata": {},
     "output_type": "display_data"
    }
   ],
   "source": [
    "def plot_neural_efficiency_per_layer(neural_efficiency_values, \n",
    "                                     title, \n",
    "                                     x_label='Layers', \n",
    "                                     y_label='Efficiency'):\n",
    "    # Create a heatmap\n",
    "    plt.bar(neural_efficiency_values.keys(), \n",
    "            neural_efficiency_values.values())\n",
    "\n",
    "    plt.ylim(0, 1)\n",
    "    \n",
    "    plt.xlabel(x_label)\n",
    "    plt.ylabel(y_label)\n",
    "    plt.title(title)\n",
    "\n",
    "    # Display the plot\n",
    "    plt.show()\n",
    "    \n",
    "\n",
    "plot_neural_efficiency_per_layer(result['layers_efficiency'], 'ECON')"
   ]
  }
 ],
 "metadata": {
  "kernelspec": {
   "display_name": "loss_landscape",
   "language": "python",
   "name": "python3"
  },
  "language_info": {
   "codemirror_mode": {
    "name": "ipython",
    "version": 3
   },
   "file_extension": ".py",
   "mimetype": "text/x-python",
   "name": "python",
   "nbconvert_exporter": "python",
   "pygments_lexer": "ipython3",
   "version": "3.8.12"
  }
 },
 "nbformat": 4,
 "nbformat_minor": 2
}
