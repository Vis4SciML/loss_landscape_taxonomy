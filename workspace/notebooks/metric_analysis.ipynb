{
 "cells": [
  {
   "cell_type": "markdown",
   "metadata": {},
   "source": [
    "# Metric Analysis for ECON model"
   ]
  },
  {
   "cell_type": "code",
   "execution_count": 19,
   "metadata": {},
   "outputs": [],
   "source": [
    "%reload_ext autoreload\n",
    "%autoreload 2\n",
    "\n",
    "# from common.metrics.gradient import Gradient\n",
    "import torch\n",
    "import torchinfo\n",
    "import os\n",
    "import sys\n",
    "\n",
    "# import modules from ECON model\n",
    "module_path = os.path.abspath(os.path.join('../../workspace/models/econ/code/')) # or the path to your source code\n",
    "sys.path.insert(0, module_path)\n",
    "from models.econ.code.q_autoencoder import AutoEncoder\n",
    "from models.econ.code.autoencoder_datamodule import AutoEncoderDataModule\n",
    "\n",
    "# import modules from common metrics\n",
    "module_path = os.path.abspath(os.path.join('../../workspace/common/metrics/')) # or the path to your source code\n",
    "sys.path.insert(0, module_path)\n",
    "from common.metrics.gradient import Gradient\n",
    "\n"
   ]
  },
  {
   "cell_type": "markdown",
   "metadata": {},
   "source": [
    "Select the desired ECON model:"
   ]
  },
  {
   "cell_type": "code",
   "execution_count": 20,
   "metadata": {},
   "outputs": [],
   "source": [
    "base_path = \"/loss_landscape/checkpoint/different_knobs_subset_10/\"\n",
    "batch_size = 64\n",
    "learning_rate = 0.1\n",
    "precision = 2\n",
    "size = 'small'"
   ]
  },
  {
   "cell_type": "code",
   "execution_count": 21,
   "metadata": {},
   "outputs": [
    {
     "name": "stdout",
     "output_type": "stream",
     "text": [
      "/loss_landscape/checkpoint/different_knobs_subset_10/bs64_lr0.1/ECON_2b/small/net_1_best.pkl\n"
     ]
    },
    {
     "data": {
      "text/plain": [
       "==========================================================================================\n",
       "Layer (type:depth-idx)                   Output Shape              Param #\n",
       "==========================================================================================\n",
       "AutoEncoder                              [1, 1, 8, 8]              --\n",
       "├─QuantizedEncoder: 1-1                  [1, 16]                   --\n",
       "│    └─QuantAct: 2-1                     [1, 1, 8, 8]              --\n",
       "│    └─QuantConv2d: 2-2                  [1, 1, 4, 4]              20\n",
       "│    └─ReLU: 2-3                         [1, 1, 4, 4]              --\n",
       "│    └─QuantAct: 2-4                     [1, 1, 4, 4]              --\n",
       "│    └─Flatten: 2-5                      [1, 16]                   --\n",
       "│    └─QuantLinear: 2-6                  [1, 16]                   272\n",
       "│    └─ReLU: 2-7                         [1, 16]                   --\n",
       "├─Sequential: 1-2                        [1, 1, 8, 8]              --\n",
       "│    └─Linear: 2-8                       [1, 128]                  2,176\n",
       "│    └─ReLU: 2-9                         [1, 128]                  --\n",
       "│    └─Unflatten: 2-10                   [1, 8, 4, 4]              --\n",
       "│    └─ConvTranspose2d: 2-11             [1, 8, 8, 8]              584\n",
       "│    └─ReLU: 2-12                        [1, 8, 8, 8]              --\n",
       "│    └─ConvTranspose2d: 2-13             [1, 1, 8, 8]              73\n",
       "│    └─Sigmoid: 2-14                     [1, 1, 8, 8]              --\n",
       "==========================================================================================\n",
       "Total params: 3,125\n",
       "Trainable params: 3,125\n",
       "Non-trainable params: 0\n",
       "Total mult-adds (M): 0.04\n",
       "==========================================================================================\n",
       "Input size (MB): 0.00\n",
       "Forward/backward pass size (MB): 0.01\n",
       "Params size (MB): 0.01\n",
       "Estimated Total Size (MB): 0.02\n",
       "=========================================================================================="
      ]
     },
     "execution_count": 21,
     "metadata": {},
     "output_type": "execute_result"
    }
   ],
   "source": [
    "def load_model(path, batch_size, learning_rate, precision, size):\n",
    "    model_path = base_path + f'bs{batch_size}_lr{learning_rate}/ECON_{precision}b/{size}/net_1_best.pkl'\n",
    "    model = AutoEncoder(\n",
    "        quantize=(precision < 32),\n",
    "        precision=[\n",
    "            precision,\n",
    "            precision,\n",
    "            precision+3\n",
    "        ],\n",
    "        learning_rate=learning_rate,\n",
    "        econ_type=size\n",
    "    )\n",
    "    model(torch.randn((1, 1, 8, 8)))  # Update tensor shapes \n",
    "    print(model_path)\n",
    "    model_param = torch.load(model_path)\n",
    "    model.load_state_dict(model_param['state_dict'])\n",
    "    return model\n",
    "\n",
    "\n",
    "model = load_model(base_path, batch_size, learning_rate, precision, size)\n",
    "torchinfo.summary(model, input_size=(1, 1, 8, 8))  # (B, C, H, W)            "
   ]
  },
  {
   "cell_type": "markdown",
   "metadata": {},
   "source": [
    "Setup the data loader:"
   ]
  },
  {
   "cell_type": "code",
   "execution_count": 24,
   "metadata": {},
   "outputs": [
    {
     "name": "stdout",
     "output_type": "stream",
     "text": [
      "Loaded shaped data shape: (1740950, 1, 8, 8)\n",
      "Loaded shaped data datatype: float32\n"
     ]
    }
   ],
   "source": [
    "data_path = '../../data/ECON/Elegun'\n",
    "processed_file = 'nELinks5.npy'\n",
    "\n",
    "data_module = AutoEncoderDataModule(\n",
    "    data_dir=data_path,\n",
    "    data_file=os.path.join(data_path, processed_file),\n",
    "    batch_size=batch_size,\n",
    "    num_workers=4\n",
    ")\n",
    "# checek if we have processed the data\n",
    "if not os.path.exists(os.path.join(data_path, processed_file)):\n",
    "    print('Processing the data...')\n",
    "    data_module.process_data(save=True)\n",
    "\n",
    "data_module.setup(0)\n",
    "\n",
    "data_loader = data_module.val_dataloader()"
   ]
  },
  {
   "cell_type": "markdown",
   "metadata": {},
   "source": [
    "## Gradient computation"
   ]
  },
  {
   "cell_type": "code",
   "execution_count": 25,
   "metadata": {},
   "outputs": [
    {
     "name": "stdout",
     "output_type": "stream",
     "text": [
      "Computing the gradients...\n"
     ]
    },
    {
     "ename": "ValueError",
     "evalue": "too many values to unpack (expected 2)",
     "output_type": "error",
     "traceback": [
      "\u001b[0;31m---------------------------------------------------------------------------\u001b[0m",
      "\u001b[0;31mValueError\u001b[0m                                Traceback (most recent call last)",
      "\u001b[1;32m/home/jovyan/loss_landscape_taxonomy/workspace/notebooks/metric_analysis.ipynb Cell 9\u001b[0m line \u001b[0;36m7\n\u001b[1;32m      <a href='vscode-notebook-cell://k8s-container%2Bcontext%3Dnautilus%2Bpodname%3Ddev-ll-pod%2Bnamespace%3Dnrp-u55c%2Bname%3Dgpu-container%2Bimage%3Djupyter%252fscipy-notebook/home/jovyan/loss_landscape_taxonomy/workspace/notebooks/metric_analysis.ipynb#X13sdnNjb2RlLXJlbW90ZQ%3D%3D?line=0'>1</a>\u001b[0m metric \u001b[39m=\u001b[39m Gradient(\n\u001b[1;32m      <a href='vscode-notebook-cell://k8s-container%2Bcontext%3Dnautilus%2Bpodname%3Ddev-ll-pod%2Bnamespace%3Dnrp-u55c%2Bname%3Dgpu-container%2Bimage%3Djupyter%252fscipy-notebook/home/jovyan/loss_landscape_taxonomy/workspace/notebooks/metric_analysis.ipynb#X13sdnNjb2RlLXJlbW90ZQ%3D%3D?line=1'>2</a>\u001b[0m     model\u001b[39m=\u001b[39mmodel,\n\u001b[1;32m      <a href='vscode-notebook-cell://k8s-container%2Bcontext%3Dnautilus%2Bpodname%3Ddev-ll-pod%2Bnamespace%3Dnrp-u55c%2Bname%3Dgpu-container%2Bimage%3Djupyter%252fscipy-notebook/home/jovyan/loss_landscape_taxonomy/workspace/notebooks/metric_analysis.ipynb#X13sdnNjb2RlLXJlbW90ZQ%3D%3D?line=2'>3</a>\u001b[0m     data_loader\u001b[39m=\u001b[39mdata_loader,\n\u001b[1;32m      <a href='vscode-notebook-cell://k8s-container%2Bcontext%3Dnautilus%2Bpodname%3Ddev-ll-pod%2Bnamespace%3Dnrp-u55c%2Bname%3Dgpu-container%2Bimage%3Djupyter%252fscipy-notebook/home/jovyan/loss_landscape_taxonomy/workspace/notebooks/metric_analysis.ipynb#X13sdnNjb2RlLXJlbW90ZQ%3D%3D?line=3'>4</a>\u001b[0m     loss\u001b[39m=\u001b[39mmodel\u001b[39m.\u001b[39mloss\n\u001b[1;32m      <a href='vscode-notebook-cell://k8s-container%2Bcontext%3Dnautilus%2Bpodname%3Ddev-ll-pod%2Bnamespace%3Dnrp-u55c%2Bname%3Dgpu-container%2Bimage%3Djupyter%252fscipy-notebook/home/jovyan/loss_landscape_taxonomy/workspace/notebooks/metric_analysis.ipynb#X13sdnNjb2RlLXJlbW90ZQ%3D%3D?line=4'>5</a>\u001b[0m )\n\u001b[0;32m----> <a href='vscode-notebook-cell://k8s-container%2Bcontext%3Dnautilus%2Bpodname%3Ddev-ll-pod%2Bnamespace%3Dnrp-u55c%2Bname%3Dgpu-container%2Bimage%3Djupyter%252fscipy-notebook/home/jovyan/loss_landscape_taxonomy/workspace/notebooks/metric_analysis.ipynb#X13sdnNjb2RlLXJlbW90ZQ%3D%3D?line=6'>7</a>\u001b[0m metric\u001b[39m.\u001b[39;49mcompute()\n",
      "File \u001b[0;32m~/loss_landscape_taxonomy/workspace/common/metrics/gradient.py:27\u001b[0m, in \u001b[0;36mGradient.compute\u001b[0;34m(self)\u001b[0m\n\u001b[1;32m     25\u001b[0m \u001b[39mprint\u001b[39m(\u001b[39m\"\u001b[39m\u001b[39mComputing the gradients...\u001b[39m\u001b[39m\"\u001b[39m)\n\u001b[1;32m     26\u001b[0m gradient_traces \u001b[39m=\u001b[39m []\n\u001b[0;32m---> 27\u001b[0m \u001b[39mfor\u001b[39;00m batch, target \u001b[39min\u001b[39;00m \u001b[39mself\u001b[39m\u001b[39m.\u001b[39mdata_loader:\n\u001b[1;32m     28\u001b[0m     outputs \u001b[39m=\u001b[39m \u001b[39mself\u001b[39m\u001b[39m.\u001b[39mmodel(batch)\n\u001b[1;32m     29\u001b[0m     loss \u001b[39m=\u001b[39m \u001b[39mself\u001b[39m\u001b[39m.\u001b[39mloss(outputs, target\u001b[39m.\u001b[39mfloat()) \n",
      "\u001b[0;31mValueError\u001b[0m: too many values to unpack (expected 2)"
     ]
    }
   ],
   "source": [
    "metric = Gradient(\n",
    "    model=model,\n",
    "    data_loader=data_loader,\n",
    "    loss=model.loss\n",
    ")\n",
    "\n",
    "metric.compute()"
   ]
  }
 ],
 "metadata": {
  "kernelspec": {
   "display_name": "loss_landscape",
   "language": "python",
   "name": "python3"
  },
  "language_info": {
   "codemirror_mode": {
    "name": "ipython",
    "version": 3
   },
   "file_extension": ".py",
   "mimetype": "text/x-python",
   "name": "python",
   "nbconvert_exporter": "python",
   "pygments_lexer": "ipython3",
   "version": "3.8.12"
  }
 },
 "nbformat": 4,
 "nbformat_minor": 2
}
