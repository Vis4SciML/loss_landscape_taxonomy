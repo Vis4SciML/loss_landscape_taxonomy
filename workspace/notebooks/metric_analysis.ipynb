{
 "cells": [
  {
   "cell_type": "markdown",
   "metadata": {},
   "source": [
    "# Metric Analysis for ECON model"
   ]
  },
  {
   "cell_type": "code",
   "execution_count": 1,
   "metadata": {},
   "outputs": [
    {
     "name": "stderr",
     "output_type": "stream",
     "text": [
      "/home/tbaldi/miniconda3/envs/loss_landscape/lib/python3.8/site-packages/torchvision/io/image.py:11: UserWarning: Failed to load image Python extension: libtorch_cuda_cu.so: cannot open shared object file: No such file or directory\n",
      "  warn(f\"Failed to load image Python extension: {e}\")\n"
     ]
    }
   ],
   "source": [
    "%reload_ext autoreload\n",
    "%autoreload 2\n",
    "\n",
    "# from common.metrics.gradient import Gradient\n",
    "import torch\n",
    "import torchinfo\n",
    "import numpy as np\n",
    "import pytorch_lightning as pl \n",
    "import matplotlib.pyplot as plt\n",
    "import os\n",
    "import sys\n",
    "\n",
    "# import modules from ECON model\n",
    "module_path = os.path.abspath(os.path.join('../../workspace/models/econ/code/')) # or the path to your source code\n",
    "sys.path.insert(0, module_path)\n",
    "from q_autoencoder import AutoEncoder\n",
    "from autoencoder_datamodule import AutoEncoderDataModule\n",
    "\n",
    "# import modules from common metrics\n",
    "module_path = os.path.abspath(os.path.join('../../workspace/common/metrics/')) # or the path to your source code\n",
    "sys.path.insert(0, module_path)\n",
    "from gradient import Gradient\n",
    "from hessian import Hessian\n",
    "from CKA import CKA\n",
    "\n"
   ]
  },
  {
   "cell_type": "markdown",
   "metadata": {},
   "source": [
    "Select the desired ECON model:"
   ]
  },
  {
   "cell_type": "code",
   "execution_count": 2,
   "metadata": {},
   "outputs": [],
   "source": [
    "base_path = \"/data/tbaldi/checkpoint/\"\n",
    "batch_size = 1024\n",
    "learning_rate = 0.1\n",
    "precision = 8\n",
    "size = 'small'"
   ]
  },
  {
   "cell_type": "code",
   "execution_count": 3,
   "metadata": {},
   "outputs": [
    {
     "name": "stdout",
     "output_type": "stream",
     "text": [
      "/data/tbaldi/checkpoint/bs1024_lr0.1/ECON_8b/small/net_1_best.pkl\n"
     ]
    },
    {
     "data": {
      "text/plain": [
       "==========================================================================================\n",
       "Layer (type:depth-idx)                   Output Shape              Param #\n",
       "==========================================================================================\n",
       "AutoEncoder                              [1, 1, 8, 8]              --\n",
       "├─QuantizedEncoder: 1-1                  [1, 16]                   --\n",
       "│    └─QuantAct: 2-1                     [1, 1, 8, 8]              --\n",
       "│    └─QuantConv2d: 2-2                  [1, 1, 4, 4]              20\n",
       "│    └─ReLU: 2-3                         [1, 1, 4, 4]              --\n",
       "│    └─QuantAct: 2-4                     [1, 1, 4, 4]              --\n",
       "│    └─Flatten: 2-5                      [1, 16]                   --\n",
       "│    └─QuantLinear: 2-6                  [1, 16]                   272\n",
       "│    └─ReLU: 2-7                         [1, 16]                   --\n",
       "├─Sequential: 1-2                        [1, 1, 8, 8]              --\n",
       "│    └─Linear: 2-8                       [1, 128]                  2,176\n",
       "│    └─ReLU: 2-9                         [1, 128]                  --\n",
       "│    └─Unflatten: 2-10                   [1, 8, 4, 4]              --\n",
       "│    └─ConvTranspose2d: 2-11             [1, 8, 8, 8]              584\n",
       "│    └─ReLU: 2-12                        [1, 8, 8, 8]              --\n",
       "│    └─ConvTranspose2d: 2-13             [1, 1, 8, 8]              73\n",
       "│    └─Sigmoid: 2-14                     [1, 1, 8, 8]              --\n",
       "==========================================================================================\n",
       "Total params: 3,125\n",
       "Trainable params: 3,125\n",
       "Non-trainable params: 0\n",
       "Total mult-adds (M): 0.04\n",
       "==========================================================================================\n",
       "Input size (MB): 0.00\n",
       "Forward/backward pass size (MB): 0.01\n",
       "Params size (MB): 0.01\n",
       "Estimated Total Size (MB): 0.02\n",
       "=========================================================================================="
      ]
     },
     "execution_count": 3,
     "metadata": {},
     "output_type": "execute_result"
    }
   ],
   "source": [
    "def load_model(path, batch_size, learning_rate, precision, size):\n",
    "    model_path = path + f'bs{batch_size}_lr{learning_rate}/ECON_{precision}b/{size}/net_1_best.pkl'\n",
    "    model = AutoEncoder(\n",
    "        quantize=(precision < 32),\n",
    "        precision=[\n",
    "            precision,\n",
    "            precision,\n",
    "            precision+3\n",
    "        ],\n",
    "        learning_rate=learning_rate,\n",
    "        econ_type=size\n",
    "    )\n",
    "    \n",
    "    # to set the map location\n",
    "    device = torch.device('cuda' if torch.cuda.is_available() else 'cpu')\n",
    "    \n",
    "    model(torch.randn((1, 1, 8, 8)))  # Update tensor shapes \n",
    "    print(model_path)\n",
    "    model_param = torch.load(model_path, map_location=device)\n",
    "    model.load_state_dict(model_param['state_dict'])\n",
    "    return model\n",
    "\n",
    "\n",
    "model = load_model(base_path, batch_size, learning_rate, precision, size)\n",
    "torchinfo.summary(model, input_size=(1, 1, 8, 8))  # (B, C, H, W)     "
   ]
  },
  {
   "cell_type": "markdown",
   "metadata": {},
   "source": [
    "Setup the data loader:"
   ]
  },
  {
   "cell_type": "code",
   "execution_count": 4,
   "metadata": {},
   "outputs": [
    {
     "name": "stdout",
     "output_type": "stream",
     "text": [
      "Loaded shaped data shape: (1740950, 1, 8, 8)\n",
      "Loaded shaped data datatype: float32\n"
     ]
    }
   ],
   "source": [
    "data_path = '../../data/ECON/Elegun'\n",
    "processed_file = 'nELinks5.npy'\n",
    "\n",
    "def get_data_module(batch_size):\n",
    "    data_module = AutoEncoderDataModule(\n",
    "        data_dir=data_path,\n",
    "        data_file=os.path.join(data_path, processed_file),\n",
    "        batch_size=batch_size,\n",
    "        num_workers=4\n",
    "        )\n",
    "    # checek if we have processed the data\n",
    "    if not os.path.exists(os.path.join(data_path, processed_file)):\n",
    "        print('Processing the data...')\n",
    "        data_module.process_data(save=True)\n",
    "\n",
    "    data_module.setup(0)\n",
    "    return data_module\n",
    "\n",
    "data_module = get_data_module(batch_size)"
   ]
  },
  {
   "cell_type": "markdown",
   "metadata": {},
   "source": [
    "Model performances:"
   ]
  },
  {
   "cell_type": "code",
   "execution_count": 5,
   "metadata": {},
   "outputs": [
    {
     "name": "stderr",
     "output_type": "stream",
     "text": [
      "GPU available: False, used: False\n",
      "TPU available: False, using: 0 TPU cores\n",
      "IPU available: False, using: 0 IPUs\n",
      "HPU available: False, using: 0 HPUs\n"
     ]
    }
   ],
   "source": [
    "trainer = pl.Trainer(\n",
    "        max_epochs=5,\n",
    "        accelerator=\"auto\",\n",
    "        devices=1\n",
    "    )\n",
    "\n",
    "# TODO: add the possibility to load the EMD from file\n",
    "def compute_EMD(size, precision, bs, lr, load=True):\n",
    "    # load the model \n",
    "    model = load_model(base_path, bs, lr, precision, size)\n",
    "    # get the data loader\n",
    "    data_module = get_data_module(bs)\n",
    "    _, val_sum = data_module.get_val_max_and_sum()\n",
    "    model.set_val_sum(val_sum)\n",
    "    data_module.setup(\"test\")\n",
    "    avg_emd = trainer.test(model, dataloaders=data_module.test_dataloader(), verbose=False)\n",
    "    print(f'BATCH SIZE: {bs} - LEARNING RATE {lr} - SIZE {size} - PRECISION {precision}')\n",
    "    print(\"AVG EMD: \", avg_emd)\n",
    "    \n",
    "\n",
    "# compute_EMD('small', 8, batch_size, learning_rate)"
   ]
  },
  {
   "cell_type": "markdown",
   "metadata": {},
   "source": [
    "## CKA similarity"
   ]
  },
  {
   "cell_type": "markdown",
   "metadata": {},
   "source": [
    "Extract the features from each layer of the model:"
   ]
  },
  {
   "cell_type": "code",
   "execution_count": 6,
   "metadata": {},
   "outputs": [
    {
     "name": "stdout",
     "output_type": "stream",
     "text": [
      "/data/tbaldi/checkpoint/bs1024_lr0.1/ECON_8b/small/net_1_best.pkl\n",
      "Loaded shaped data shape: (1740950, 1, 8, 8)\n",
      "Loaded shaped data datatype: float32\n"
     ]
    }
   ],
   "source": [
    "model = load_model(base_path, batch_size, learning_rate, 8, 'small')\n",
    "data_module = get_data_module(batch_size)"
   ]
  },
  {
   "cell_type": "code",
   "execution_count": 7,
   "metadata": {},
   "outputs": [
    {
     "name": "stdout",
     "output_type": "stream",
     "text": [
      "Computing the CKA similarity...\n",
      "['encoder.relu1', 'encoder.relu2']\n"
     ]
    },
    {
     "name": "stdout",
     "output_type": "stream",
     "text": [
      "encoder.relu1\n",
      "encoder.relu2\n"
     ]
    }
   ],
   "source": [
    "metric = CKA(model, \n",
    "             data_module.test_dataloader(),\n",
    "             activation_layers=['encoder.relu1', 'encoder.relu2'])\n",
    "\n",
    "result = metric.compute()\n"
   ]
  },
  {
   "cell_type": "code",
   "execution_count": 8,
   "metadata": {},
   "outputs": [
    {
     "data": {
      "image/png": "[encoded data removed]",
      "text/plain": [
       "<Figure size 640x480 with 2 Axes>"
      ]
     },
     "metadata": {},
     "output_type": "display_data"
    }
   ],
   "source": [
    "def plot_cka_heatmap(cka_values, title):\n",
    "    # Create a heatmap\n",
    "    plt.imshow(cka_values, \n",
    "            cmap='Reds', \n",
    "            interpolation='nearest',\n",
    "            vmin=0,\n",
    "            vmax=1)\n",
    "\n",
    "    # Customize the plot\n",
    "    plt.colorbar(label='CKA distance')\n",
    "    plt.title(title)\n",
    "    plt.xlabel('Layers')\n",
    "    plt.ylabel('Layers')\n",
    "    \n",
    "    # Get the dimensions of the matrix\n",
    "    rows, cols = cka_values.shape\n",
    "\n",
    "    # Set axis ticks based on the dimensions\n",
    "    plt.xticks(np.arange(cols), np.arange(1, cols + 1), rotation='vertical')\n",
    "    plt.yticks(np.arange(rows), np.arange(1, rows + 1), rotation='vertical')\n",
    "\n",
    "    # Display the plot\n",
    "    plt.show()\n",
    "    \n",
    "plot_cka_heatmap(result['cka_dist'], \n",
    "                 f\"ECON BS: {batch_size} LR: {learning_rate} Size: {size} bitwidt: {precision}\")"
   ]
  },
  {
   "cell_type": "markdown",
   "metadata": {},
   "source": [
    "## Hessian "
   ]
  },
  {
   "cell_type": "code",
   "execution_count": 9,
   "metadata": {},
   "outputs": [],
   "source": [
    "# %reload_ext autoreload\n",
    "# %autoreload 2\n",
    "\n",
    "# _, val_loader = data_module.dataloaders()\n",
    "\n",
    "# metric = Hessian(\n",
    "#     model=model,\n",
    "#     data_loader=val_loader,\n",
    "#     loss=model.loss\n",
    "# )\n",
    "\n",
    "# results = metric.compute()\n",
    "# results"
   ]
  },
  {
   "cell_type": "code",
   "execution_count": 10,
   "metadata": {},
   "outputs": [],
   "source": [
    "# metric.save_on_file(path=\".\")"
   ]
  },
  {
   "cell_type": "code",
   "execution_count": 11,
   "metadata": {},
   "outputs": [],
   "source": [
    "# result = metric.load_from_file(path=\".\")\n",
    "\n",
    "# result"
   ]
  }
 ],
 "metadata": {
  "kernelspec": {
   "display_name": "loss_landscape",
   "language": "python",
   "name": "python3"
  },
  "language_info": {
   "codemirror_mode": {
    "name": "ipython",
    "version": 3
   },
   "file_extension": ".py",
   "mimetype": "text/x-python",
   "name": "python",
   "nbconvert_exporter": "python",
   "pygments_lexer": "ipython3",
   "version": "3.8.12"
  }
 },
 "nbformat": 4,
 "nbformat_minor": 2
}
