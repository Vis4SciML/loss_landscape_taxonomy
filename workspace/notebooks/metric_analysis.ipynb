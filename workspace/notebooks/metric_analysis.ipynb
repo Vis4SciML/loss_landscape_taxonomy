{
 "cells": [
  {
   "cell_type": "markdown",
   "metadata": {},
   "source": [
    "# Metric Analysis for ECON model"
   ]
  },
  {
   "cell_type": "code",
   "execution_count": 1,
   "metadata": {},
   "outputs": [
    {
     "name": "stderr",
     "output_type": "stream",
     "text": [
      "/home/tbaldi/miniconda3/envs/loss_landscape/lib/python3.8/site-packages/torchvision/io/image.py:11: UserWarning: Failed to load image Python extension: libtorch_cuda_cu.so: cannot open shared object file: No such file or directory\n",
      "  warn(f\"Failed to load image Python extension: {e}\")\n"
     ]
    }
   ],
   "source": [
    "%reload_ext autoreload\n",
    "%autoreload 2\n",
    "\n",
    "# from common.metrics.gradient import Gradient\n",
    "import torch\n",
    "import torchinfo\n",
    "import numpy as np\n",
    "import pytorch_lightning as pl \n",
    "import matplotlib.pyplot as plt\n",
    "import ast\n",
    "import os\n",
    "import sys\n",
    "\n",
    "# import modules from ECON model\n",
    "module_path = os.path.abspath(os.path.join('../../workspace/models/econ/code/')) # or the path to your source code\n",
    "sys.path.insert(0, module_path)\n",
    "from q_autoencoder import AutoEncoder\n",
    "from autoencoder_datamodule import AutoEncoderDataModule\n",
    "\n",
    "# import modules from common metrics\n",
    "module_path = os.path.abspath(os.path.join('../../workspace/common/metrics/')) # or the path to your source code\n",
    "sys.path.insert(0, module_path)\n",
    "from gradient import Gradient\n",
    "from hessian import Hessian\n",
    "from CKA import CKA\n",
    "from neural_efficiency import NeuralEfficiency\n",
    "from fisher import Fisher\n",
    "\n",
    "\n"
   ]
  },
  {
   "cell_type": "markdown",
   "metadata": {},
   "source": [
    "Select the desired ECON model:"
   ]
  },
  {
   "cell_type": "code",
   "execution_count": 2,
   "metadata": {},
   "outputs": [],
   "source": [
    "base_path = \"/data/tbaldi/checkpoint/\"\n",
    "batch_size = 1024\n",
    "learning_rate = 0.0015625\n",
    "precision = 8\n",
    "size = 'small'"
   ]
  },
  {
   "cell_type": "code",
   "execution_count": 3,
   "metadata": {},
   "outputs": [
    {
     "data": {
      "text/plain": [
       "==========================================================================================\n",
       "Layer (type:depth-idx)                   Output Shape              Param #\n",
       "==========================================================================================\n",
       "AutoEncoder                              [1, 1, 8, 8]              --\n",
       "├─QuantizedEncoder: 1-1                  [1, 16]                   --\n",
       "│    └─QuantAct: 2-1                     [1, 1, 8, 8]              --\n",
       "│    └─QuantConv2d: 2-2                  [1, 1, 4, 4]              20\n",
       "│    └─ReLU: 2-3                         [1, 1, 4, 4]              --\n",
       "│    └─QuantAct: 2-4                     [1, 1, 4, 4]              --\n",
       "│    └─Flatten: 2-5                      [1, 16]                   --\n",
       "│    └─QuantLinear: 2-6                  [1, 16]                   272\n",
       "│    └─ReLU: 2-7                         [1, 16]                   --\n",
       "├─Sequential: 1-2                        [1, 1, 8, 8]              --\n",
       "│    └─Linear: 2-8                       [1, 128]                  2,176\n",
       "│    └─ReLU: 2-9                         [1, 128]                  --\n",
       "│    └─Unflatten: 2-10                   [1, 8, 4, 4]              --\n",
       "│    └─ConvTranspose2d: 2-11             [1, 8, 8, 8]              584\n",
       "│    └─ReLU: 2-12                        [1, 8, 8, 8]              --\n",
       "│    └─ConvTranspose2d: 2-13             [1, 1, 8, 8]              73\n",
       "│    └─Sigmoid: 2-14                     [1, 1, 8, 8]              --\n",
       "==========================================================================================\n",
       "Total params: 3,125\n",
       "Trainable params: 3,125\n",
       "Non-trainable params: 0\n",
       "Total mult-adds (M): 0.04\n",
       "==========================================================================================\n",
       "Input size (MB): 0.00\n",
       "Forward/backward pass size (MB): 0.01\n",
       "Params size (MB): 0.01\n",
       "Estimated Total Size (MB): 0.02\n",
       "=========================================================================================="
      ]
     },
     "execution_count": 3,
     "metadata": {},
     "output_type": "execute_result"
    }
   ],
   "source": [
    "def load_model(path, batch_size, learning_rate, precision, size):\n",
    "    model_path = path + f'bs{batch_size}_lr{learning_rate}/ECON_{precision}b/{size}/net_1_best.pkl'\n",
    "    \n",
    "    # load the model\n",
    "    model = AutoEncoder(\n",
    "        quantize=(precision < 32),\n",
    "        precision=[\n",
    "            precision,\n",
    "            precision,\n",
    "            precision+3\n",
    "        ],\n",
    "        learning_rate=learning_rate,\n",
    "        econ_type=size\n",
    "    )\n",
    "    \n",
    "    # to set the map location\n",
    "    device = torch.device('cuda' if torch.cuda.is_available() else 'cpu')\n",
    "    \n",
    "    model(torch.randn((1, 1, 8, 8)))  # Update tensor shapes \n",
    "    model_param = torch.load(model_path, map_location=device)\n",
    "    model.load_state_dict(model_param['state_dict'])\n",
    "    \n",
    "    return model\n",
    "\n",
    "\n",
    "model = load_model(base_path, batch_size, learning_rate, precision, size)\n",
    "torchinfo.summary(model, input_size=(1, 1, 8, 8))  # (B, C, H, W)     "
   ]
  },
  {
   "cell_type": "markdown",
   "metadata": {},
   "source": [
    "Setup the data loader:"
   ]
  },
  {
   "cell_type": "code",
   "execution_count": 4,
   "metadata": {},
   "outputs": [
    {
     "name": "stdout",
     "output_type": "stream",
     "text": [
      "Loaded shaped data shape: (1740950, 1, 8, 8)\n",
      "Loaded shaped data datatype: float32\n"
     ]
    }
   ],
   "source": [
    "data_path = '../../data/ECON/Elegun'\n",
    "processed_file = 'nELinks5.npy'\n",
    "\n",
    "def get_data_module(batch_size):\n",
    "    data_module = AutoEncoderDataModule(\n",
    "        data_dir=data_path,\n",
    "        data_file=os.path.join(data_path, processed_file),\n",
    "        batch_size=batch_size,\n",
    "        num_workers=4\n",
    "        )\n",
    "    # checek if we have processed the data\n",
    "    if not os.path.exists(os.path.join(data_path, processed_file)):\n",
    "        print('Processing the data...')\n",
    "        data_module.process_data(save=True)\n",
    "\n",
    "    data_module.setup(0)\n",
    "    return data_module\n",
    "\n",
    "data_module = get_data_module(batch_size)"
   ]
  },
  {
   "cell_type": "markdown",
   "metadata": {},
   "source": [
    "Model performances:"
   ]
  },
  {
   "cell_type": "code",
   "execution_count": 5,
   "metadata": {},
   "outputs": [
    {
     "name": "stderr",
     "output_type": "stream",
     "text": [
      "GPU available: False, used: False\n",
      "TPU available: False, using: 0 TPU cores\n",
      "IPU available: False, using: 0 IPUs\n",
      "HPU available: False, using: 0 HPUs\n"
     ]
    }
   ],
   "source": [
    "trainer = pl.Trainer(\n",
    "        max_epochs=5,\n",
    "        accelerator=\"auto\",\n",
    "        devices=1\n",
    "    )\n",
    "\n",
    "def compute_EMD(bs, lr, size, precision, load=True):\n",
    "    if load:\n",
    "        print(\"Loading the EMD...\")\n",
    "        emd_path = base_path + f'bs{bs}_lr{lr}/ECON_{precision}b/{size}/{size}_emd_1.txt'\n",
    "        # load the achieved EMD of the model\n",
    "        emd = None\n",
    "        try:\n",
    "            emd_file = open(emd_path)\n",
    "            emd_text = emd_file.read()\n",
    "            emd = ast.literal_eval(emd_text)\n",
    "            emd = emd[0]['AVG_EMD']\n",
    "            emd_file.close()\n",
    "            return emd\n",
    "        except Exception as e:\n",
    "            print(\"ATTENTION: not able to open the file with the EMD content!\")\n",
    "        \n",
    "    print(\"Computing the EMD...\")\n",
    "    # load the model \n",
    "    model = load_model(base_path, bs, lr, precision, size)\n",
    "    # get the data loader\n",
    "    data_module = get_data_module(bs)\n",
    "    _, val_sum = data_module.get_val_max_and_sum()\n",
    "    model.set_val_sum(val_sum)\n",
    "    data_module.setup(\"test\")\n",
    "    avg_emd = trainer.test(model, dataloaders=data_module.test_dataloader(), verbose=False)\n",
    "    return avg_emd\n",
    "    \n",
    "\n"
   ]
  },
  {
   "cell_type": "markdown",
   "metadata": {},
   "source": [
    "## (Estimated) Fisher trace"
   ]
  },
  {
   "cell_type": "code",
   "execution_count": 6,
   "metadata": {},
   "outputs": [
    {
     "name": "stdout",
     "output_type": "stream",
     "text": [
      "Computing the Fisher estimated trace...\n"
     ]
    },
    {
     "data": {
      "text/plain": [
       "{'EF_trace': {'encoder.conv': 0.0004712590985983348,\n",
       "  'encoder.enc_dense': 0.00040848579399746537}}"
      ]
     },
     "execution_count": 6,
     "metadata": {},
     "output_type": "execute_result"
    }
   ],
   "source": [
    "_, val_loader = data_module.dataloaders()\n",
    "\n",
    "metric = Fisher(\n",
    "    model=model,\n",
    "    data_loader=val_loader,\n",
    "    optimizer=model.configure_optimizers(),\n",
    "    target_layers=['encoder.conv', 'encoder.enc_dense']\n",
    ")\n",
    "\n",
    "metric.compute()"
   ]
  },
  {
   "cell_type": "markdown",
   "metadata": {},
   "source": [
    "## Hessian "
   ]
  },
  {
   "cell_type": "code",
   "execution_count": 7,
   "metadata": {},
   "outputs": [
    {
     "name": "stdout",
     "output_type": "stream",
     "text": [
      "1\n",
      "Computing the hessian metrics...\n"
     ]
    },
    {
     "name": "stderr",
     "output_type": "stream",
     "text": [
      "/home/tbaldi/miniconda3/envs/loss_landscape/lib/python3.8/site-packages/torch/autograd/__init__.py:200: UserWarning: Using backward() with create_graph=True will create a reference cycle between the parameter and its gradient which can cause a memory leak. We recommend using autograd.grad when creating the graph to avoid this. If you have to use this function, make sure to reset the .grad fields of your parameters to None after use to break the cycle and avoid the leak. (Triggered internally at ../torch/csrc/autograd/engine.cpp:1151.)\n",
      "  Variable._execution_engine.run_backward(  # Calls into the C++ engine to run the backward pass\n"
     ]
    },
    {
     "name": "stdout",
     "output_type": "stream",
     "text": [
      "trace: ([tensor(21.4213), tensor(50.1982), tensor(32.4628), tensor(27.9331), tensor(108.8410), tensor(22.6781), tensor(114.8436), tensor(96.5289), tensor(37.7159), tensor(5.6954), tensor(278.8664), tensor(99.0729), tensor(53.9362), tensor(10.4557), tensor(90.7464), tensor(9.5632), tensor(47.7793), tensor(177.5474), tensor(21.2044), tensor(102.7833), tensor(12.1959), tensor(39.0840), tensor(41.7090), tensor(62.3207), tensor(30.8330), tensor(28.5331), tensor(8.7009), tensor(42.2599), tensor(25.1581), tensor(25.0077), tensor(9.2595), tensor(115.2031), tensor(34.4827), tensor(45.4585), tensor(6.2695), tensor(272.5339), tensor(42.6834), tensor(47.4275), tensor(231.9359), tensor(15.1256), tensor(155.7421), tensor(29.4414), tensor(266.4585), tensor(22.4278), tensor(18.9080), tensor(51.3759), tensor(9.8948), tensor(41.4964), tensor(47.1707), tensor(8.6851), tensor(49.4013), tensor(13.8226), tensor(224.5432), tensor(15.4405), tensor(20.7559), tensor(166.4109), tensor(103.2655), tensor(49.0685), tensor(36.3520), tensor(10.4186), tensor(27.9907), tensor(26.8601), tensor(227.5027), tensor(40.6353), tensor(10.0374), tensor(117.4048), tensor(69.3744), tensor(31.2188), tensor(74.1392), tensor(8.6837), tensor(49.4228), tensor(36.2093), tensor(137.7932), tensor(35.0195), tensor(465.3399), tensor(9.0805), tensor(101.7836), tensor(42.8585), tensor(5.9521), tensor(100.5816), tensor(25.9141), tensor(100.9067), tensor(46.6249), tensor(73.9464), tensor(19.5750), tensor(19.8317), tensor(28.6706), tensor(20.9426), tensor(21.8749), tensor(209.7009), tensor(8.2666), tensor(48.3879), tensor(80.8162), tensor(10.5099), tensor(195.5210), tensor(46.9101), tensor(17.3793), tensor(40.3308), tensor(14.4615), tensor(71.7108), tensor(19.3357), tensor(67.0774), tensor(62.5699), tensor(13.0579), tensor(5.7332), tensor(66.9194), tensor(9.8506), tensor(5.6988), tensor(5.2725), tensor(4.7285), tensor(15.4686), tensor(25.8629), tensor(27.6148), tensor(216.8002), tensor(59.2411), tensor(55.9592), tensor(90.3073), tensor(24.0534), tensor(7.9419), tensor(161.3342), tensor(32.4153), tensor(12.9480), tensor(48.0062), tensor(141.3918), tensor(22.8312), tensor(14.2817), tensor(48.3664), tensor(245.9191), tensor(26.8079), tensor(115.3206), tensor(52.2053), tensor(55.4106), tensor(232.7072), tensor(162.6665), tensor(18.7961), tensor(7.5547), tensor(22.5012), tensor(51.1777), tensor(52.0641), tensor(27.4752), tensor(30.9631), tensor(28.8295), tensor(80.6852), tensor(9.2596), tensor(8.1697), tensor(221.5750), tensor(33.2320), tensor(166.1816), tensor(25.3274), tensor(8.3733), tensor(4.2728), tensor(393.3461), tensor(29.8757), tensor(18.4934), tensor(36.4981), tensor(13.3248), tensor(6.3749), tensor(139.9074), tensor(17.4743), tensor(19.1407), tensor(18.8837), tensor(14.8427), tensor(26.4399), tensor(25.4378), tensor(48.2532), tensor(9.9864), tensor(55.4105), tensor(34.3995), tensor(110.2274), tensor(21.6086), tensor(229.8769), tensor(159.9199), tensor(12.7238), tensor(52.0098), tensor(15.9525), tensor(41.6521), tensor(90.7841), tensor(180.4472), tensor(10.1566), tensor(17.2767), tensor(83.2846), tensor(92.9932), tensor(31.6911), tensor(140.9328), tensor(109.5556), tensor(5.9611), tensor(15.5161), tensor(171.0855), tensor(21.5275), tensor(104.1096), tensor(15.3364), tensor(9.8590), tensor(5.2487), tensor(112.3859), tensor(44.7566), tensor(118.2613), tensor(164.2931), tensor(27.2980), tensor(78.9779), tensor(24.1086)], {'encoder.conv': [tensor(59.7707), tensor(72.7420), tensor(56.3570), tensor(66.6504), tensor(49.6120), tensor(73.4599), tensor(75.5066), tensor(66.8128), tensor(57.5416), tensor(56.2226), tensor(65.9123), tensor(68.8594), tensor(80.0862), tensor(67.7413), tensor(50.6732), tensor(52.8267), tensor(73.8206), tensor(73.6433), tensor(68.7938), tensor(76.0410), tensor(35.0691), tensor(67.3682), tensor(52.7643), tensor(56.9392), tensor(56.8347), tensor(48.8837), tensor(63.2792), tensor(65.1378), tensor(71.0701), tensor(79.4094), tensor(55.3587), tensor(52.7007), tensor(55.1839), tensor(72.3819), tensor(57.4377), tensor(39.1302), tensor(65.2374), tensor(59.0235), tensor(66.7168), tensor(62.1544), tensor(48.6410), tensor(57.0272), tensor(60.8968), tensor(62.6833), tensor(58.2148), tensor(71.3559), tensor(64.8183), tensor(70.7333), tensor(61.6214), tensor(72.2273), tensor(62.8578), tensor(74.2340), tensor(47.0372), tensor(59.4247), tensor(49.8967), tensor(47.4141), tensor(57.4476), tensor(59.9085), tensor(69.3560), tensor(55.8084), tensor(68.4294), tensor(51.7822), tensor(58.0415), tensor(65.3842), tensor(74.3368), tensor(82.6148), tensor(61.3348), tensor(58.7028), tensor(56.3143), tensor(66.6415), tensor(60.8300), tensor(45.9811), tensor(61.1827), tensor(61.7968), tensor(38.7676), tensor(74.7966), tensor(73.8286), tensor(73.7382), tensor(66.5563), tensor(64.7390), tensor(50.5383), tensor(63.5658), tensor(57.0024), tensor(56.8026), tensor(64.7366), tensor(68.2462), tensor(52.3036), tensor(48.8791), tensor(67.2605), tensor(57.0486), tensor(73.6148), tensor(66.6179), tensor(61.3214), tensor(82.3463), tensor(53.1323), tensor(64.3594), tensor(54.3848), tensor(79.1009), tensor(71.9967), tensor(34.1810), tensor(69.3661), tensor(66.5824), tensor(38.9601), tensor(47.4541), tensor(59.8756), tensor(78.8009), tensor(55.5743), tensor(57.7768), tensor(61.2479), tensor(70.7213), tensor(49.5326), tensor(60.0229), tensor(84.0804), tensor(66.3548), tensor(38.2650), tensor(65.6785), tensor(77.5933), tensor(55.1700), tensor(48.3958), tensor(50.0736), tensor(70.9924), tensor(65.9355), tensor(55.5711), tensor(69.0058), tensor(46.1766), tensor(60.6571), tensor(54.6299), tensor(61.7441), tensor(72.1808), tensor(64.9643), tensor(70.9128), tensor(72.4957), tensor(42.1101), tensor(63.1868), tensor(56.0010), tensor(56.5444), tensor(52.0551), tensor(56.2423), tensor(46.1749), tensor(46.6126), tensor(62.8796), tensor(65.6141), tensor(66.6233), tensor(43.8807), tensor(75.8806), tensor(52.0375), tensor(54.5459), tensor(62.9093), tensor(47.9465), tensor(68.6754), tensor(65.9773), tensor(61.2152), tensor(68.6252), tensor(61.5623), tensor(62.5179), tensor(77.3644), tensor(71.1170), tensor(66.3141), tensor(83.8712), tensor(63.4972), tensor(51.7578), tensor(83.0896), tensor(58.0522), tensor(69.3880), tensor(56.3769), tensor(80.2945), tensor(74.1968), tensor(72.3990), tensor(61.4622), tensor(67.8742), tensor(55.6796), tensor(69.6201), tensor(54.4300), tensor(61.8319), tensor(53.8441), tensor(68.4894), tensor(59.5760), tensor(59.4283), tensor(66.3350), tensor(59.9691), tensor(71.3537), tensor(66.9630), tensor(49.9155), tensor(59.3578), tensor(60.0530), tensor(79.2262), tensor(79.2272), tensor(65.3226), tensor(60.4990), tensor(66.6839), tensor(66.5645), tensor(67.2573), tensor(64.4152), tensor(50.3144), tensor(61.3380), tensor(66.7309), tensor(62.4489), tensor(83.1233), tensor(46.5790), tensor(60.4568)], 'encoder.enc_dense': [tensor(12.3761), tensor(15.4954), tensor(24.1413), tensor(15.0734), tensor(11.2276), tensor(18.0669), tensor(16.7441), tensor(10.4386), tensor(35.2687), tensor(14.2948), tensor(16.4273), tensor(16.8255), tensor(11.3533), tensor(10.3745), tensor(14.4724), tensor(15.5731), tensor(12.1176), tensor(16.3598), tensor(10.8716), tensor(13.0968), tensor(18.6773), tensor(16.9423), tensor(17.0545), tensor(16.4866), tensor(9.0226), tensor(17.7385), tensor(9.5119), tensor(12.8871), tensor(15.3700), tensor(17.0433), tensor(11.7175), tensor(13.3484), tensor(8.7947), tensor(12.3456), tensor(9.6240), tensor(16.5159), tensor(10.8829), tensor(22.3541), tensor(25.5599), tensor(8.3064), tensor(16.2873), tensor(15.4512), tensor(9.7544), tensor(13.1573), tensor(18.4009), tensor(7.0299), tensor(10.1424), tensor(10.7395), tensor(15.1484), tensor(8.1428), tensor(14.2508), tensor(16.8600), tensor(13.7728), tensor(17.7148), tensor(10.9253), tensor(11.6809), tensor(14.8936), tensor(17.8703), tensor(14.9140), tensor(16.6139), tensor(15.1581), tensor(11.2220), tensor(16.0785), tensor(15.7640), tensor(15.2394), tensor(12.0081), tensor(16.7699), tensor(16.3410), tensor(14.6300), tensor(22.6772), tensor(13.6601), tensor(16.4746), tensor(14.6323), tensor(12.1458), tensor(24.7684), tensor(12.4870), tensor(14.8526), tensor(14.3601), tensor(24.5652), tensor(11.8459), tensor(23.7804), tensor(12.7606), tensor(27.1987), tensor(20.0025), tensor(18.4423), tensor(10.2876), tensor(25.5606), tensor(11.0144), tensor(10.7571), tensor(17.1609), tensor(17.4851), tensor(20.8603), tensor(11.6173), tensor(12.7793), tensor(10.6782), tensor(8.5490), tensor(19.7534), tensor(10.1396), tensor(21.5442), tensor(18.5823), tensor(15.4372), tensor(16.0848), tensor(20.0107), tensor(17.9212), tensor(9.8197), tensor(14.6399), tensor(8.3765), tensor(12.1412), tensor(11.4025), tensor(11.0587), tensor(9.5862), tensor(12.2967), tensor(11.7243), tensor(9.6985), tensor(13.0091), tensor(13.2803), tensor(11.3033), tensor(13.1723), tensor(12.5262), tensor(13.9769), tensor(12.6025), tensor(13.1222), tensor(10.0696), tensor(15.2331), tensor(16.1665), tensor(13.3041), tensor(13.6875), tensor(12.3963), tensor(13.2659), tensor(8.0208), tensor(12.6312), tensor(20.5352), tensor(11.5505), tensor(14.0852), tensor(9.7817), tensor(18.3114), tensor(14.0038), tensor(7.5600), tensor(15.5063), tensor(10.9966), tensor(8.3609), tensor(19.5431), tensor(12.2088), tensor(12.4352), tensor(10.6940), tensor(15.8131), tensor(12.2474), tensor(10.8735), tensor(11.6384), tensor(9.1711), tensor(19.6209), tensor(12.8660), tensor(17.7009), tensor(10.4561), tensor(13.5300), tensor(10.5105), tensor(9.7130), tensor(10.3646), tensor(12.4647), tensor(8.4769), tensor(24.9311), tensor(9.1606), tensor(12.6985), tensor(17.4913), tensor(15.7861), tensor(13.5021), tensor(13.6160), tensor(10.9123), tensor(19.4125), tensor(14.4745), tensor(18.3909), tensor(12.8938), tensor(14.8896), tensor(21.2501), tensor(13.1774), tensor(13.7586), tensor(13.1643), tensor(17.5730), tensor(12.9131), tensor(15.6169), tensor(16.6109), tensor(11.7912), tensor(13.3659), tensor(8.5313), tensor(13.0338), tensor(21.6589), tensor(8.4476), tensor(18.6196), tensor(10.3826), tensor(18.4338), tensor(9.5528), tensor(18.1509), tensor(10.7522), tensor(9.3648), tensor(22.5470), tensor(8.9834), tensor(12.6213), tensor(10.7809), tensor(12.1891), tensor(10.1305)], 'decoder.dec_dense': [tensor(178.9898), tensor(141.5173), tensor(167.9073), tensor(112.2989), tensor(87.2219), tensor(267.3758), tensor(79.2111), tensor(62.3838), tensor(165.5486), tensor(164.5539), tensor(151.6200), tensor(98.8583), tensor(76.7905), tensor(57.3032), tensor(76.4114), tensor(134.2113), tensor(40.9327), tensor(40.4971), tensor(60.1394), tensor(164.5376), tensor(197.2163), tensor(190.5642), tensor(136.0397), tensor(81.2410), tensor(112.4561), tensor(204.6894), tensor(89.3293), tensor(213.6069), tensor(113.2734), tensor(171.2837), tensor(67.3021), tensor(170.5352), tensor(192.7395), tensor(75.2112), tensor(79.9317), tensor(115.1945), tensor(138.3938), tensor(82.7133), tensor(94.9959), tensor(81.0367), tensor(94.0829), tensor(182.3143), tensor(71.8236), tensor(112.2070), tensor(65.6827), tensor(119.8631), tensor(238.6858), tensor(78.1593), tensor(183.5098), tensor(154.0845), tensor(294.3853), tensor(60.3862), tensor(49.6278), tensor(58.1710), tensor(172.8530), tensor(70.6590), tensor(184.0933), tensor(115.9210), tensor(159.9071), tensor(86.4984), tensor(157.0540), tensor(75.3350), tensor(174.8306), tensor(81.7290), tensor(135.2924), tensor(61.7788), tensor(127.2955), tensor(135.2109), tensor(231.2408), tensor(74.6364), tensor(60.8631), tensor(174.0285), tensor(51.6138), tensor(106.7736), tensor(44.3205), tensor(190.9618), tensor(128.8849), tensor(67.8982), tensor(47.1144), tensor(36.3541), tensor(76.5197), tensor(40.3494), tensor(80.5946), tensor(42.4504), tensor(72.3192), tensor(149.8473), tensor(55.7954), tensor(199.0542), tensor(151.4442), tensor(68.0948), tensor(73.6905), tensor(80.2711), tensor(69.7048), tensor(107.7612), tensor(59.6038), tensor(83.4742), tensor(165.9977), tensor(89.8114), tensor(37.2139), tensor(148.8116), tensor(72.8197), tensor(68.8420), tensor(255.4266), tensor(77.5690), tensor(72.5791), tensor(98.0573), tensor(127.1881), tensor(52.9919), tensor(49.7669), tensor(182.6664), tensor(62.6198), tensor(65.9305), tensor(227.4737), tensor(181.4739), tensor(47.2639), tensor(74.0471), tensor(102.9107), tensor(235.2710), tensor(32.5221), tensor(50.2506), tensor(142.5298), tensor(136.5135), tensor(45.4130), tensor(209.5881), tensor(214.3480), tensor(181.1495), tensor(91.0962), tensor(159.3528), tensor(161.0536), tensor(81.2019), tensor(86.8271), tensor(159.7852), tensor(155.4096), tensor(91.0200), tensor(69.1865), tensor(116.0852), tensor(230.4637), tensor(105.9051), tensor(101.0181), tensor(120.8967), tensor(88.1757), tensor(159.5009), tensor(93.8000), tensor(88.4861), tensor(71.9861), tensor(251.8423), tensor(150.2283), tensor(291.5492), tensor(71.3513), tensor(109.4148), tensor(124.7788), tensor(79.3936), tensor(127.7312), tensor(242.3006), tensor(93.5913), tensor(221.3681), tensor(144.5199), tensor(69.7171), tensor(159.1708), tensor(99.1464), tensor(122.8658), tensor(117.4377), tensor(87.6774), tensor(111.8345), tensor(126.3812), tensor(64.8195), tensor(69.5174), tensor(62.1426), tensor(94.1361), tensor(170.5238), tensor(207.3603), tensor(110.4557), tensor(125.8301), tensor(106.0442), tensor(107.2348), tensor(80.9651), tensor(65.6665), tensor(154.7402), tensor(136.6644), tensor(166.5536), tensor(117.3035), tensor(53.6009), tensor(67.1271), tensor(84.1482), tensor(88.5518), tensor(83.8572), tensor(266.6430), tensor(48.5187), tensor(119.6456), tensor(45.4977), tensor(71.2477), tensor(91.6736), tensor(114.4545), tensor(73.0884), tensor(111.1984), tensor(90.4246), tensor(63.9422), tensor(126.5806), tensor(183.4837), tensor(175.7138)], 'decoder.convtrans2d1': [tensor(12.6149), tensor(25.6649), tensor(92.6617), tensor(42.7437), tensor(33.2075), tensor(24.1004), tensor(917.4816), tensor(206.4473), tensor(29.4530), tensor(117.6878), tensor(37.0640), tensor(57.4229), tensor(31.5019), tensor(20.4196), tensor(113.6821), tensor(20.4300), tensor(17.9970), tensor(219.5732), tensor(165.2264), tensor(253.4698), tensor(22.5174), tensor(358.1438), tensor(181.4955), tensor(307.3782), tensor(34.8004), tensor(158.8938), tensor(38.1367), tensor(43.4214), tensor(65.7264), tensor(313.2350), tensor(91.5966), tensor(163.4343), tensor(150.4682), tensor(165.4955), tensor(210.1063), tensor(253.3316), tensor(38.1107), tensor(20.3879), tensor(115.8728), tensor(76.5219), tensor(19.9294), tensor(327.5690), tensor(34.1238), tensor(93.9113), tensor(135.8417), tensor(20.1426), tensor(351.4360), tensor(149.4981), tensor(395.8795), tensor(28.1143), tensor(53.0184), tensor(36.3443), tensor(517.9843), tensor(242.2479), tensor(110.3889), tensor(35.5029), tensor(166.3331), tensor(95.4536), tensor(122.2454), tensor(359.6080), tensor(129.5145), tensor(78.8270), tensor(290.7746), tensor(125.7631), tensor(139.3343), tensor(69.8929), tensor(65.6142), tensor(21.5938), tensor(174.7849), tensor(60.3628), tensor(22.5906), tensor(38.6059), tensor(42.4879), tensor(258.6689), tensor(41.5947), tensor(122.5984), tensor(166.9900), tensor(100.6925), tensor(76.4766), tensor(167.0850), tensor(43.4307), tensor(39.1459), tensor(245.2574), tensor(60.7034), tensor(229.3256), tensor(247.4240), tensor(308.7148), tensor(146.8054), tensor(170.7893), tensor(190.4256), tensor(26.1020), tensor(18.1841), tensor(35.8592), tensor(32.3416), tensor(219.2503), tensor(32.5592), tensor(49.8403), tensor(93.9936), tensor(149.9675), tensor(175.3972), tensor(35.3825), tensor(782.5577), tensor(55.2488), tensor(98.6321), tensor(103.5806), tensor(88.2616), tensor(91.7739), tensor(259.2250), tensor(512.8651), tensor(300.9940), tensor(284.7960), tensor(57.2861), tensor(47.5194), tensor(30.9933), tensor(173.9314), tensor(204.6586), tensor(59.7797), tensor(133.1561), tensor(108.7833), tensor(30.5242), tensor(211.3789), tensor(96.4268), tensor(28.9258), tensor(7.3689), tensor(73.0046), tensor(189.6406), tensor(599.2576), tensor(87.4969), tensor(26.0517), tensor(255.3243), tensor(47.2920), tensor(451.6850), tensor(239.8593), tensor(333.0558), tensor(127.8396), tensor(338.2891), tensor(42.2649), tensor(66.8423), tensor(295.3135), tensor(136.4187), tensor(56.5131), tensor(118.5647), tensor(106.6040), tensor(176.0677), tensor(88.2200), tensor(298.5476), tensor(49.6192), tensor(472.2982), tensor(108.1875), tensor(62.8377), tensor(40.4673), tensor(439.2443), tensor(109.1777), tensor(23.9822), tensor(158.0485), tensor(73.0139), tensor(800.6136), tensor(71.6653), tensor(100.6170), tensor(21.9524), tensor(177.7989), tensor(26.0113), tensor(22.7433), tensor(356.6923), tensor(83.8462), tensor(25.6489), tensor(21.1862), tensor(207.1671), tensor(43.9347), tensor(162.8514), tensor(245.2681), tensor(167.1001), tensor(37.2028), tensor(43.8461), tensor(22.1357), tensor(192.8683), tensor(22.2498), tensor(282.8270), tensor(113.6733), tensor(116.2874), tensor(27.1788), tensor(18.7719), tensor(14.0051), tensor(44.0457), tensor(44.3958), tensor(23.0340), tensor(72.4038), tensor(213.6604), tensor(13.7782), tensor(701.8197), tensor(84.8789), tensor(54.2133), tensor(61.9508), tensor(264.0726), tensor(87.5114), tensor(119.7085), tensor(51.3432), tensor(122.6242), tensor(23.4690), tensor(76.5909)], 'decoder.convtrans2d2': [tensor(21.4213), tensor(50.1982), tensor(32.4628), tensor(27.9331), tensor(108.8410), tensor(22.6781), tensor(114.8436), tensor(96.5289), tensor(37.7159), tensor(5.6954), tensor(278.8664), tensor(99.0729), tensor(53.9362), tensor(10.4557), tensor(90.7464), tensor(9.5632), tensor(47.7793), tensor(177.5474), tensor(21.2044), tensor(102.7833), tensor(12.1959), tensor(39.0840), tensor(41.7090), tensor(62.3207), tensor(30.8330), tensor(28.5331), tensor(8.7009), tensor(42.2599), tensor(25.1581), tensor(25.0077), tensor(9.2595), tensor(115.2031), tensor(34.4827), tensor(45.4585), tensor(6.2695), tensor(272.5339), tensor(42.6834), tensor(47.4275), tensor(231.9359), tensor(15.1256), tensor(155.7421), tensor(29.4414), tensor(266.4585), tensor(22.4278), tensor(18.9080), tensor(51.3759), tensor(9.8948), tensor(41.4964), tensor(47.1707), tensor(8.6851), tensor(49.4013), tensor(13.8226), tensor(224.5432), tensor(15.4405), tensor(20.7559), tensor(166.4109), tensor(103.2655), tensor(49.0685), tensor(36.3520), tensor(10.4186), tensor(27.9907), tensor(26.8601), tensor(227.5027), tensor(40.6353), tensor(10.0374), tensor(117.4048), tensor(69.3744), tensor(31.2188), tensor(74.1392), tensor(8.6837), tensor(49.4228), tensor(36.2093), tensor(137.7932), tensor(35.0195), tensor(465.3399), tensor(9.0805), tensor(101.7836), tensor(42.8585), tensor(5.9521), tensor(100.5816), tensor(25.9141), tensor(100.9067), tensor(46.6249), tensor(73.9464), tensor(19.5750), tensor(19.8317), tensor(28.6706), tensor(20.9426), tensor(21.8749), tensor(209.7009), tensor(8.2666), tensor(48.3879), tensor(80.8162), tensor(10.5099), tensor(195.5210), tensor(46.9101), tensor(17.3793), tensor(40.3308), tensor(14.4615), tensor(71.7108), tensor(19.3357), tensor(67.0774), tensor(62.5699), tensor(13.0579), tensor(5.7332), tensor(66.9194), tensor(9.8506), tensor(5.6988), tensor(5.2725), tensor(4.7285), tensor(15.4686), tensor(25.8629), tensor(27.6148), tensor(216.8002), tensor(59.2411), tensor(55.9592), tensor(90.3073), tensor(24.0534), tensor(7.9419), tensor(161.3342), tensor(32.4153), tensor(12.9480), tensor(48.0062), tensor(141.3918), tensor(22.8312), tensor(14.2817), tensor(48.3664), tensor(245.9191), tensor(26.8079), tensor(115.3206), tensor(52.2053), tensor(55.4106), tensor(232.7072), tensor(162.6665), tensor(18.7961), tensor(7.5547), tensor(22.5012), tensor(51.1777), tensor(52.0641), tensor(27.4752), tensor(30.9631), tensor(28.8295), tensor(80.6852), tensor(9.2596), tensor(8.1697), tensor(221.5750), tensor(33.2320), tensor(166.1816), tensor(25.3274), tensor(8.3733), tensor(4.2728), tensor(393.3461), tensor(29.8757), tensor(18.4934), tensor(36.4981), tensor(13.3248), tensor(6.3749), tensor(139.9074), tensor(17.4743), tensor(19.1407), tensor(18.8837), tensor(14.8427), tensor(26.4399), tensor(25.4378), tensor(48.2532), tensor(9.9864), tensor(55.4105), tensor(34.3995), tensor(110.2274), tensor(21.6086), tensor(229.8769), tensor(159.9199), tensor(12.7238), tensor(52.0098), tensor(15.9525), tensor(41.6521), tensor(90.7841), tensor(180.4472), tensor(10.1566), tensor(17.2767), tensor(83.2846), tensor(92.9932), tensor(31.6911), tensor(140.9328), tensor(109.5556), tensor(5.9611), tensor(15.5161), tensor(171.0855), tensor(21.5275), tensor(104.1096), tensor(15.3364), tensor(9.8590), tensor(5.2487), tensor(112.3859), tensor(44.7566), tensor(118.2613), tensor(164.2931), tensor(27.2980), tensor(78.9779), tensor(24.1086)]})\n"
     ]
    },
    {
     "data": {
      "text/plain": [
       "0"
      ]
     },
     "execution_count": 7,
     "metadata": {},
     "output_type": "execute_result"
    }
   ],
   "source": [
    "\n",
    "_, val_loader = data_module.dataloaders(max_batches=100)\n",
    "\n",
    "print(len(val_loader))\n",
    "metric = Hessian(\n",
    "    model=model,\n",
    "    data_loader=val_loader,\n",
    "    loss=model.loss)\n",
    "\n",
    "results = metric.compute()\n",
    "len(results)"
   ]
  },
  {
   "cell_type": "markdown",
   "metadata": {},
   "source": [
    "## CKA similarity"
   ]
  },
  {
   "cell_type": "markdown",
   "metadata": {},
   "source": [
    "Extract the features from each layer of the model:"
   ]
  },
  {
   "cell_type": "code",
   "execution_count": 8,
   "metadata": {},
   "outputs": [
    {
     "name": "stdout",
     "output_type": "stream",
     "text": [
      "Loaded shaped data shape: (1740950, 1, 8, 8)\n",
      "Loaded shaped data datatype: float32\n"
     ]
    }
   ],
   "source": [
    "model = load_model(base_path, 1024, 0.003125, 8, 'small')\n",
    "data_module = get_data_module(batch_size)"
   ]
  },
  {
   "cell_type": "code",
   "execution_count": 9,
   "metadata": {},
   "outputs": [
    {
     "name": "stdout",
     "output_type": "stream",
     "text": [
      "Computing the CKA similarity...\n",
      "CKA matrix:                    encoder.conv  encoder.enc_dense\n",
      "encoder.conv       3.848318e-08       4.046033e-01\n",
      "encoder.enc_dense  4.046035e-01      -3.331753e-08\n",
      "average CKA: 0.4046034104675882\n"
     ]
    },
    {
     "name": "stderr",
     "output_type": "stream",
     "text": [
      "/home/tbaldi/loss_landscape_taxonomy/workspace/common/metrics/CKA.py:137: UserWarning: Warning: CKA has a wrong value!\n",
      "  warnings.warn(f\"Warning: CKA has a wrong value!\")\n"
     ]
    }
   ],
   "source": [
    "metric = CKA(model, \n",
    "             data_module.test_dataloader(),\n",
    "             activation_layers=['encoder.conv', 'encoder.enc_dense'])\n",
    "\n",
    "result = metric.compute()\n"
   ]
  },
  {
   "cell_type": "code",
   "execution_count": 10,
   "metadata": {},
   "outputs": [
    {
     "data": {
      "image/png": "[encoded data removed]",
      "text/plain": [
       "<Figure size 640x480 with 2 Axes>"
      ]
     },
     "metadata": {},
     "output_type": "display_data"
    }
   ],
   "source": [
    "def plot_cka_heatmap(cka_values, title, x_label='Layers', y_label='Layers'):\n",
    "    # Create a heatmap\n",
    "    ax = plt.imshow(cka_values.values, \n",
    "            cmap='Reds', \n",
    "            interpolation='nearest',\n",
    "            vmin=0,\n",
    "            vmax=1)\n",
    "\n",
    "    # Customize the plot\n",
    "    plt.colorbar(label='CKA distance')\n",
    "    plt.title(title)\n",
    "    plt.xlabel(x_label)\n",
    "    plt.ylabel(y_label)\n",
    "\n",
    "    # Set axis ticks based on the dimensions\n",
    "    plt.xticks(np.arange(len(cka_values.columns)), cka_values.columns, rotation='horizontal')\n",
    "    plt.yticks(np.arange(len(cka_values.index)), cka_values.index, rotation='vertical', va='center')\n",
    "    \n",
    "    \n",
    "    plt.tick_params(top=True, labeltop=True, bottom=False, labelbottom=False)\n",
    "\n",
    "    # Display the plot\n",
    "    plt.show()\n",
    "    \n",
    "plot_cka_heatmap(result['cka_dist'], \n",
    "                 f\"ECON BS: {batch_size} LR: {learning_rate} Size: {size} bitwidt: {precision}\")"
   ]
  },
  {
   "cell_type": "code",
   "execution_count": 11,
   "metadata": {},
   "outputs": [
    {
     "name": "stdout",
     "output_type": "stream",
     "text": [
      "Loaded shaped data shape: (1740950, 1, 8, 8)\n",
      "Loaded shaped data datatype: float32\n"
     ]
    },
    {
     "ename": "FileNotFoundError",
     "evalue": "[Errno 2] No such file or directory: '/data/tbaldi/checkpoint/bs1024_lr0.0015625/ECON_2b/small/net_1_best.pkl'",
     "output_type": "error",
     "traceback": [
      "\u001b[0;31m---------------------------------------------------------------------------\u001b[0m",
      "\u001b[0;31mFileNotFoundError\u001b[0m                         Traceback (most recent call last)",
      "\u001b[1;32m/home/tbaldi/loss_landscape_taxonomy/workspace/notebooks/metric_analysis.ipynb Cell 19\u001b[0m line \u001b[0;36m4\n\u001b[1;32m      <a href='vscode-notebook-cell://ssh-remote%2Bcorrelator4/home/tbaldi/loss_landscape_taxonomy/workspace/notebooks/metric_analysis.ipynb#X24sdnNjb2RlLXJlbW90ZQ%3D%3D?line=0'>1</a>\u001b[0m model_small \u001b[39m=\u001b[39m load_model(base_path, \u001b[39m1024\u001b[39m, learning_rate, \u001b[39m8\u001b[39m, \u001b[39m'\u001b[39m\u001b[39msmall\u001b[39m\u001b[39m'\u001b[39m)\n\u001b[1;32m      <a href='vscode-notebook-cell://ssh-remote%2Bcorrelator4/home/tbaldi/loss_landscape_taxonomy/workspace/notebooks/metric_analysis.ipynb#X24sdnNjb2RlLXJlbW90ZQ%3D%3D?line=1'>2</a>\u001b[0m data_module_small \u001b[39m=\u001b[39m get_data_module(\u001b[39m1024\u001b[39m)\n\u001b[0;32m----> <a href='vscode-notebook-cell://ssh-remote%2Bcorrelator4/home/tbaldi/loss_landscape_taxonomy/workspace/notebooks/metric_analysis.ipynb#X24sdnNjb2RlLXJlbW90ZQ%3D%3D?line=3'>4</a>\u001b[0m model_baseline \u001b[39m=\u001b[39m load_model(base_path, \u001b[39m1024\u001b[39;49m, learning_rate, \u001b[39m2\u001b[39;49m, \u001b[39m'\u001b[39;49m\u001b[39msmall\u001b[39;49m\u001b[39m'\u001b[39;49m)\n\u001b[1;32m      <a href='vscode-notebook-cell://ssh-remote%2Bcorrelator4/home/tbaldi/loss_landscape_taxonomy/workspace/notebooks/metric_analysis.ipynb#X24sdnNjb2RlLXJlbW90ZQ%3D%3D?line=4'>5</a>\u001b[0m data_module_baseline \u001b[39m=\u001b[39m get_data_module(\u001b[39m1024\u001b[39m)\n\u001b[1;32m      <a href='vscode-notebook-cell://ssh-remote%2Bcorrelator4/home/tbaldi/loss_landscape_taxonomy/workspace/notebooks/metric_analysis.ipynb#X24sdnNjb2RlLXJlbW90ZQ%3D%3D?line=6'>7</a>\u001b[0m activation_layers\u001b[39m=\u001b[39m[\u001b[39m'\u001b[39m\u001b[39mencoder.relu1\u001b[39m\u001b[39m'\u001b[39m, \u001b[39m'\u001b[39m\u001b[39mencoder.relu2\u001b[39m\u001b[39m'\u001b[39m]\n",
      "\u001b[1;32m/home/tbaldi/loss_landscape_taxonomy/workspace/notebooks/metric_analysis.ipynb Cell 19\u001b[0m line \u001b[0;36m2\n\u001b[1;32m     <a href='vscode-notebook-cell://ssh-remote%2Bcorrelator4/home/tbaldi/loss_landscape_taxonomy/workspace/notebooks/metric_analysis.ipynb#X24sdnNjb2RlLXJlbW90ZQ%3D%3D?line=16'>17</a>\u001b[0m device \u001b[39m=\u001b[39m torch\u001b[39m.\u001b[39mdevice(\u001b[39m'\u001b[39m\u001b[39mcuda\u001b[39m\u001b[39m'\u001b[39m \u001b[39mif\u001b[39;00m torch\u001b[39m.\u001b[39mcuda\u001b[39m.\u001b[39mis_available() \u001b[39melse\u001b[39;00m \u001b[39m'\u001b[39m\u001b[39mcpu\u001b[39m\u001b[39m'\u001b[39m)\n\u001b[1;32m     <a href='vscode-notebook-cell://ssh-remote%2Bcorrelator4/home/tbaldi/loss_landscape_taxonomy/workspace/notebooks/metric_analysis.ipynb#X24sdnNjb2RlLXJlbW90ZQ%3D%3D?line=18'>19</a>\u001b[0m model(torch\u001b[39m.\u001b[39mrandn((\u001b[39m1\u001b[39m, \u001b[39m1\u001b[39m, \u001b[39m8\u001b[39m, \u001b[39m8\u001b[39m)))  \u001b[39m# Update tensor shapes \u001b[39;00m\n\u001b[0;32m---> <a href='vscode-notebook-cell://ssh-remote%2Bcorrelator4/home/tbaldi/loss_landscape_taxonomy/workspace/notebooks/metric_analysis.ipynb#X24sdnNjb2RlLXJlbW90ZQ%3D%3D?line=19'>20</a>\u001b[0m model_param \u001b[39m=\u001b[39m torch\u001b[39m.\u001b[39;49mload(model_path, map_location\u001b[39m=\u001b[39;49mdevice)\n\u001b[1;32m     <a href='vscode-notebook-cell://ssh-remote%2Bcorrelator4/home/tbaldi/loss_landscape_taxonomy/workspace/notebooks/metric_analysis.ipynb#X24sdnNjb2RlLXJlbW90ZQ%3D%3D?line=20'>21</a>\u001b[0m model\u001b[39m.\u001b[39mload_state_dict(model_param[\u001b[39m'\u001b[39m\u001b[39mstate_dict\u001b[39m\u001b[39m'\u001b[39m])\n\u001b[1;32m     <a href='vscode-notebook-cell://ssh-remote%2Bcorrelator4/home/tbaldi/loss_landscape_taxonomy/workspace/notebooks/metric_analysis.ipynb#X24sdnNjb2RlLXJlbW90ZQ%3D%3D?line=22'>23</a>\u001b[0m \u001b[39mreturn\u001b[39;00m model\n",
      "File \u001b[0;32m~/miniconda3/envs/loss_landscape/lib/python3.8/site-packages/torch/serialization.py:791\u001b[0m, in \u001b[0;36mload\u001b[0;34m(f, map_location, pickle_module, weights_only, **pickle_load_args)\u001b[0m\n\u001b[1;32m    788\u001b[0m \u001b[39mif\u001b[39;00m \u001b[39m'\u001b[39m\u001b[39mencoding\u001b[39m\u001b[39m'\u001b[39m \u001b[39mnot\u001b[39;00m \u001b[39min\u001b[39;00m pickle_load_args\u001b[39m.\u001b[39mkeys():\n\u001b[1;32m    789\u001b[0m     pickle_load_args[\u001b[39m'\u001b[39m\u001b[39mencoding\u001b[39m\u001b[39m'\u001b[39m] \u001b[39m=\u001b[39m \u001b[39m'\u001b[39m\u001b[39mutf-8\u001b[39m\u001b[39m'\u001b[39m\n\u001b[0;32m--> 791\u001b[0m \u001b[39mwith\u001b[39;00m _open_file_like(f, \u001b[39m'\u001b[39;49m\u001b[39mrb\u001b[39;49m\u001b[39m'\u001b[39;49m) \u001b[39mas\u001b[39;00m opened_file:\n\u001b[1;32m    792\u001b[0m     \u001b[39mif\u001b[39;00m _is_zipfile(opened_file):\n\u001b[1;32m    793\u001b[0m         \u001b[39m# The zipfile reader is going to advance the current file position.\u001b[39;00m\n\u001b[1;32m    794\u001b[0m         \u001b[39m# If we want to actually tail call to torch.jit.load, we need to\u001b[39;00m\n\u001b[1;32m    795\u001b[0m         \u001b[39m# reset back to the original position.\u001b[39;00m\n\u001b[1;32m    796\u001b[0m         orig_position \u001b[39m=\u001b[39m opened_file\u001b[39m.\u001b[39mtell()\n",
      "File \u001b[0;32m~/miniconda3/envs/loss_landscape/lib/python3.8/site-packages/torch/serialization.py:271\u001b[0m, in \u001b[0;36m_open_file_like\u001b[0;34m(name_or_buffer, mode)\u001b[0m\n\u001b[1;32m    269\u001b[0m \u001b[39mdef\u001b[39;00m \u001b[39m_open_file_like\u001b[39m(name_or_buffer, mode):\n\u001b[1;32m    270\u001b[0m     \u001b[39mif\u001b[39;00m _is_path(name_or_buffer):\n\u001b[0;32m--> 271\u001b[0m         \u001b[39mreturn\u001b[39;00m _open_file(name_or_buffer, mode)\n\u001b[1;32m    272\u001b[0m     \u001b[39melse\u001b[39;00m:\n\u001b[1;32m    273\u001b[0m         \u001b[39mif\u001b[39;00m \u001b[39m'\u001b[39m\u001b[39mw\u001b[39m\u001b[39m'\u001b[39m \u001b[39min\u001b[39;00m mode:\n",
      "File \u001b[0;32m~/miniconda3/envs/loss_landscape/lib/python3.8/site-packages/torch/serialization.py:252\u001b[0m, in \u001b[0;36m_open_file.__init__\u001b[0;34m(self, name, mode)\u001b[0m\n\u001b[1;32m    251\u001b[0m \u001b[39mdef\u001b[39;00m \u001b[39m__init__\u001b[39m(\u001b[39mself\u001b[39m, name, mode):\n\u001b[0;32m--> 252\u001b[0m     \u001b[39msuper\u001b[39m()\u001b[39m.\u001b[39m\u001b[39m__init__\u001b[39m(\u001b[39mopen\u001b[39;49m(name, mode))\n",
      "\u001b[0;31mFileNotFoundError\u001b[0m: [Errno 2] No such file or directory: '/data/tbaldi/checkpoint/bs1024_lr0.0015625/ECON_2b/small/net_1_best.pkl'"
     ]
    }
   ],
   "source": [
    "model_small = load_model(base_path, 1024, learning_rate, 8, 'small')\n",
    "data_module_small = get_data_module(1024)\n",
    "\n",
    "model_baseline = load_model(base_path, 1024, learning_rate, 2, 'small')\n",
    "data_module_baseline = get_data_module(1024)\n",
    "\n",
    "activation_layers=['encoder.relu1', 'encoder.relu2']\n",
    "\n",
    "metric = CKA(model_small, \n",
    "             data_module_small.test_dataloader(),\n",
    "             activation_layers=activation_layers)\n",
    "\n",
    "result = metric.compare(model_baseline, \n",
    "                        data_module_baseline.test_dataloader(), \n",
    "                        activation_layers)\n",
    "\n",
    "\n",
    "plot_cka_heatmap(result['cka_dist'], \n",
    "                 f\"ECON BS: {batch_size} LR: {learning_rate} size: {size}\\n 8 bit VS 2 bit\",\n",
    "                 x_label='model 2',\n",
    "                 y_label='model 1')"
   ]
  },
  {
   "cell_type": "markdown",
   "metadata": {},
   "source": [
    "## Neural Efficiency"
   ]
  },
  {
   "cell_type": "code",
   "execution_count": null,
   "metadata": {},
   "outputs": [
    {
     "name": "stdout",
     "output_type": "stream",
     "text": [
      "Loaded shaped data shape: (1740950, 1, 8, 8)\n",
      "Loaded shaped data datatype: float32\n",
      "Loading the EMD...\n"
     ]
    }
   ],
   "source": [
    "model = load_model(base_path, 1024, 0.003125, 8, 'small')\n",
    "data_module = get_data_module(1)\n",
    "emd = compute_EMD(1024, 0.003125, 'small', 8)"
   ]
  },
  {
   "cell_type": "code",
   "execution_count": null,
   "metadata": {},
   "outputs": [
    {
     "name": "stdout",
     "output_type": "stream",
     "text": [
      "Computing the Neural efficiency...\n"
     ]
    },
    {
     "name": "stderr",
     "output_type": "stream",
     "text": [
      "/home/tbaldi/loss_landscape_taxonomy/workspace/common/metrics/neural_efficiency.py:95: UserWarning: Attention: the layer conv has tuple as features!\n",
      "  warnings.warn(f\"Attention: the layer \" + name + \" has tuple as features!\")\n",
      "/home/tbaldi/loss_landscape_taxonomy/workspace/common/metrics/neural_efficiency.py:91: UserWarning: Attention: the layer conv.conv has None features!\n",
      "  warnings.warn(f\"Attention: the layer \" + name + \" has None features!\")\n"
     ]
    }
   ],
   "source": [
    "metric = NeuralEfficiency(model.encoder, data_module.test_dataloader(), performance=emd)\n",
    "result = metric.compute(beta=-2)\n",
    "\n",
    "result"
   ]
  },
  {
   "cell_type": "code",
   "execution_count": null,
   "metadata": {},
   "outputs": [
    {
     "data": {
      "image/png": "[encoded data removed]",
      "text/plain": [
       "<Figure size 640x480 with 1 Axes>"
      ]
     },
     "metadata": {},
     "output_type": "display_data"
    }
   ],
   "source": [
    "def plot_neural_efficiency_per_layer(neural_efficiency_values, \n",
    "                                     title, \n",
    "                                     x_label='Layers', \n",
    "                                     y_label='Efficiency'):\n",
    "    # Create a heatmap\n",
    "    plt.bar(neural_efficiency_values.keys(), \n",
    "            neural_efficiency_values.values())\n",
    "\n",
    "    plt.ylim(0, 1)\n",
    "    \n",
    "    plt.xlabel(x_label)\n",
    "    plt.ylabel(y_label)\n",
    "    plt.title(title)\n",
    "\n",
    "    # Display the plot\n",
    "    plt.show()\n",
    "    \n",
    "\n",
    "plot_neural_efficiency_per_layer(result['layers_efficiency'], 'ECON')"
   ]
  }
 ],
 "metadata": {
  "kernelspec": {
   "display_name": "loss_landscape",
   "language": "python",
   "name": "python3"
  },
  "language_info": {
   "codemirror_mode": {
    "name": "ipython",
    "version": 3
   },
   "file_extension": ".py",
   "mimetype": "text/x-python",
   "name": "python",
   "nbconvert_exporter": "python",
   "pygments_lexer": "ipython3",
   "version": "3.8.12"
  }
 },
 "nbformat": 4,
 "nbformat_minor": 2
}
